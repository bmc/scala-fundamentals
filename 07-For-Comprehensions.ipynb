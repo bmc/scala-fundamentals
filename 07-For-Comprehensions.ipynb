{
 "cells": [
  {
   "cell_type": "markdown",
   "metadata": {},
   "source": [
    "# _Scala Fundamentals_\n",
    "# 7. For Comprehensions\n",
    "\n",
    "_This module was originally developed by Marcus Henry, Jr. It has been updated and modified since he wrote it._\n",
    "\n",
    "## More than just a `for` loop\n",
    "\n",
    "Let's start by considering a simple sequence of numbers."
   ]
  },
  {
   "cell_type": "code",
   "execution_count": null,
   "metadata": {},
   "outputs": [],
   "source": [
    "val numbers = 1 to 21 by 3"
   ]
  },
  {
   "cell_type": "markdown",
   "metadata": {},
   "source": [
    "We can use the `for` statement to loop over this sequence:"
   ]
  },
  {
   "cell_type": "code",
   "execution_count": null,
   "metadata": {},
   "outputs": [],
   "source": [
    "for (i <- 0 until numbers.size) println(i)\n",
    "\n",
    "val copy = collection.mutable.Buffer.empty[Int]\n",
    "for (i <- 0 until numbers.size) {\n",
    "  val item = numbers(i)\n",
    "  copy += item\n",
    "}\n",
    "\n",
    "println(numbers)\n",
    "println(copy)"
   ]
  },
  {
   "cell_type": "markdown",
   "metadata": {},
   "source": [
    "### Indexing isn't necessary\n",
    "\n",
    "We can iterate directly over the elements of the collection."
   ]
  },
  {
   "cell_type": "code",
   "execution_count": null,
   "metadata": {},
   "outputs": [],
   "source": [
    "val doubled = collection.mutable.Buffer.empty[Int]\n",
    "for (num <- numbers) {\n",
    "  doubled += num * 2\n",
    "}\n",
    "\n",
    "println(doubled)"
   ]
  },
  {
   "cell_type": "markdown",
   "metadata": {},
   "source": [
    "### No need for nested loops\n",
    "\n",
    "The `for` loop supports nested loops in a pleasing syntax:"
   ]
  },
  {
   "cell_type": "code",
   "execution_count": null,
   "metadata": {},
   "outputs": [],
   "source": [
    "val moreNumbers = 10 to 1 by -3\n",
    "\n",
    "// Syntax quirk: You have to use curly braces, instead of\n",
    "// parentheses, if you want multiple lines without semicolons.\n",
    "for { m <- numbers.take(3)\n",
    "      n <- moreNumbers } {\n",
    "  println(s\"$m * $n = ${m * n}\")\n",
    "}"
   ]
  },
  {
   "cell_type": "code",
   "execution_count": null,
   "metadata": {},
   "outputs": [],
   "source": [
    "val evenMoreNumbers = (1 to 10).map { _ => scala.util.Random.nextInt(20) + 1 }\n",
    "var bigNumber = BigInt(1)\n",
    "for { i <- numbers\n",
    "      j <- moreNumbers\n",
    "      k <- evenMoreNumbers }\n",
    "  bigNumber = bigNumber * i * j * k\n",
    "\n",
    "println(bigNumber)"
   ]
  },
  {
   "cell_type": "markdown",
   "metadata": {},
   "source": [
    "### It's sweet syntactic sugar\n",
    "\n",
    "- This kind of `for` loop is really syntactic sugar for a `foreach` function.\n",
    "- `foreach` is defined on every collection."
   ]
  },
  {
   "cell_type": "code",
   "execution_count": null,
   "metadata": {},
   "outputs": [],
   "source": [
    "// for (i <- numbers) println(i)\n",
    "numbers.foreach { i => println(i) }\n",
    "\n",
    "var multiplied = collection.mutable.Buffer.empty[Int]\n",
    "// for { i <- numbers.take(3)\n",
    "//       j <- moreNumbers }\n",
    "//   multiplied += i * j\n",
    "numbers.take(3).foreach { i => \n",
    "  moreNumbers.foreach { j =>\n",
    "    multiplied += i * j\n",
    "  }\n",
    "}"
   ]
  },
  {
   "cell_type": "markdown",
   "metadata": {},
   "source": [
    "### Can we do this without a `var`?\n",
    "\n",
    "`foreach` returns Unit, so a `for` loop, like the above, can only produce side effects.\n",
    "\n",
    "- Printing is a side effect.\n",
    "- Storing a computed value in a mutable buffer is a side effect.\n",
    "\n",
    "By contrast, a `for` _comprehension_ is a form that can return, or _yield_, a value.\n",
    "\n",
    "The general form is:\n",
    "\n",
    "```\n",
    "for <expressions> yield <expression>\n",
    "```\n",
    "\n",
    "Here are some examples:"
   ]
  },
  {
   "cell_type": "code",
   "execution_count": null,
   "metadata": {},
   "outputs": [],
   "source": [
    "val doubled = for (num <- numbers) yield num * 2\n",
    "\n",
    "val multiplied = for { \n",
    "  i <- numbers\n",
    "  j <- moreNumbers } \n",
    "yield i * j"
   ]
  },
  {
   "cell_type": "markdown",
   "metadata": {},
   "source": [
    "Not only is this approach better than manually appending to a mutable buffer, _it's easier to read_.\n",
    "\n",
    "### Guard conditions\n",
    "\n",
    "We can also filter our results _while_ looping:"
   ]
  },
  {
   "cell_type": "code",
   "execution_count": null,
   "metadata": {},
   "outputs": [],
   "source": [
    "val evens = for (i <- numbers if i % 2 == 0) yield i\n",
    "\n",
    "val multipliedOdds = for { i <- numbers if i % 2 != 0\n",
    "                           j <- moreNumbers if j % 2 != 0} yield i * j"
   ]
  },
  {
   "cell_type": "markdown",
   "metadata": {},
   "source": [
    "### `yield` can take a block\n",
    "\n",
    "If you have to do more than a simple computation to yield a result, use a block:"
   ]
  },
  {
   "cell_type": "code",
   "execution_count": null,
   "metadata": {},
   "outputs": [],
   "source": [
    "for (i <- numbers) yield {\n",
    "  if (i % 2 == 0)\n",
    "    i + 1\n",
    "  else\n",
    "    i + 3\n",
    "}"
   ]
  },
  {
   "cell_type": "markdown",
   "metadata": {},
   "source": [
    "### It's just more sweetness\n",
    "\n",
    "Once again, this is just syntactic sugar for `map`, `flatMap` and `withFilter`.\n",
    "\n",
    "(`withFilter` is just a special form of `filter`.)\n",
    "\n",
    "Let's try to build a comprehension with `map`."
   ]
  },
  {
   "cell_type": "code",
   "execution_count": null,
   "metadata": {},
   "outputs": [],
   "source": [
    "val myFirstAttempt = numbers.take(3).map { i =>\n",
    "  moreNumbers.map { j =>\n",
    "    i * j\n",
    "  }\n",
    "}"
   ]
  },
  {
   "cell_type": "markdown",
   "metadata": {},
   "source": [
    "Oh. That doesn't look right. We didn't get a single sequence back; we got a sequence of sequences.\n",
    "Now we have to flatten it.\n",
    "\n",
    "Hmm... Maybe we should just use `flatMap`:"
   ]
  },
  {
   "cell_type": "code",
   "execution_count": null,
   "metadata": {},
   "outputs": [],
   "source": [
    "val mySecondAttempt = numbers.take(3).flatMap { i =>\n",
    "  moreNumbers.map { j =>\n",
    "    i * j\n",
    "  }\n",
    "}"
   ]
  },
  {
   "cell_type": "markdown",
   "metadata": {},
   "source": [
    "So, multiple loop expressions in a `for` comprehension effectively behave like:\n",
    "\n",
    "- `flatMap` calls for all expressions _except_ the last (inner-most) one\n",
    "- a `map` call for the inner-most expression\n",
    "\n",
    "### What about guards?"
   ]
  },
  {
   "cell_type": "code",
   "execution_count": null,
   "metadata": {},
   "outputs": [],
   "source": [
    "val evens1 = for (i <- numbers if i % 2 == 0) yield i * 2\n",
    "\n",
    "val evens2 = numbers.withFilter { i => i % 2 == 0 }.map { i => i * 2}"
   ]
  },
  {
   "cell_type": "code",
   "execution_count": null,
   "metadata": {},
   "outputs": [],
   "source": [
    "val multOdds1 = for { \n",
    "  i <- numbers if i % 2 == 1\n",
    "  j <- moreNumbers if j % 2 == 1 \n",
    "} \n",
    "yield i * j\n",
    "\n",
    "val multOdds2 = numbers.withFilter { i => i % 2 == 1 }.flatMap { i =>\n",
    "  moreNumbers.withFilter { j => j % 2 == 1 }.map { j =>\n",
    "    i * j\n",
    "  }\n",
    "}\n",
    "\n",
    "println(multOdds1 == multOdds2)"
   ]
  },
  {
   "cell_type": "markdown",
   "metadata": {},
   "source": [
    "### Recap\n",
    "\n",
    "- `for` without `yield` is just syntactic sugar for one or more (nested) `foreach` calls.\n",
    "- `for` _with_ `yield` is just syntactic sugar for a combination of `flatMap`, `map`, and (optionally) `withFilter`.\n",
    "- Using `for` is often much more readable and more compact than manually composing `flatMap`, `map`, and `withFilter` (or `filter`) calls."
   ]
  },
  {
   "cell_type": "markdown",
   "metadata": {},
   "source": [
    "## Exercise 7.1\n",
    "\n",
    "Convert the following to `for` comprehensions. Run the test cell (with the `assert` calls) to verify your solutions."
   ]
  },
  {
   "cell_type": "code",
   "execution_count": null,
   "metadata": {},
   "outputs": [],
   "source": [
    "val seq = 0 to 4\n",
    "\n",
    "val result1a = seq.flatMap { i =>\n",
    "  (0 to i by 3).withFilter { j => j % 2 == 1 }.map { j =>\n",
    "    j + i\n",
    "  }\n",
    "}\n"
   ]
  },
  {
   "cell_type": "code",
   "execution_count": null,
   "metadata": {},
   "outputs": [],
   "source": [
    "// Complete this for comprehension\n",
    "val result1b = for { \n",
    "  /* fill this in */ \n",
    "}\n",
    "yield /* fill this in */"
   ]
  },
  {
   "cell_type": "code",
   "execution_count": null,
   "metadata": {},
   "outputs": [],
   "source": [
    "// ANSWER\n",
    "val result1b = for {\n",
    "  i <- seq\n",
    "  j <- 0 to i by 3 if j % 2 == 1 \n",
    "}\n",
    "yield j + i"
   ]
  },
  {
   "cell_type": "code",
   "execution_count": null,
   "metadata": {},
   "outputs": [],
   "source": [
    "val result2a = seq.flatMap(i => (i to 5)).withFilter(j => j % 3 != 1).map {j => j * 2}"
   ]
  },
  {
   "cell_type": "code",
   "execution_count": null,
   "metadata": {},
   "outputs": [],
   "source": [
    "// Complete this for comprehension\n",
    "val result2b = for { \n",
    "  /* fill this in */ \n",
    "} \n",
    "yield /* fill this in */"
   ]
  },
  {
   "cell_type": "code",
   "execution_count": null,
   "metadata": {},
   "outputs": [],
   "source": [
    "// ANSWER\n",
    "val result2b = for {\n",
    "  i <- seq\n",
    "  j <- i to 5 if j % 3 != 1\n",
    "}\n",
    "yield j * 2"
   ]
  },
  {
   "cell_type": "code",
   "execution_count": null,
   "metadata": {},
   "outputs": [],
   "source": [
    "// TEST YOUR SOLUTIONS HERE\n",
    "\n",
    "assert(result1a == result1b)\n",
    "assert(result2a == result2b)"
   ]
  },
  {
   "cell_type": "markdown",
   "metadata": {},
   "source": [
    "## You can pattern-match, too!"
   ]
  },
  {
   "cell_type": "code",
   "execution_count": null,
   "metadata": {},
   "outputs": [],
   "source": [
    "val range = (0 to 2)\n",
    "\n",
    "// Map the sequence into a sequence of 2-tuples\n",
    "val seq1 = for {\n",
    "  i1 <- range\n",
    "  i2 <- range\n",
    "}\n",
    "yield (i1, i2)\n",
    "\n",
    "// Watch how we destructure the 2-tuples while looping\n",
    "val seq2 = for {\n",
    "  (i1, i2) <- seq1 if ((i1 % 2) == 0 || (i2 % 2) == 1)\n",
    "// ^^^^^^ destructuring via pattern matching\n",
    "}\n",
    "yield i1 + i2\n"
   ]
  },
  {
   "cell_type": "markdown",
   "metadata": {},
   "source": [
    "## Temporary (local) variables\n",
    "\n",
    "Consider this `for` comprehension:"
   ]
  },
  {
   "cell_type": "code",
   "execution_count": null,
   "metadata": {},
   "outputs": [],
   "source": [
    "val seq1 = for {\n",
    "  i1 <- range\n",
    "  i2 <- range if (i1 + i2) % 2 == 0\n",
    "}\n",
    "yield i1 + i2"
   ]
  },
  {
   "cell_type": "markdown",
   "metadata": {},
   "source": [
    "Note that we're calculating `i1 + i2` _twice_, which is inefficient.\n",
    "\n",
    "This problem is simple to solve, though, with the addition of one more `for` feature:"
   ]
  },
  {
   "cell_type": "code",
   "execution_count": null,
   "metadata": {},
   "outputs": [],
   "source": [
    "val seq2 = for {\n",
    "  i1  <- range\n",
    "  i2  <- range \n",
    "  sum  = i1 + i2\n",
    "  if sum %2 == 0\n",
    "}\n",
    "yield sum"
   ]
  },
  {
   "cell_type": "markdown",
   "metadata": {},
   "source": [
    "(Guard conditions don't need to be \"attached to\", or adjacent to, a loop expression.)"
   ]
  },
  {
   "cell_type": "markdown",
   "metadata": {},
   "source": [
    "## `for` and `Option`\n",
    "\n",
    "Because of the way `for` is desugared, it has some interesting properties. Consider the following:"
   ]
  },
  {
   "cell_type": "code",
   "execution_count": null,
   "metadata": {},
   "outputs": [],
   "source": [
    "val ages = Map(\n",
    "  \"Joe\" -> 12,\n",
    "  \"Joanna\" -> 23,\n",
    "  \"Franklin\" -> 43,\n",
    "  \"Amir\" -> 38\n",
    ")\n",
    "\n",
    "// Recall that Map.get returns an option\n",
    "\n",
    "val combinedAges = for {\n",
    "  age1 <- ages.get(\"Joe\")\n",
    "  age2 <- ages.get(\"Joanna\")\n",
    "  age3 <- ages.get(\"Amir\")\n",
    "}\n",
    "yield age1 + age2 + age3"
   ]
  },
  {
   "cell_type": "markdown",
   "metadata": {},
   "source": [
    "It looks like the loop \"unpacked\" the `Option` values, then repacked them.\n",
    "\n",
    "Implementing it by hand shows why that's the case. But recall what happens with `Option.map` first:"
   ]
  },
  {
   "cell_type": "code",
   "execution_count": null,
   "metadata": {},
   "outputs": [],
   "source": [
    "val opt1: Option[String] = Some(\"10\")\n",
    "val opt2: Option[String] = None\n",
    "\n",
    "val n1 = opt1.map(_.toInt)\n",
    "val n2 = opt2.map(_.toInt)\n"
   ]
  },
  {
   "cell_type": "code",
   "execution_count": null,
   "metadata": {},
   "outputs": [],
   "source": [
    "// Now, our comprehension, desugared:\n",
    "ages.get(\"Joe\").flatMap { age1 =>\n",
    "  // We only get here if ages.get(\"Joe\") returned a Some\n",
    "  ages.get(\"Joanna\").flatMap { age2 =>\n",
    "    // Ditto.\n",
    "    ages.get(\"Amir\").map { age3 =>\n",
    "      age1 + age2 + age3\n",
    "    }\n",
    "  }\n",
    "}"
   ]
  },
  {
   "cell_type": "markdown",
   "metadata": {},
   "source": [
    "What happens if one of the `get` calls returns a `None`?"
   ]
  },
  {
   "cell_type": "code",
   "execution_count": null,
   "metadata": {},
   "outputs": [],
   "source": [
    "val combinedAges2 = for {\n",
    "  age1 <- ages.get(\"Joe\")\n",
    "  age2 <- ages.get(\"Josephine\")\n",
    "  age3 <- ages.get(\"Amir\")\n",
    "}\n",
    "yield age1 + age2 + age3"
   ]
  },
  {
   "cell_type": "markdown",
   "metadata": {},
   "source": [
    "Wow! It's as if the `None` short-circuited the loop!\n",
    "\n",
    "- This happens because the inner `flatMap` on `ages.get(\"Josephine\")` (`None`) doesn't do anything.\n",
    "- The remaining inner `map` call doesn't fire, because the `flatMap` on \"Josephine\" doesn't execute.\n",
    "\n",
    "**For this to work, all the loops have to return the same type of \"container\".**\n",
    "\n",
    "This pattern works with _many_ Scala types. Here are two common examples of types that are designed to work with\n",
    "`for` comprehensions (and to \"short-circuit\"):\n",
    "\n",
    "`scala.util.Try` \n",
    "\n",
    "- `Try` traps any exception in a block of code and returns it in a `Failure`. \n",
    "- It returns a `Success` containing the result of the block if no exception is thrown.\n",
    "- for-comprehending over multiple `Try` values \"short-circuits\" on the first `Failure`, which is yielded back.\n",
    "\n",
    "\n"
   ]
  },
  {
   "cell_type": "code",
   "execution_count": null,
   "metadata": {},
   "outputs": [],
   "source": [
    "import scala.util.Try\n",
    "\n",
    "val try1 = for {\n",
    "  i1 <- Try { \"10\".toInt }\n",
    "  i2 <- Try { \"20\".toInt }\n",
    "  i3 <- Try { \"30\".toInt }\n",
    "}\n",
    "yield i1 + i2 + i3\n",
    "\n",
    "val try2 = for {\n",
    "  i1 <- Try { \"10\".toInt }\n",
    "  i2 <- Try { \"20a\".toInt }\n",
    "  i3 <- Try { \"30\".toInt }\n",
    "}\n",
    "yield i1 + i2 + i3"
   ]
  },
  {
   "cell_type": "markdown",
   "metadata": {},
   "source": [
    "`scala.concurrent.Future`\n",
    "\n",
    "- Designed to run a block of code asynchronously.\n",
    "- Contains a `Success` if the block completes.\n",
    "- Contains a `Failure` on error.\n",
    "- The first `Failure` short-circuits the loop."
   ]
  },
  {
   "cell_type": "code",
   "execution_count": null,
   "metadata": {},
   "outputs": [],
   "source": [
    "import scala.concurrent.{Future, Await}\n",
    "import scala.concurrent.duration._\n",
    "import scala.concurrent.ExecutionContext.Implicits.global\n",
    "\n",
    "// Don't sleep in Futures! This is just for demo purposes.\n",
    "\n",
    "val f1 = Future { Thread.sleep(500) ; 10 }\n",
    "val f2 = Future { Thread.sleep(1000); 20 }\n",
    "val f3 = Future { Thread.sleep(750); 30 }\n",
    "\n",
    "// All three futures could be running right now.\n",
    "\n",
    "val resF = for {\n",
    "  i <- f1\n",
    "  j <- f2\n",
    "  k <- f3\n",
    "}\n",
    "yield i + j + k\n",
    "\n",
    "// In a real application, you would never wait on a Future. You'd\n",
    "// use its callback mechanism to fire more computation. We're waiting\n",
    "// here, because it makes for a better demo.\n",
    "\n",
    "val res = Await.ready(resF, 2.seconds)"
   ]
  },
  {
   "cell_type": "code",
   "execution_count": null,
   "metadata": {},
   "outputs": [],
   "source": [
    "// Now a failure.\n",
    "\n",
    "import scala.concurrent.{Future, Await}\n",
    "import scala.concurrent.duration._\n",
    "import scala.concurrent.ExecutionContext.Implicits.global\n",
    "\n",
    "// Don't sleep in Futures! This is just for demo purposes.\n",
    "\n",
    "val f1 = Future { Thread.sleep(500) ; 10 }\n",
    "val f2 = Future { Thread.sleep(1000); throw new Exception(\"Math failure!\") }\n",
    "val f3 = Future { Thread.sleep(750); 30 }\n",
    "\n",
    "// All three futures could be running right now.\n",
    "\n",
    "val resF = for {\n",
    "  i <- f1\n",
    "  j <- f2\n",
    "  k <- f3\n",
    "}\n",
    "yield i + j + k\n",
    "\n",
    "// In a real application, you would never wait on a Future. You'd\n",
    "// use its callback mechanism to fire more computation. We're waiting\n",
    "// here, because it makes for a better demo.\n",
    "\n",
    "val res = Await.ready(resF, 2.seconds)"
   ]
  },
  {
   "cell_type": "markdown",
   "metadata": {},
   "source": [
    "![!](http://i.imgur.com/TvgcpDH.png) **Don't make this common mistake!**\n",
    "\n",
    "If you code the above loop as follows, the futures don't all run in parallel. The first\n",
    "future has to complete before the second one can start, etc.\n",
    "\n",
    "```scala\n",
    "val resF = for {\n",
    "  i <- Future { ... }\n",
    "  j <- Future { ... }\n",
    "  k <- Future { ... }\n",
    "}\n",
    "yield i + j + k\n",
    "```\n",
    "\n",
    "![?](http://i.imgur.com/Guv4TBn.png) Why is that true?"
   ]
  },
  {
   "cell_type": "markdown",
   "metadata": {},
   "source": [
    "## You can build your own"
   ]
  },
  {
   "cell_type": "code",
   "execution_count": null,
   "metadata": {},
   "outputs": [],
   "source": [
    "object MyComprehendibleThing {\n",
    "  \n",
    "  class GuessingGame[A](values: Seq[A]) {\n",
    "    def doYouHave(a: A): Boolean = values.contains(a)\n",
    "    override val toString: String = s\"GuessingGame($values)\"\n",
    "    \n",
    "    def map[B](f: A => B) = new GuessingGame(values.map(f))\n",
    "    def flatMap[B](f: A => Seq[B]) = new GuessingGame(values.flatMap(f))\n",
    "    def withFilter(f: A => Boolean) = new GuessingGame(values.filter(f))\n",
    "  }\n",
    "  \n",
    "  def apply(): Unit = {\n",
    "    val game = new GuessingGame(Seq(1, 2, 3, 9, 21, 100))\n",
    "    \n",
    "    println(s\"game=$game\")\n",
    "    println(\"have 21: \" + game.doYouHave(21) + \"; have 19: \" + game.doYouHave(19))\n",
    "    \n",
    "    //I want a guessing game with double the values added\n",
    "    //holding onto only even values but as Strings\n",
    "    val newGame = for{\n",
    "      i <- game\n",
    "      j <- Seq(i, i * 2) if(0 == (j % 2))\n",
    "    }\n",
    "    yield{\n",
    "      j.toString()\n",
    "    }\n",
    "    \n",
    "    println(s\"newGame=$newGame\")\n",
    "    println(\"have 42: \" + newGame.doYouHave(\"42\") + \"; have 19: \" + newGame.doYouHave(\"19\"))\n",
    "  }\n",
    "}\n",
    "\n",
    "MyComprehendibleThing()"
   ]
  },
  {
   "cell_type": "markdown",
   "metadata": {},
   "source": [
    "## Summary\n",
    "\n",
    "- `for` comprehensions make operating on collections more readable.\n",
    "- `for` comprehensions are syntactic sugar for `map`, `flatMap`, `withFilter` (for `foreach`, if you don't use `yield`).\n",
    "- Since they desugar to lambda functions, assignments and pattern matching can be used.\n",
    "- Since `for` comprehensions are syntactic sugar for methods on classes:\n",
    "    - We can use any class which defines these operations in a `for` comprehension.\n",
    "    - We can define our own classes that can be used in `for` comprehensions."
   ]
  },
  {
   "cell_type": "code",
   "execution_count": null,
   "metadata": {},
   "outputs": [],
   "source": []
  }
 ],
 "metadata": {
  "kernelspec": {
   "display_name": "Scala 2.11",
   "language": "scala",
   "name": "scala211"
  },
  "language_info": {
   "codemirror_mode": "text/x-scala",
   "file_extension": ".scala",
   "mimetype": "text/x-scala",
   "name": "scala",
   "nbconvert_exporter": "script",
   "version": "2.11.12"
  }
 },
 "nbformat": 4,
 "nbformat_minor": 2
}
