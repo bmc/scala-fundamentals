{
 "cells": [
  {
   "cell_type": "markdown",
   "metadata": {},
   "source": [
    "# _Scala Fundamentals_\n",
    "# Miscellany\n",
    "\n",
    "_This module was originally developed by Marcus Henry, Jr. It has been updated and expanded a bit._\n",
    "\n",
    "## Basic uses for packages and types in Scala\n",
    "\n",
    "### Packages\n",
    "\n",
    "- How to define a package\n",
    "- How to access members of a package\n",
    "- How to pull members of a package into scope\n",
    "\n",
    "### Types\n",
    "\n",
    "- What expressions in Scala are objects and what expressions are not objects\n",
    "- The Scala type hierarchy"
   ]
  },
  {
   "cell_type": "markdown",
   "metadata": {},
   "source": [
    "## Packages in the wild\n",
    "\n",
    "These aren't in code cells, because there's no real way to define\n",
    "packages in the Ammonite REPL. (In the Scala REPL, you can do it,\n",
    "but you have to use the special `:paste` command.)\n",
    "\n",
    "### Create a package with some contents\n",
    "\n",
    "Formal syntax\n",
    "\n",
    "```scala\n",
    "package org.example.outer {\n",
    "  package inner {\n",
    "    object Something\n",
    "    object Something1\n",
    "    object Something2\n",
    "    object Something3\n",
    "    object Something4\n",
    "    object Something5\n",
    "  }\n",
    "}\n",
    "```\n",
    "\n",
    "There are some esoteric reasons to use that syntax. But we usually use a more compact syntax:\n",
    "\n",
    "```scala\n",
    "package org.example.outer.inner\n",
    "\n",
    "object Something\n",
    "object Something1\n",
    "object Something2\n",
    "object Something3\n",
    "object Something4\n",
    "object Something5\n",
    "```\n",
    "\n",
    "Let's access some values in an existing package, [`scala.math`](https://www.scala-lang.org/files/archive/api/2.13.0/scala/math/index.html)."
   ]
  },
  {
   "cell_type": "code",
   "execution_count": 5,
   "metadata": {},
   "outputs": [
    {
     "data": {
      "text/plain": [
       "\u001b[36mres4_0\u001b[39m: \u001b[32mInt\u001b[39m = \u001b[32m20\u001b[39m\n",
       "\u001b[36mres4_1\u001b[39m: \u001b[32mDouble\u001b[39m = \u001b[32m27.0\u001b[39m\n",
       "\u001b[36mres4_2\u001b[39m: \u001b[32mDouble\u001b[39m = \u001b[32m-0.8390715290764524\u001b[39m\n",
       "\u001b[36mres4_3\u001b[39m: \u001b[32mInt\u001b[39m = \u001b[32m100\u001b[39m\n",
       "\u001b[36mres4_4\u001b[39m: \u001b[32mDouble\u001b[39m = \u001b[32m1.4142135623730951\u001b[39m"
      ]
     },
     "execution_count": 5,
     "metadata": {},
     "output_type": "execute_result"
    }
   ],
   "source": [
    "scala.math.max(10, 20)\n",
    "scala.math.pow(3, 3)\n",
    "scala.math.cos(10.0)\n",
    "scala.math.abs(-100)\n",
    "scala.math.sqrt(2)"
   ]
  },
  {
   "cell_type": "markdown",
   "metadata": {},
   "source": [
    "## Imports\n",
    "\n",
    "Obviously, it's tedious to type the full package name every time.\n",
    "\n",
    "### Importing the package\n",
    "\n",
    "We can shorten it by importing `scala.math`."
   ]
  },
  {
   "cell_type": "code",
   "execution_count": 7,
   "metadata": {},
   "outputs": [
    {
     "data": {
      "text/plain": [
       "\u001b[32mimport \u001b[39m\u001b[36mscala.math\n",
       "\u001b[39m\n",
       "\u001b[36mres6_1\u001b[39m: \u001b[32mInt\u001b[39m = \u001b[32m20\u001b[39m\n",
       "\u001b[36mres6_2\u001b[39m: \u001b[32mDouble\u001b[39m = \u001b[32m27.0\u001b[39m\n",
       "\u001b[36mres6_3\u001b[39m: \u001b[32mDouble\u001b[39m = \u001b[32m-0.8390715290764524\u001b[39m\n",
       "\u001b[36mres6_4\u001b[39m: \u001b[32mInt\u001b[39m = \u001b[32m100\u001b[39m\n",
       "\u001b[36mres6_5\u001b[39m: \u001b[32mDouble\u001b[39m = \u001b[32m1.4142135623730951\u001b[39m"
      ]
     },
     "execution_count": 7,
     "metadata": {},
     "output_type": "execute_result"
    }
   ],
   "source": [
    "import scala.math\n",
    "math.max(10, 20)\n",
    "math.pow(3, 3)\n",
    "math.cos(10.0)\n",
    "math.abs(-100)\n",
    "math.sqrt(2)"
   ]
  },
  {
   "cell_type": "markdown",
   "metadata": {},
   "source": [
    "### Importing specific members\n",
    "\n",
    "We can also import specific members — functions, values, and subpackages, if there are any."
   ]
  },
  {
   "cell_type": "code",
   "execution_count": 8,
   "metadata": {},
   "outputs": [
    {
     "data": {
      "text/plain": [
       "\u001b[32mimport \u001b[39m\u001b[36mscala.math.max // import just one member\n",
       "\u001b[39m\n",
       "\u001b[32mimport \u001b[39m\u001b[36mscala.math.{pow, cos, sqrt} // import multiple specific members\n",
       "\n",
       "\u001b[39m\n",
       "\u001b[36mres7_2\u001b[39m: \u001b[32mInt\u001b[39m = \u001b[32m20\u001b[39m\n",
       "\u001b[36mres7_3\u001b[39m: \u001b[32mDouble\u001b[39m = \u001b[32m32.0\u001b[39m\n",
       "\u001b[36mres7_4\u001b[39m: \u001b[32mDouble\u001b[39m = \u001b[32m0.28366218546322625\u001b[39m\n",
       "\u001b[36mres7_5\u001b[39m: \u001b[32mDouble\u001b[39m = \u001b[32m1.7320508075688772\u001b[39m"
      ]
     },
     "execution_count": 8,
     "metadata": {},
     "output_type": "execute_result"
    }
   ],
   "source": [
    "import scala.math.max // import just one member\n",
    "import scala.math.{pow, cos, sqrt} // import multiple specific members\n",
    "\n",
    "max(10, 20)\n",
    "pow(2, 5)\n",
    "cos(5)\n",
    "sqrt(3)"
   ]
  },
  {
   "cell_type": "markdown",
   "metadata": {},
   "source": [
    "### Importing all members (wildcard import)\n",
    "\n",
    "More underscore abuse."
   ]
  },
  {
   "cell_type": "code",
   "execution_count": 10,
   "metadata": {},
   "outputs": [
    {
     "data": {
      "text/plain": [
       "\u001b[32mimport \u001b[39m\u001b[36mscala.math._\n",
       "\n",
       "\u001b[39m\n",
       "\u001b[36mres9_1\u001b[39m: \u001b[32mDouble\u001b[39m = \u001b[32m0.1411200080598672\u001b[39m\n",
       "\u001b[36mres9_2\u001b[39m: \u001b[32mDouble\u001b[39m = \u001b[32m-3.380515006246586\u001b[39m\n",
       "\u001b[36mres9_3\u001b[39m: \u001b[32mDouble\u001b[39m = \u001b[32m2.0\u001b[39m"
      ]
     },
     "execution_count": 10,
     "metadata": {},
     "output_type": "execute_result"
    }
   ],
   "source": [
    "import scala.math._\n",
    "\n",
    "sin(3)\n",
    "tan(5)\n",
    "log10(100)"
   ]
  },
  {
   "cell_type": "markdown",
   "metadata": {},
   "source": [
    "### Import with rename\n",
    "\n",
    "We can import members and rename them, so they don't conflict with something else."
   ]
  },
  {
   "cell_type": "code",
   "execution_count": 14,
   "metadata": {},
   "outputs": [
    {
     "data": {
      "text/plain": [
       "defined \u001b[32mfunction\u001b[39m \u001b[36mmax\u001b[39m\n",
       "\u001b[36mres13_1\u001b[39m: \u001b[32mInt\u001b[39m = \u001b[32m100\u001b[39m"
      ]
     },
     "execution_count": 14,
     "metadata": {},
     "output_type": "execute_result"
    }
   ],
   "source": [
    "def max(nums: Int*): Int = nums.sorted.reverse.head\n",
    "\n",
    "max(1, 30, 100, 3)"
   ]
  },
  {
   "cell_type": "code",
   "execution_count": 15,
   "metadata": {},
   "outputs": [
    {
     "data": {
      "text/plain": [
       "\u001b[32mimport \u001b[39m\u001b[36mscala.math.{abs, max => mathmax}\n",
       "\n",
       "\u001b[39m\n",
       "\u001b[36mres14_1\u001b[39m: \u001b[32mInt\u001b[39m = \u001b[32m100\u001b[39m\n",
       "\u001b[36mres14_2\u001b[39m: \u001b[32mInt\u001b[39m = \u001b[32m1\u001b[39m"
      ]
     },
     "execution_count": 15,
     "metadata": {},
     "output_type": "execute_result"
    }
   ],
   "source": [
    "import scala.math.{abs, max => mathmax}\n",
    "\n",
    "max(1, 30, 100, 3)\n",
    "abs(mathmax(-1, -30))"
   ]
  },
  {
   "cell_type": "markdown",
   "metadata": {},
   "source": [
    "### Import everything but...\n",
    "\n",
    "Let's import everything from a package _except_ for one item.\n",
    "\n",
    "(Here's that underscore again.)"
   ]
  },
  {
   "cell_type": "code",
   "execution_count": 23,
   "metadata": {},
   "outputs": [
    {
     "data": {
      "text/plain": [
       "\u001b[32mimport \u001b[39m\u001b[36mjava.time.{Clock => _, _}\n",
       "\n",
       "\u001b[39m\n",
       "\u001b[36mres22_1\u001b[39m: \u001b[32mLocalTime\u001b[39m = 15:40:21.428\n",
       "\u001b[36mres22_2\u001b[39m: \u001b[32mZonedDateTime\u001b[39m = 2019-08-16T15:40:21.433Z[UTC]"
      ]
     },
     "execution_count": 23,
     "metadata": {},
     "output_type": "execute_result"
    }
   ],
   "source": [
    "import java.time.{Clock => _, _}\n",
    "\n",
    "LocalTime.now\n",
    "ZonedDateTime.now(ZoneId.of(\"UTC\"))\n",
    "\n",
    "// This would fail, because we excluded Clock from the import.\n",
    "//Clock.systemDefaultZone\n"
   ]
  },
  {
   "cell_type": "markdown",
   "metadata": {},
   "source": [
    "## Recap\n",
    "\n",
    "- Packages encapsulate data and functions helping to add some organization to the code.\n",
    "- Imports break this encalsulation allowing one package to access members of another.\n",
    "    - Imports can be compactified into single liners if necessary\n",
    "- The type system will not allow identical symbols to be used at the same time.\n",
    "    - Beware of name clashes (especially when importing with `_`)\n",
    "- We can mix and match symbols freely, as long as their names in scope are different"
   ]
  },
  {
   "cell_type": "markdown",
   "metadata": {},
   "source": [
    "## Imports don't have to be at the top of the file\n",
    "\n",
    "Imports can occur inside any block, which allows you to limit their scope."
   ]
  },
  {
   "cell_type": "code",
   "execution_count": 9,
   "metadata": {},
   "outputs": [
    {
     "data": {
      "text/plain": [
       "defined \u001b[32mfunction\u001b[39m \u001b[36msortByAbs\u001b[39m\n",
       "\u001b[36mres8_1\u001b[39m: \u001b[32mSeq\u001b[39m[\u001b[32mInt\u001b[39m] = \u001b[33mArrayBuffer\u001b[39m(\u001b[32m1\u001b[39m, \u001b[32m2\u001b[39m, \u001b[32m3\u001b[39m, \u001b[32m10\u001b[39m, \u001b[32m100\u001b[39m)\n",
       "\u001b[36mnow\u001b[39m: \u001b[32mjava\u001b[39m.\u001b[32mtime\u001b[39m.\u001b[32mZonedDateTime\u001b[39m = 2019-08-16T17:27:31.280Z[UTC]"
      ]
     },
     "execution_count": 9,
     "metadata": {},
     "output_type": "execute_result"
    }
   ],
   "source": [
    "def sortByAbs(nums: Int*): Seq[Int] = {\n",
    "  import scala.math.abs\n",
    "  \n",
    "  // abs is visible inside the function.\n",
    "  nums.map(abs).sorted\n",
    "}\n",
    "\n",
    "// abs is not visible here.\n",
    "\n",
    "sortByAbs(-1, 2, 10, -3, -100)\n",
    "\n",
    "val now = {\n",
    "  import java.time.{ZonedDateTime, ZoneId}\n",
    "  ZonedDateTime.now(ZoneId.of(\"UTC\"))\n",
    "}\n",
    "\n",
    "// ZonedDateTime and ZoneId aren't visible here."
   ]
  },
  {
   "cell_type": "markdown",
   "metadata": {},
   "source": [
    "## You can import from objects and classes\n",
    "\n",
    "Scala also permits importing from `object` singletons and instantiated objects.\n",
    "\n",
    "### Import from a singleton `object`"
   ]
  },
  {
   "cell_type": "code",
   "execution_count": 1,
   "metadata": {},
   "outputs": [
    {
     "data": {
      "text/plain": [
       "defined \u001b[32mobject\u001b[39m \u001b[36mMyMathStuff\u001b[39m"
      ]
     },
     "execution_count": 1,
     "metadata": {},
     "output_type": "execute_result"
    }
   ],
   "source": [
    "object MyMathStuff {\n",
    "  def manyMax(nums: Int*): Int = nums.sorted.reverse.head\n",
    "  def harmonicMean(item: Int, items: Int*): Double = {\n",
    "    if (items.toList.isEmpty)\n",
    "      item.toDouble\n",
    "    else {\n",
    "      val allItems = item +: items\n",
    "      allItems.length / allItems.foldLeft(0.0)((a, b) => a + (1.0 / b.toDouble))\n",
    "    }\n",
    "  }\n",
    "}"
   ]
  },
  {
   "cell_type": "code",
   "execution_count": 2,
   "metadata": {},
   "outputs": [
    {
     "data": {
      "text/plain": [
       "\u001b[32mimport \u001b[39m\u001b[36mMyMathStuff._\n",
       "\n",
       "\u001b[39m\n",
       "\u001b[36mres1_1\u001b[39m: \u001b[32mInt\u001b[39m = \u001b[32m100\u001b[39m\n",
       "\u001b[36mres1_2\u001b[39m: \u001b[32mDouble\u001b[39m = \u001b[32m2.9268292682926824\u001b[39m"
      ]
     },
     "execution_count": 2,
     "metadata": {},
     "output_type": "execute_result"
    }
   ],
   "source": [
    "import MyMathStuff._\n",
    "\n",
    "manyMax(-1, 10, 30, 100)\n",
    "harmonicMean(1, 2, 15, 10, 20, 3)"
   ]
  },
  {
   "cell_type": "markdown",
   "metadata": {},
   "source": [
    "### Import from an instantiated object\n",
    "\n",
    "This is a contrived example, but you _will_ see instances of this practice in the wild."
   ]
  },
  {
   "cell_type": "code",
   "execution_count": 6,
   "metadata": {},
   "outputs": [
    {
     "data": {
      "text/plain": [
       "\u001b[36mnameAges\u001b[39m: \u001b[32mMap\u001b[39m[\u001b[32mString\u001b[39m, \u001b[32mInt\u001b[39m] = \u001b[33mMap\u001b[39m(\n",
       "  \u001b[32m\"Abby\"\u001b[39m -> \u001b[32m14\u001b[39m,\n",
       "  \u001b[32m\"Jamal\"\u001b[39m -> \u001b[32m12\u001b[39m,\n",
       "  \u001b[32m\"Kumar\"\u001b[39m -> \u001b[32m20\u001b[39m,\n",
       "  \u001b[32m\"Genevieve\"\u001b[39m -> \u001b[32m31\u001b[39m\n",
       ")\n",
       "\u001b[32mimport \u001b[39m\u001b[36mnameAges.get\n",
       "\u001b[39m\n",
       "\u001b[36mres5_2\u001b[39m: \u001b[32mOption\u001b[39m[\u001b[32mInt\u001b[39m] = \u001b[33mSome\u001b[39m(\u001b[32m14\u001b[39m)\n",
       "\u001b[36mres5_3\u001b[39m: \u001b[32mOption\u001b[39m[\u001b[32mInt\u001b[39m] = \u001b[32mNone\u001b[39m"
      ]
     },
     "execution_count": 6,
     "metadata": {},
     "output_type": "execute_result"
    }
   ],
   "source": [
    "val nameAges = Map(\n",
    "  \"Abby\"      -> 14,\n",
    "  \"Jamal\"     -> 12,\n",
    "  \"Kumar\"     -> 20,\n",
    "  \"Genevieve\" -> 31\n",
    ")\n",
    "import nameAges.get\n",
    "get(\"Abby\")\n",
    "get(\"Joe\")"
   ]
  },
  {
   "cell_type": "markdown",
   "metadata": {},
   "source": [
    "### Imports summary\n",
    "\n",
    "- Imports in Scala are more powerful than imports in Java.\n",
    "- Imports can be multiple on the same line.\n",
    "- Imports can rename classes and members just for the enclosing scope.\n",
    "- Imports can be placed anywhere in the file, even inside of classes.\n",
    "- You can import from objects, not just packages."
   ]
  },
  {
   "cell_type": "markdown",
   "metadata": {},
   "source": [
    "## Let's talk about types\n",
    "\n",
    "- Everything in Scala is an expression.\n",
    "- Expressions have a type.\n",
    "- Types tell the compiler how to interpret your code.\n",
    "- _Everything_ in Scala is an object, at least at compile time (in contrast to Java)."
   ]
  },
  {
   "cell_type": "code",
   "execution_count": 10,
   "metadata": {},
   "outputs": [
    {
     "data": {
      "text/plain": [
       "\u001b[36mres9_0\u001b[39m: \u001b[32mString\u001b[39m = \u001b[32m\"1\"\u001b[39m\n",
       "\u001b[36mres9_1\u001b[39m: \u001b[32mString\u001b[39m = \u001b[32m\"1\"\u001b[39m\n",
       "\u001b[36mres9_2\u001b[39m: \u001b[32mChar\u001b[39m = \u001b[32m'C'\u001b[39m"
      ]
     },
     "execution_count": 10,
     "metadata": {},
     "output_type": "execute_result"
    }
   ],
   "source": [
    "1.toString\n",
    "1L.toString\n",
    "'c'.toUpper"
   ]
  },
  {
   "cell_type": "markdown",
   "metadata": {},
   "source": [
    "### Type hierarchy\n",
    "\n",
    "But, even though Scala wants to present the world as entirely composed of objects, \n",
    "the JVM doesn't work that way. The JVM:\n",
    "\n",
    "- has primitives (`int`, `char`, `long`, etc.)\n",
    "- has a primitive array type, which is _not_ an object\n",
    "- has objects (all classes are subclasses of `java.lang.Object`)\n",
    "\n",
    "Scala's type hierarchy reflects the need to live in the JVM world.\n",
    "\n",
    "<img src=\"https://i.imgur.com/hr7kB5K.png\" alt=\"Scala Type Hierarchy\" style=\"width: 50%\"/>\n"
   ]
  },
  {
   "cell_type": "markdown",
   "metadata": {},
   "source": [
    "### Type hierarchy highlights\n",
    "\n",
    "- Types that map to JVM primitives are subclasses of `AnyVal`\n",
    "- Types that map to JVM objects are subclasses of `AnyRef`. (You can think of `AnyRef` as an alias for `java.lang.Object`.)\n",
    "- _Everything_ descends from `Any`.\n",
    "- _Everything_ has `Nothing` as a (compiler-inserted) subclass. (We'll talk about `Nothing` shortly.)"
   ]
  },
  {
   "cell_type": "code",
   "execution_count": 12,
   "metadata": {},
   "outputs": [
    {
     "data": {
      "text/plain": [
       "\u001b[36ma\u001b[39m: \u001b[32mAnyRef\u001b[39m = \u001b[32m\"\"\u001b[39m\n",
       "\u001b[36mb\u001b[39m: \u001b[32mAny\u001b[39m = \u001b[32m\"\"\u001b[39m\n",
       "\u001b[36md\u001b[39m: \u001b[32mAnyVal\u001b[39m = \u001b[32m10\u001b[39m\n",
       "\u001b[36me\u001b[39m: \u001b[32mAnyVal\u001b[39m = ()"
      ]
     },
     "execution_count": 12,
     "metadata": {},
     "output_type": "execute_result"
    }
   ],
   "source": [
    "val a: AnyRef = \"\"\n",
    "val b: Any = \"\"\n",
    "//val c: AnyVal = \"\" // won't compile\n",
    "val d: AnyVal = 10\n",
    "val e: AnyVal = ()\n"
   ]
  },
  {
   "cell_type": "markdown",
   "metadata": {},
   "source": [
    "### What is `Nothing`?\n",
    "\n",
    "Reminder: _Everything_ is an expression in Scala.\n",
    "\n",
    "So, what is the return type of this expression?\n",
    "\n",
    "```scala\n",
    "val res = if (2 + 2 == 4) \"All is right with the world\" else throw new Exception(\"The world is bent! Math is broken!\")\n",
    "```\n",
    "\n",
    "- The type of the `if` branch is `String`\n",
    "- What's the type of the `else` branch?\n",
    "    - A naive assumption is that it's `Unit`.\n",
    "    \n",
    "But that doesn't work:\n",
    "\n",
    "- The immediate parent class of `Unit` is `AnyVal`.\n",
    "- The immediate parent class of `String` is `AnyRef`.\n",
    "- The common parent is `Any`.\n",
    "\n",
    "If the `else` clause's type were `Unit`, then the inferred type of `res` would be `Any`!\n",
    "\n",
    "Yet that's not the case:"
   ]
  },
  {
   "cell_type": "code",
   "execution_count": 15,
   "metadata": {},
   "outputs": [
    {
     "data": {
      "text/plain": [
       "\u001b[36mres1\u001b[39m: \u001b[32mAny\u001b[39m = \u001b[32m\"All is right with the world\"\u001b[39m\n",
       "\u001b[36mres2\u001b[39m: \u001b[32mString\u001b[39m = \u001b[32m\"All is right with the world\"\u001b[39m"
      ]
     },
     "execution_count": 15,
     "metadata": {},
     "output_type": "execute_result"
    }
   ],
   "source": [
    "val res1 = if (2 + 2 == 4) \"All is right with the world\" else () // force Unit\n",
    "val res2 = if (2 + 2 == 4) \"All is right with the world\" else throw new Exception(\"The world is bent! Math is broken!\")"
   ]
  },
  {
   "cell_type": "markdown",
   "metadata": {},
   "source": [
    "Somehow, even though the `else` clause isn't returning a `String`, the type of the whole expression is still `String`.\n",
    "\n",
    "Here's how that works:\n",
    "\n",
    "- The \"type\" of a `throw` clause is `Nothing` (though you can't actually assign a `throw` to anything).\n",
    "- `Nothing` is a subclass of `String` (because `Nothing` is a subclass of every class).\n",
    "- Thus, the common parent type of `String` and `Nothing` is `String`.\n",
    "\n",
    "`Nothing` allows type inference to work, even in the presence of a `throw` clause.\n",
    "\n",
    "#### Other places you'll see `Nothing`\n",
    "\n",
    "If the compiler doesn't have enough information to infer a specific type, it may substitute nothing.\n",
    "\n",
    "Examples:\n",
    "\n",
    "`None` is [declared as](https://www.scala-lang.org/files/archive/api/2.13.0/scala/None$.html):\n",
    "\n",
    "```scala\n",
    "object None extends Option[Nothing] with Product with Serializable\n",
    "```\n",
    "\n",
    "Ignore the `with Product with Serializable` part for now.\n",
    "\n",
    "Declaring `None` as `Option[Nothing]` allows us to do this:"
   ]
  },
  {
   "cell_type": "code",
   "execution_count": 23,
   "metadata": {},
   "outputs": [
    {
     "data": {
      "text/plain": [
       "\u001b[36mopt1\u001b[39m: \u001b[32mOption\u001b[39m[\u001b[32mString\u001b[39m] = \u001b[32mNone\u001b[39m\n",
       "\u001b[36mopt2\u001b[39m: \u001b[32mOption\u001b[39m[\u001b[32mInt\u001b[39m] = \u001b[32mNone\u001b[39m"
      ]
     },
     "execution_count": 23,
     "metadata": {},
     "output_type": "execute_result"
    }
   ],
   "source": [
    "val opt1: Option[String] = None\n",
    "val opt2: Option[Int] = None\n"
   ]
  },
  {
   "cell_type": "markdown",
   "metadata": {},
   "source": [
    "Similarly, `Nil` (for \"empty list\") is [declared as](https://www.scala-lang.org/files/archive/api/2.13.0/scala/collection/immutable/Nil$.html):\n",
    "\n",
    "```scala\n",
    "object Nil extends List[Nothing] with Product with Serializable\n",
    "```\n",
    "\n",
    "That's why we can use it with any type of list:"
   ]
  },
  {
   "cell_type": "code",
   "execution_count": 24,
   "metadata": {},
   "outputs": [
    {
     "data": {
      "text/plain": [
       "\u001b[36mlist1\u001b[39m: \u001b[32mList\u001b[39m[\u001b[32mString\u001b[39m] = \u001b[33mList\u001b[39m()\n",
       "\u001b[36mlist2\u001b[39m: \u001b[32mList\u001b[39m[\u001b[32mInt\u001b[39m] = \u001b[33mList\u001b[39m()\n",
       "\u001b[36mlist3\u001b[39m: \u001b[32mList\u001b[39m[\u001b[32mString\u001b[39m] = \u001b[33mList\u001b[39m(\u001b[32m\"a\"\u001b[39m, \u001b[32m\"b\"\u001b[39m, \u001b[32m\"c\"\u001b[39m)"
      ]
     },
     "execution_count": 24,
     "metadata": {},
     "output_type": "execute_result"
    }
   ],
   "source": [
    "val list1: List[String] = Nil\n",
    "val list2: List[Int] = Nil\n",
    "val list3 = \"a\" :: \"b\" :: \"c\" :: Nil"
   ]
  },
  {
   "cell_type": "markdown",
   "metadata": {},
   "source": [
    "## Recap\n",
    "\n",
    "### Packages\n",
    "\n",
    "- Packages help organize code\n",
    "- Packages can encapsulate functionality between modules\n",
    "- Import statements break package encapsulation\n",
    "    - One at a time\n",
    "    - Many in a single statement\n",
    "    - All at once\n",
    "    - Can be placed anywhere in a file (scoped imports)\n",
    "    - Can be used to import from packages _and_ objects\n",
    "\n",
    "### Types\n",
    "\n",
    "- Everything in Scala is an object\n",
    "- The top type in Scala is `Any`\n",
    "    - All other types are subtypes of `Any`\n",
    "    - Defines functionality that all types must support\n",
    "- The bottom type in Scala is `Nothing`\n",
    "    - `Nothing` is a subtype of all other types\n",
    "    - Provides a common way to model the beginning or end of the world"
   ]
  }
 ],
 "metadata": {
  "kernelspec": {
   "display_name": "Scala 2.11",
   "language": "scala",
   "name": "scala211"
  },
  "language_info": {
   "codemirror_mode": "text/x-scala",
   "file_extension": ".scala",
   "mimetype": "text/x-scala",
   "name": "scala",
   "nbconvert_exporter": "script",
   "version": "2.11.12"
  }
 },
 "nbformat": 4,
 "nbformat_minor": 2
}
