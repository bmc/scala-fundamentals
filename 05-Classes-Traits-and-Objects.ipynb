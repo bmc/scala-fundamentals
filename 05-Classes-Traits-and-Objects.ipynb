{
 "cells": [
  {
   "cell_type": "markdown",
   "metadata": {},
   "source": [
    "# _Scala Fundamentals_\n",
    "# 5. Classes, Traits, and Objects\n",
    "\n",
    "_This module was originally developed by Brian Clapper._\n",
    "\n",
    "%md\n",
    "\n",
    "## Introduction\n",
    "\n",
    "In this lesson, we're going to discusses Scala classes, Scala traits (which are analagous to Java interfaces, but more powerful), and Scala singleton objects.\n",
    "\n",
    "If you know classes in Java, you'll find Scala classes to be refreshingly concise and easy to read.\n"
   ]
  },
  {
   "cell_type": "markdown",
   "metadata": {},
   "source": [
    "## Classes\n",
    "\n",
    "Let's do classes first.\n",
    "\n",
    "### Key points\n",
    "\n",
    "- Scala automatically generates getters and setters. You don't have to code them.\n",
    "- You can replace a field with a custom gettor or setter, without changing how callers access the \n",
    "  field. This is the [Uniform Access Principle](http://docs.scala-lang.org/glossary/#uniform-access-principle).\n",
    "- You can use `@BeanProperty` if you need JavaBeans setters and getters.\n",
    "- Every class has a primary constructor that is \"interwoven\" with the class definition.\n",
    "- Auxiliary constructors are optional and are named `this`.\n",
    "\n",
    "### Simple Classes and Parameterless Methods\n",
    "\n",
    "Scala classes look a lot like their counterparts in Java, C#, C++, Python or Ruby:"
   ]
  },
  {
   "cell_type": "code",
   "execution_count": null,
   "metadata": {},
   "outputs": [],
   "source": [
    "class Counter {\n",
    "  private var value = 0 // You MUST initialize the field.\n",
    "  \n",
    "  // Methods are public by default.\n",
    "  def increment(): Unit = {\n",
    "    value += 1\n",
    "  }\n",
    "  \n",
    "  def current() = value\n",
    "}"
   ]
  },
  {
   "cell_type": "markdown",
   "metadata": {},
   "source": [
    "Methods are just functions inside the class and, like, functions, are created with the `def` keyword.\n",
    "\n",
    "### Some Differences from Java\n",
    "\n",
    "* `public` is the default access modifier. Classes, fields, and methods are public, by default.\n",
    "* A source file can contain multiple classes.\n",
    "* There's no requirement that the class name match the source file name, as there is in Java.\n",
    "\n",
    "### Using our `Counter` class\n",
    "\n",
    "To use this class, you construct objects and invoke methods the usual way."
   ]
  },
  {
   "cell_type": "code",
   "execution_count": null,
   "metadata": {},
   "outputs": [],
   "source": [
    "val counter1 = new Counter\n",
    "val counter2 = new Counter() // equivalent\n",
    "\n",
    "counter1.increment()"
   ]
  },
  {
   "cell_type": "code",
   "execution_count": null,
   "metadata": {},
   "outputs": [],
   "source": [
    "println(s\"counter1=${counter1.current()}\")\n",
    "println(s\"counter2=${counter2.current()}\")"
   ]
  },
  {
   "cell_type": "markdown",
   "metadata": {},
   "source": [
    "You can call parameterless methods, like `current()`, with or without parentheses. The following two calls are equivalent:"
   ]
  },
  {
   "cell_type": "code",
   "execution_count": null,
   "metadata": {},
   "outputs": [],
   "source": [
    "println(counter1.current())\n",
    "println(counter1.current)"
   ]
  },
  {
   "cell_type": "markdown",
   "metadata": {},
   "source": [
    "![?](http://i.imgur.com/Guv4TBn.png) **Which form should you use?**\n",
    "\n",
    "It is considered good style to use `()` for a mutator method (a method that changes object state or performs I/O) and to drop the `()` for an accessor method.\n",
    "\n",
    "That's what we did in our example:"
   ]
  },
  {
   "cell_type": "code",
   "execution_count": null,
   "metadata": {},
   "outputs": [],
   "source": [
    "counter1.increment() // Mutates state: Use ()\n",
    "counter1.current     // Accesses value without changing state."
   ]
  },
  {
   "cell_type": "markdown",
   "metadata": {},
   "source": [
    "You can enforce the accessor style by declaring `current` without `()`:"
   ]
  },
  {
   "cell_type": "code",
   "execution_count": null,
   "metadata": {},
   "outputs": [],
   "source": [
    "class Counter {\n",
    "  private var value = 0\n",
    "\n",
    "  def increment(): Unit = {\n",
    "    value += 1\n",
    "  }\n",
    "  \n",
    "  def current = value\n",
    "}"
   ]
  },
  {
   "cell_type": "markdown",
   "metadata": {},
   "source": [
    "### Properties (Fields) with getters and setters\n",
    "\n",
    "When writing Java classes, we tend to avoid public fields. For instance, the following is considered to be bad Java code:\n",
    "\n",
    "```java\n",
    "public class Person { // This is Java, not Scala\n",
    "    public int age;\n",
    "    public String name;\n",
    "}\n",
    "```\n",
    "\n",
    "The problem with this approach is its inflexibility. If you publish this class, callers will access `age` as follows:\n",
    "\n",
    "```java\n",
    "Person fred = new Person();\n",
    "fred.name = \"Fred\";\n",
    "fred.age = 21;\n",
    "```\n",
    "\n",
    "But, what if we want to ensure that a caller does not make a person younger? To do that in Java, we have to change the public interface of the class\n",
    "to add a setter.\n",
    "\n",
    "For this reason, when programming Java, we defensively write setters and getters:\n",
    "\n",
    "```java\n",
    "public class Person {\n",
    "    private int age;\n",
    "    private String name;\n",
    "    \n",
    "    public int getAge() { return age; }\n",
    "    \n",
    "    public void setAge(int newAge) {\n",
    "        // Now we can add some checks.\n",
    "        if (newAge > this.age)\n",
    "            this.age = newAge;\n",
    "    }\n",
    "    \n",
    "    public String getName() { return name; }\n",
    "    \n",
    "    public void setName(String newName) { this.name = newName; }\n",
    "}\n",
    "```\n",
    "\n",
    "A getter/setter pair, such as `getAge()` and `setAge()`, is often called a _property_. So, `Person` has two properties: `age` and `name`."
   ]
  },
  {
   "cell_type": "markdown",
   "metadata": {},
   "source": [
    "### The problem with Java's approach\n",
    "\n",
    "The Java approach is highly verbose. \n",
    "\n",
    "- When we write Java classes, we defensively write getters and setters for _every_ public field.\n",
    "- Most of the getters only return their corresponding values.\n",
    "- Most of the setters only set their values.\n",
    "\n",
    "We have to write (and read) a bunch of extra boilerplate code that doesn't actually solve the problem the class is intended to solve.\n",
    "\n",
    "### Other languages don't do what Java does\n",
    "\n",
    "Languages like Python, Ruby, C# and Scala:\n",
    "\n",
    "- allow you to access a field as if it were public `fred.age`\n",
    "- provide the ability to intercept get and set operations behind the scenes\n",
    "\n",
    "- In Python and C#:\n",
    "    - You start out with public fields.\n",
    "    - If you need a setter or getter, you can later add a property declaration.\n",
    "- In Ruby, you can mark a field as an attribute, and it will generate a setter and/or getter for\n",
    "  you, under the covers. \n",
    "- Scala automatically generates default getters and setters.\n",
    "\n",
    "In all cases, _you can continue to access the field as if it were public._\n",
    "\n",
    "### An example"
   ]
  },
  {
   "cell_type": "code",
   "execution_count": null,
   "metadata": {},
   "outputs": [],
   "source": [
    "class Person {\n",
    "  var age = 0\n",
    "  var name = \"\"\n",
    "}"
   ]
  },
  {
   "cell_type": "markdown",
   "metadata": {},
   "source": [
    "During compilation, Scala converts `age` and `name` to private fields and generates setters and getters. For instance, here's\n",
    "the result of running `javap -p` on the compiled `Person` class:\n",
    "\n",
    "<pre>\n",
    "public class Person {\n",
    "  private int age;\n",
    "  private java.lang.String name;\n",
    "  public int age();\n",
    "  public void age_$eq(int);\n",
    "  public java.lang.String name();\n",
    "  public void name_$eq(java.lang.String);\n",
    "  public Person();\n",
    "}\n",
    "</pre>"
   ]
  },
  {
   "cell_type": "markdown",
   "metadata": {},
   "source": [
    "#### What happened?\n",
    "\n",
    "* Scala converted `age` to a private field.\n",
    "* It generated an `age()` getter, which we can just invoke without the parentheses.\n",
    "* It generated an `age_=()` setter, which we can just invoke with the assignment operator.\n",
    "* It did the same for the `name` field."
   ]
  },
  {
   "cell_type": "code",
   "execution_count": null,
   "metadata": {},
   "outputs": [],
   "source": [
    "val person = new Person\n",
    "person.name = \"Fred\" // calls person.name_=()\n",
    "person.age = 21      // calls person.age_=()"
   ]
  },
  {
   "cell_type": "code",
   "execution_count": null,
   "metadata": {},
   "outputs": [],
   "source": [
    "println(s\"${person.name} is ${person.age} years old.\")"
   ]
  },
  {
   "cell_type": "markdown",
   "metadata": {},
   "source": [
    "Note that assignment to `name` is just _syntactic sugar_ for calling the `name_=` method:"
   ]
  },
  {
   "cell_type": "code",
   "execution_count": null,
   "metadata": {},
   "outputs": [],
   "source": [
    "person.name_=(\"Annabelle\")\n",
    "println(s\"${person.name} is ${person.age} years old.\")"
   ]
  },
  {
   "cell_type": "markdown",
   "metadata": {},
   "source": [
    "To add a check to ensure that a caller can't make a person younger\n",
    "\n",
    "- Define the setter explicitly.\n",
    "- Doing so prevents Scala from defining a default one."
   ]
  },
  {
   "cell_type": "code",
   "execution_count": null,
   "metadata": {},
   "outputs": [],
   "source": [
    "class Person {\n",
    "  private var theAge = 0\n",
    "  var name = \"\"\n",
    "  \n",
    "  def age_=(newAge: Int): Unit = {\n",
    "    if (newAge > this.theAge)\n",
    "      this.theAge = newAge\n",
    "  }\n",
    "  \n",
    "  def age = this.theAge\n",
    "}"
   ]
  },
  {
   "cell_type": "code",
   "execution_count": null,
   "metadata": {},
   "outputs": [],
   "source": [
    "val person = new Person\n",
    "person.name = \"Maria\"\n",
    "person.age = 43\n",
    "person.age = 10\n",
    "println(person.age)"
   ]
  },
  {
   "cell_type": "markdown",
   "metadata": {},
   "source": [
    "\n",
    "#### Lack of boilerplate\n",
    "\n",
    "Compare our Scala `Person` class with its Java equivalent. \n",
    "\n",
    "- In Scala, we don't have to define every getter and setter _just in case_. \n",
    "- Instead, we allow Scala to generate getters and setters for us, overriding only the ones we need.\n",
    "\n",
    "This approach leads to much more compact and readable code."
   ]
  },
  {
   "cell_type": "markdown",
   "metadata": {},
   "source": [
    "### Uniform Access Principle\n",
    "\n",
    "<div style=\"border: 1px solid #ddd; border-radius: 10px 10px 10px 10px; padding: 10px; background-color: #f7edcd; width: 40%; margin: 20px\">\n",
    "Bertrand Meyer, the inventor of the influential Eiffel language, formulated the Uniform Access Principle. It states:\n",
    "\n",
    "<p style=\"margin-left: 1em; margin-right: 1em; margin-top: 0.5em\">\n",
    "All services offered by a module should be available through a uniform notation, which does not betray whether they are implemented through storage or through computation.\n",
    "In Scala, the caller of <tt>fred.age</tt> doesn’t know whether age is implemented through a field or a method. (Of course, in the JVM, the service is always implemented through a method, either synthesized or programmer-supplied.)\n",
    "</p>\n",
    "\n",
    "</div>"
   ]
  },
  {
   "cell_type": "markdown",
   "metadata": {},
   "source": [
    "### Properties with only getters\n",
    "\n",
    "If you define a field as a `val`, Scala will generate only a getter, since a `val` cannot be changed."
   ]
  },
  {
   "cell_type": "code",
   "execution_count": null,
   "metadata": {},
   "outputs": [],
   "source": [
    "class Message {\n",
    "  val timestamp = new java.util.Date\n",
    "}"
   ]
  },
  {
   "cell_type": "code",
   "execution_count": null,
   "metadata": {},
   "outputs": [],
   "source": [
    "// This works:\n",
    "val m = new Message\n",
    "println(m.timestamp)\n",
    "\n",
    "// This won't compile.\n",
    "//m.timestamp = new java.util.Date"
   ]
  },
  {
   "cell_type": "markdown",
   "metadata": {},
   "source": [
    "### Properties with only setters\n",
    "\n",
    "You cannot define a set-only field in Scala. If you try to do, your class will compile, but you'll get a compilation error trying to call the setter."
   ]
  },
  {
   "cell_type": "code",
   "execution_count": null,
   "metadata": {},
   "outputs": [],
   "source": [
    "class DoesNotWork {\n",
    "  private var someValue: Int = 0\n",
    "  \n",
    "  def value_=(newValue: Int): Unit = {\n",
    "    someValue = newValue\n",
    "  }\n",
    "}"
   ]
  },
  {
   "cell_type": "code",
   "execution_count": null,
   "metadata": {},
   "outputs": [],
   "source": [
    "val dnw = new DoesNotWork\n",
    "dnw.value = 30"
   ]
  },
  {
   "cell_type": "markdown",
   "metadata": {},
   "source": [
    "### Summary: Scala setters and getters\n",
    "\n",
    "You have four choices for implementing properties:\n",
    "\n",
    "1. `var foo`: Scala generates a getter (`foo`) and a setter (`foo_=()`).\n",
    "2. `val foo`: Scala generates a getter.\n",
    "3. You can define your own getter and setter by providing the `foo` and `foo_=()` methods.\n",
    "4. You can define your own getter by providing just the `foo` method."
   ]
  },
  {
   "cell_type": "markdown",
   "metadata": {},
   "source": [
    "### Exercise 5.1: Implement a simple class\n",
    "\n",
    "Implement the following class, and run the cell after it to test that you got it right.\n",
    "\n",
    "**Requirements**\n",
    "\n",
    "1. The `deposit()` method should not permit a negative deposit. (That would be a withdrawal.)\n",
    "2. The `withdrawal()` method should not allow an overdraft. It should return the smaller of the current balance and the desired amount. \n",
    "   That is, if someone attempts to withdraw 20.00, and the balance is only 15.00, `withdraw()` should zero the balance and return 15.00.\n",
    "   It should _not_ throw an exception.\n",
    "3. `balance` should return the current balance.\n",
    "4. The balance should be initialized to 0.\n",
    "\n",
    "**Notes**: \n",
    "\n",
    "1. In Scala, you can use `BigDecimal` the way you use any other numeric type. All the normal operators work fine. You can\n",
    "   create a BigDecimal from an integer or floating point number easily: `BigDecimal(120)`.\n",
    "2. We're using _mutable_ instance data here, which isn't considered good practice in Scala. \n",
    "   Don't worry about that for now. At the moment, we're just trying to get our heads around the syntax.\n",
    "   \n",
    "**Question**: Why are we using `BigDecimal`, rather than, say, `Double`?"
   ]
  },
  {
   "cell_type": "code",
   "execution_count": null,
   "metadata": {},
   "outputs": [],
   "source": [
    "class BankAccount {\n",
    "  def deposit(amount: BigDecimal): Unit = ???\n",
    "  \n",
    "  def withdraw(amount: BigDecimal): BigDecimal = ???\n",
    "  \n",
    "  def balance = ???\n",
    "}"
   ]
  },
  {
   "cell_type": "code",
   "execution_count": null,
   "metadata": {},
   "outputs": [],
   "source": [
    "// ANSWER\n",
    "class BankAccount {\n",
    "  private var currentBalance = BigDecimal(0)\n",
    "  \n",
    "  def deposit(amount: BigDecimal): Unit = {\n",
    "    if (amount >= 0) currentBalance += amount\n",
    "  }\n",
    "  \n",
    "  def withdraw(amount: BigDecimal): BigDecimal = {\n",
    "    val actualAmount = if (amount > currentBalance)\n",
    "      currentBalance\n",
    "    else\n",
    "      amount\n",
    "    \n",
    "    currentBalance -= actualAmount\n",
    "    actualAmount\n",
    "  }\n",
    "  \n",
    "  def balance = currentBalance\n",
    "}"
   ]
  },
  {
   "cell_type": "code",
   "execution_count": null,
   "metadata": {},
   "outputs": [],
   "source": [
    "// Run this cell to test your solution.\n",
    "\n",
    "val acct = new BankAccount\n",
    "assert(acct.balance == 0, \"Balance not initialized to 0.\")\n",
    "acct.deposit(-100)\n",
    "assert(acct.balance == 0, \"Balance incorrectly update by negative deposit.\")\n",
    "acct.deposit(100)\n",
    "assert(acct.balance == 100, \"Deposit of 100 didn't update balance properly.\")\n",
    "assert(acct.withdraw(50) == 50, \"Withdrawal returned wrong amount with sufficient balance.\")\n",
    "assert(acct.balance == 50, \"Balance incorrect after withdrawal with sufficient balance.\")\n",
    "assert(acct.withdraw(100) == 50, \"Withdrawal returned wrong amount when balance isn't sufficient.\")\n",
    "assert(acct.balance == 0, s\"After attempted overdraft, account balance should be 0, but is ${acct.balance}\")"
   ]
  },
  {
   "cell_type": "markdown",
   "metadata": {},
   "source": [
    "### Object-private fields\n",
    "\n",
    "In Scala, as in Java and other languages, a method can access the private fields of all objects of its class:"
   ]
  },
  {
   "cell_type": "code",
   "execution_count": null,
   "metadata": {},
   "outputs": [],
   "source": [
    "class Foo {\n",
    "  private var myValue = 0\n",
    "  \n",
    "  def examineOther(o: Foo) = o.myValue\n",
    "  \n",
    "  def value = myValue\n",
    "  \n",
    "  def value_=(newValue: Int): Unit = {\n",
    "    myValue = newValue\n",
    "  }\n",
    "}\n",
    "\n",
    "val first = new Foo\n",
    "first.value = 100\n",
    "val second = new Foo"
   ]
  },
  {
   "cell_type": "code",
   "execution_count": null,
   "metadata": {},
   "outputs": [],
   "source": [
    "println(s\"second says first's value is ${foo2.examineOther(foo1)}\")"
   ]
  },
  {
   "cell_type": "markdown",
   "metadata": {},
   "source": [
    "- Scala allows you to make a private field visible _only_ within an instance. \n",
    "- Use the `private[this]` access modifier. \n",
    "\n",
    "With that change, the following code no longer compiles."
   ]
  },
  {
   "cell_type": "code",
   "execution_count": null,
   "metadata": {},
   "outputs": [],
   "source": [
    "class Foo {\n",
    "  private[this] var myValue = 0\n",
    "  \n",
    "  def examineOther(o: Foo) = o.myValue\n",
    "  \n",
    "  def value = myValue\n",
    "  \n",
    "  def value_=(newValue: Int): Unit = {\n",
    "    myValue = newValue\n",
    "  }\n",
    "}\n"
   ]
  },
  {
   "cell_type": "markdown",
   "metadata": {},
   "source": [
    "Another side-effect of creating a `private[this]` field is that, unlike a `private` field, Scala will _not_ generate getters or setters for the field.\n",
    "\n",
    "Why do we care about this? Because:\n",
    "\n",
    "- It's kind of cool.\n",
    "- It's one instance of Scala's far richer access semantics.\n",
    "- As we'll see shortly, `private[this]` can come into play when we define class constructors."
   ]
  },
  {
   "cell_type": "markdown",
   "metadata": {},
   "source": [
    "### Bean properties\n",
    "\n",
    "Some third-party libraries you use expect objects you pass to them to adhere to the [JavaBeans Specification](http://www.oracle.com/technetwork/java/javase/documentation/spec-136004.html).\n",
    "As this [StackOverflow answer](http://stackoverflow.com/a/3295517/53495) notes, a JavaBean must:\n",
    "\n",
    "- have _private_ properties\n",
    "- have Java-style getters and setters (e.g., property `x` must be set and accessed via `setX()` and `getX()` methods)\n",
    "- have a public no-argument constructor\n",
    "- implement `Serializable`\n",
    "\n",
    "But Scala classes do not adhere to that convention. If you need to pass an instance of a Scala object to a library that wants a JavaBean-compliant\n",
    "object, what do you do? Do you have to implement all those (annoying) `set` and `get` methods yourself?\n",
    "\n",
    "No. You don't.\n",
    "\n",
    "Instead, you can mark a variable with the `BeanProperty` annotation. For instance:"
   ]
  },
  {
   "cell_type": "code",
   "execution_count": null,
   "metadata": {},
   "outputs": [],
   "source": [
    "import scala.beans.BeanProperty\n",
    "\n",
    "class Person {\n",
    "  @BeanProperty var age = 0\n",
    "  @BeanProperty var name = \"\"\n",
    "}\n",
    "\n",
    "val p = new Person\n",
    "p.age = 10\n",
    "assert(p.age == 10)\n",
    "assert(p.age == p.getAge)\n",
    "p.setAge(20)\n",
    "assert(p.age == 20)\n"
   ]
  },
  {
   "cell_type": "markdown",
   "metadata": {},
   "source": [
    "Using `@BeanProperty` on the `var` field `name` caused Scala to generate _four_ methods, instead of the usual two:\n",
    "\n",
    "1. `name`: Scala getter (get the name as a string)\n",
    "2. `name_=`: Scala setter\n",
    "3. `getName`: JavaBean getter\n",
    "4. `setName`: JavaBean setter\n",
    "\n",
    "If you use `@BeanProperty` on a `val` field, it only generates the Scala getter and the Java getter.\n",
    "\n",
    "Using `@BeanProperty`, you can create classes that can be used seamlessly with Java libraries expecting JavaBeans.\n"
   ]
  },
  {
   "cell_type": "markdown",
   "metadata": {},
   "source": [
    "### Constructors\n",
    "\n",
    "Our `Person` class is a bit clunky. Instead of passing values into the class to initialize it, we have to create an\n",
    "empty instance and then call setters. Let's clean it up.\n",
    "\n",
    "#### The primary constructor\n",
    "\n",
    "In most languages, the primary constructor defined as a special method inside the class. For instance, in Java, our `Person` class's primary constructor might look like this:\n",
    "\n",
    "```java\n",
    "public class Person {\n",
    "    private String name = \"\";\n",
    "    private int age = 0;\n",
    "    \n",
    "    public Person(String name, int age) {\n",
    "        this.name = name;\n",
    "        this.age = age;\n",
    "    }\n",
    "    \n",
    "    // Getters and setters go here\n",
    "}\n",
    "```\n",
    "\n",
    "In Scala, the primary constructor syntax is moth more compact _and_ more readable, yet still readable. \n",
    "\n",
    "- The parameters of the primary constructor go right after the class name. \n",
    "\n",
    "In this example, we'll make the `Person` class immutable:"
   ]
  },
  {
   "cell_type": "code",
   "execution_count": null,
   "metadata": {},
   "outputs": [],
   "source": [
    "class Person(val name: String, val age: Int)\n",
    "\n",
    "val p = new Person(\"Fred\", 38)"
   ]
  },
  {
   "cell_type": "code",
   "execution_count": null,
   "metadata": {},
   "outputs": [],
   "source": [
    "println(s\"${p.name} is ${p.age}\")"
   ]
  },
  {
   "cell_type": "markdown",
   "metadata": {},
   "source": [
    "**A complete class, declared in a single line of code!**\n",
    "\n",
    "Parameters of the primary constructor turn into fields that are initialized with the construction parameters.\n",
    "\n",
    "Compare our 1-line class definition with the equivalent Java class definition:\n",
    "\n",
    "```scala\n",
    "// Scala\n",
    "class Person(val name: String, val age: Int)\n",
    "```\n",
    "\n",
    "```java\n",
    "// Java\n",
    "public class Person {\n",
    "    private String name = \"\";\n",
    "    private int age = 0;\n",
    "    \n",
    "    public Person(String name, int age) {\n",
    "        this.name = name;\n",
    "        this.age = age;\n",
    "    }\n",
    "    \n",
    "    public String getName() {\n",
    "        return this.name;\n",
    "    }\n",
    "    \n",
    "    public int getAge() {\n",
    "        return this.age;\n",
    "    }\n",
    "} \n",
    "``` \n"
   ]
  },
  {
   "cell_type": "markdown",
   "metadata": {},
   "source": [
    "#### Code in the primary constructor\n",
    "\n",
    "What if our primary constructor needs some actual logic? \n",
    "\n",
    "- In Java, you put it in the primary constructor method.\n",
    "- In Scala, that code just goes inline, in the class.\n"
   ]
  },
  {
   "cell_type": "code",
   "execution_count": null,
   "metadata": {},
   "outputs": [],
   "source": [
    "class Person(val firstName: String, val lastName: String, val age: Int) {\n",
    "  val fullName = s\"$firstName $lastName\" // This assignment runs as part of the primary constructor code.\n",
    "}\n",
    "\n",
    "val p = new Person(\"Melinda\", \"McPherson\", 47)"
   ]
  },
  {
   "cell_type": "code",
   "execution_count": null,
   "metadata": {},
   "outputs": [],
   "source": [
    "println(s\"${p.fullName} is ${p.age}\")"
   ]
  },
  {
   "cell_type": "markdown",
   "metadata": {},
   "source": [
    "**A little more formally:** The primary constructor executes _all_ statements in the class definition.\n",
    "\n",
    "This is also valid:"
   ]
  },
  {
   "cell_type": "code",
   "execution_count": null,
   "metadata": {},
   "outputs": [],
   "source": [
    "class Bar(val value: Int) {\n",
    "  val derivedValue = value * 2\n",
    "  \n",
    "  def somethingRandom = value + scala.util.Random.nextInt\n",
    "  \n",
    "  println(s\"value is $value, and derived value is $derivedValue\")\n",
    "  \n",
    "}"
   ]
  },
  {
   "cell_type": "code",
   "execution_count": null,
   "metadata": {},
   "outputs": [],
   "source": [
    "val b = new Bar(10)\n",
    "println(\"----- Constructor is done.\")\n",
    "println(b.somethingRandom)\n",
    "println(b.somethingRandom)"
   ]
  },
  {
   "cell_type": "markdown",
   "metadata": {},
   "source": [
    "#### Auxiliary Constructors\n",
    "\n",
    "- As in Java, a Scala class can have as many constructors as you want. In addition to the primary constructor, you can define _auxiliary_ constructors.\n",
    "- Unlike Java, though, these auxiliary instructors are _not_ named after the class. They're just called `this`. \n",
    "- An auxiliary instructor _must_ chain to another auxiliary instructor or to the primary constructor.\n"
   ]
  },
  {
   "cell_type": "code",
   "execution_count": null,
   "metadata": {},
   "outputs": [],
   "source": [
    "// Primary constructor requires a name and an age.\n",
    "class Person(val name: String, val age: Int) {\n",
    "  \n",
    "  // This auxiliary constructor takes only a name and uses a default value for the age.\n",
    "  def this(name: String) = this(name, 0)\n",
    "  \n",
    "  // This auxiliary constructor takes only an age and uses a default value for the name.\n",
    "  def this(age: Int) = this(\"?\", age)\n",
    "}\n",
    "\n",
    "val p1 = new Person(\"Maria\")\n",
    "println(s\"${p1.name} is ${p1.age} years old.\")\n",
    "\n",
    "val p2 = new Person(10)\n",
    "println(s\"${p2.name} is ${p2.age} years old.\")\n"
   ]
  },
  {
   "cell_type": "markdown",
   "metadata": {},
   "source": [
    "**But you might not need auxiliary constructors**\n",
    "\n",
    "You can often get the same behavior with default parameter values. "
   ]
  },
  {
   "cell_type": "code",
   "execution_count": null,
   "metadata": {},
   "outputs": [],
   "source": [
    "// Primary constructor requires a name and an age.\n",
    "class Person(val name: String = \"?\", val age: Int = 0)\n",
    "\n",
    "val p1 = new Person(\"Maria\")\n",
    "println(s\"${p1.name} is ${p1.age} years old.\")\n",
    "\n",
    "val p2 = new Person(age=10)\n",
    "println(s\"${p2.name} is ${p2.age} years old.\")"
   ]
  },
  {
   "cell_type": "markdown",
   "metadata": {},
   "source": [
    "#### What about constructor parameters that aren't `val` or `var`?\n",
    "\n",
    "What if you define a class, but you don't put `val` or `var` in front of the constructor parameters?\n",
    "\n",
    "One of two things happens:\n",
    "\n",
    "* If the parameter is _only_ used in the constructor logic, then it's just a parameter. It lives on the constructor method's stack,\n",
    "  and it disappears after the constructor returns.\n",
    "* If the parameter is referenced in _any_ method, then it can't be on the stack. It has to hang around for the lifetime of the object.\n",
    "  In that case, Scala stores its value in a `private[this]` field."
   ]
  },
  {
   "cell_type": "markdown",
   "metadata": {},
   "source": [
    "### Exercise 5.2: Use your understanding of constructors to fill in the following class\n",
    "\n",
    "**Requirements**\n",
    "\n",
    "The `Employee` class must have these properties:\n",
    "\n",
    "* A read-only `firstName` field.\n",
    "* A read-only `lastName` field.\n",
    "* A `birthDateString` parameter, which will be a string of the form `yyyy-mm-dd` (e.g., `\"1990-10-30\"`). Don't worry about\n",
    "  invalid date strings. Use the `parseDate` method, supplied, to parse it.\n",
    "* A read-only (derived) `birthDate` field, of type `java.util.Date`.\n",
    "* A read-only (derived) `age` field.\n",
    "* A read-only (derived) `fullName` property that puts the first and last name together.\n",
    "* An optional `ssn` (Social Security Number) field, of type `Option[String]`.\n",
    "\n",
    "Support these constructor patterns:\n",
    "\n",
    "* `new Employee(\"Melody\", \"Smythe\", \"1983-10-03\", Some(966-40-9084))` — all parameters specified.\n",
    "* `new Employee(\"Ravi\", \"Kumar\", \"1956-01-17)` — no SSN specified\n",
    "\n",
    "The class stub contains some private helper methods you might find useful.\n",
    "\n",
    "Use the cell following your exercise cell to test your solution."
   ]
  },
  {
   "cell_type": "code",
   "execution_count": null,
   "metadata": {},
   "outputs": [],
   "source": [
    "import java.time.LocalDate\n",
    "\n",
    "class Employee(/* fill this in */) {\n",
    "  /* fill this in */\n",
    "  \n",
    "  private def calcAge(birthDate: LocalDate): Int = {\n",
    "    import java.time.Period\n",
    "    Period.between(d, LocalDate.now).getYears\n",
    "  }\n",
    "  \n",
    "  private def parseDate(dateString: String): LocalDate = {\n",
    "    import java.time.format.DateTimeFormatter\n",
    "    import java.time.LocalDate\n",
    "    LocalDate.parse(dateString, DateTimeFormatter.ISO_LOCAL_DATE)\n",
    "  }\n",
    "}"
   ]
  },
  {
   "cell_type": "code",
   "execution_count": null,
   "metadata": {},
   "outputs": [],
   "source": [
    "// ANSWER\n",
    "import java.time.LocalDate\n",
    "\n",
    "class Employee(val firstName:       String,\n",
    "               val lastName:        String,\n",
    "               val birthDateString: String,\n",
    "               val ssn:             Option[String] = None) {\n",
    "  val birthDate = parseDate(birthDateString)\n",
    "  val age = calcAge(birthDate)\n",
    "  val fullName = s\"$firstName $lastName\"\n",
    "  \n",
    "  private def calcAge(birthDate: LocalDate): Int = {\n",
    "    import java.time.Period\n",
    "    Period.between(d, LocalDate.now).getYears\n",
    "  }\n",
    "  \n",
    "  private def parseDate(dateString: String): LocalDate = {\n",
    "    import java.time.format.DateTimeFormatter\n",
    "    import java.time.LocalDate\n",
    "    LocalDate.parse(dateString, DateTimeFormatter.ISO_LOCAL_DATE)\n",
    "  }\n",
    "}"
   ]
  },
  {
   "cell_type": "code",
   "execution_count": null,
   "metadata": {},
   "outputs": [],
   "source": [
    "// Run this cell to test your solution\n",
    "val e1 = new Employee(\"John\", \"Smallberries\", \"1959-10-31\", Some(\"923-37-5027\"))\n",
    "val e2 = new Employee(\"Anisa\", \"Gutman\", \"1989-02-16\")\n",
    "\n",
    "assert(e1.fullName == \"John Smallberries\", \"e1.fullName isn't correct\")\n",
    "assert(e1.lastName == \"Smallberries\", \"e1.lastName isn't correct\")\n",
    "assert(e1.ssn.getOrElse(\"\") == \"923-37-5027\", \"e1.ssn isn't correct\")\n",
    "\n",
    "assert(e1.birthDate.getYear == 1959, \"e1.birthDate has the wrong year\")\n",
    "assert(e1.birthDate.getMonthValue == 10, \"e1.birthDate has the wrong month\")\n",
    "assert(e1.birthDate.getDayOfMonth == 31, \"e1.birthDate has the wrong day\")\n",
    "\n",
    "assert(e2.fullName == \"Anisa Gutman\", \"e1.fullName isn't correct\")\n",
    "assert(e2.firstName == \"Anisa\", \"e2.firstName isn't correct\")\n",
    "assert(e2.ssn.isEmpty, \"e2.ssn is defined, but shouldn't be\")\n",
    "\n",
    "assert(e2.birthDate.getYear == 1989, \"e2.birthDate has the wrong year\")\n",
    "assert(e2.birthDate.getMonthValue == 2, \"e2.birthDate has the wrong month\")\n",
    "assert(e2.birthDate.getDayOfMonth == 16, \"e2.birthDate has the wrong day\")"
   ]
  },
  {
   "cell_type": "markdown",
   "metadata": {},
   "source": [
    "### Basic Inheritance\n",
    "\n",
    "You can inherit from a class, as you would expect. Just like Java, use the `extends` keyword:"
   ]
  },
  {
   "cell_type": "code",
   "execution_count": null,
   "metadata": {},
   "outputs": [],
   "source": [
    "class Foo {\n",
    "  val i: Int = scala.math.abs(scala.util.Random.nextInt)\n",
    "}\n",
    "\n",
    "class Bar extends Foo\n",
    "\n",
    "val foo = new Foo\n",
    "val bar = new Bar\n",
    "\n",
    "println(foo.i)\n",
    "println(bar.i)"
   ]
  },
  {
   "cell_type": "markdown",
   "metadata": {},
   "source": [
    "## Chaining superclass parameters"
   ]
  },
  {
   "cell_type": "code",
   "execution_count": null,
   "metadata": {},
   "outputs": [],
   "source": [
    "class Customer(name: String, age: Int, val customerID: String) extends Person(name, age)\n",
    "\n",
    "val customer = new Customer(\"John Bigbooté\", 55, \"X0982349-AL\")\n",
    "\n",
    "println(s\"${customer.name}, ${customer.age}, ${customer.customerID}\")"
   ]
  },
  {
   "cell_type": "markdown",
   "metadata": {},
   "source": [
    "If you don't want anyone to be able to subclass your class, mark it `final`."
   ]
  },
  {
   "cell_type": "code",
   "execution_count": null,
   "metadata": {},
   "outputs": [],
   "source": [
    "final class Quux {\n",
    "  var i: Int = 0\n",
    "}"
   ]
  },
  {
   "cell_type": "code",
   "execution_count": null,
   "metadata": {},
   "outputs": [],
   "source": [
    "// Won't compile\n",
    "class Fribble extends Quux"
   ]
  },
  {
   "cell_type": "markdown",
   "metadata": {},
   "source": [
    "### Abstract classes\n",
    "\n",
    "Scala, like Java, supports abstract classes. An abstract class cannot be instantiated, but it's a good place to stash common logic.\n",
    "\n",
    "* Abstract classes are marked with the keyword `abstract`. \n",
    "* They can also have abstract methods (methods without a body) and abstract fields (field definitions without an initializer).\n",
    "* Their constructors can take parameters."
   ]
  },
  {
   "cell_type": "code",
   "execution_count": null,
   "metadata": {},
   "outputs": [],
   "source": [
    "abstract class Pet(val age: Int) {\n",
    "  val name: String // no initializer => abstract field\n",
    "  \n",
    "  def speak: String // no body => abstract\n",
    "}"
   ]
  },
  {
   "cell_type": "markdown",
   "metadata": {},
   "source": [
    "Any subclass of `Pet` _must_ provide a `name` field and a `speak` method, or it will not compile:"
   ]
  },
  {
   "cell_type": "code",
   "execution_count": null,
   "metadata": {},
   "outputs": [],
   "source": [
    "// Won't compile\n",
    "class BadDog(age: Int, val name: String) extends Pet(age)"
   ]
  },
  {
   "cell_type": "code",
   "execution_count": null,
   "metadata": {},
   "outputs": [],
   "source": [
    "class Dog(age: Int, val name: String) extends Pet(age) {\n",
    "  def speak = \"Woof!\"\n",
    "}"
   ]
  },
  {
   "cell_type": "markdown",
   "metadata": {},
   "source": [
    "#### You can override a `def` with a `val`"
   ]
  },
  {
   "cell_type": "code",
   "execution_count": null,
   "metadata": {},
   "outputs": [],
   "source": [
    "class RefinedDog(age: Int, val name: String) extends Pet(age) {\n",
    "  val speak = \"Woof!\"\n",
    "}"
   ]
  },
  {
   "cell_type": "markdown",
   "metadata": {},
   "source": [
    "The rules for overriding fields and methods:\n",
    "\n",
    "* A `def` in a subclass can _only_ override a `def` in a superclass. (In other words, a `def` cannot override a `val` or a `var`.)\n",
    "* A `val` in a subclass can only override another `val` or a parameterless `def`.\n",
    "* A `var` can only override an abstract `var`."
   ]
  },
  {
   "cell_type": "markdown",
   "metadata": {},
   "source": [
    "![!](http://i.imgur.com/TvgcpDH.png) **Don't use a public `var` in a non-final class!**\n",
    "\n",
    "- While you can always hide it later, with your own custom getter and setter, anyone _extending_ your class doesn't have that option.\n",
    "- They _cannot_ override a `var` with a getter/setter pair.\n",
    "- **If you provide a `var` in a superclass, all subclasses are stuck with it.**"
   ]
  },
  {
   "cell_type": "code",
   "execution_count": null,
   "metadata": {},
   "outputs": [],
   "source": [
    "// Won't compile\n",
    "class MyBaseClass {\n",
    "  var i: Int = 0\n",
    "}\n",
    "\n",
    "class MySubClass extends MyBaseClass {\n",
    "  var _i: Int = 0\n",
    "  override def i = _i\n",
    "  override def i_=(newI: Int): Unit = {_i = newI}\n",
    "}"
   ]
  },
  {
   "cell_type": "markdown",
   "metadata": {},
   "source": [
    "### Overriding concrete members vs overriding abstract members\n",
    "\n",
    "When overriding a concrete member in a superclass, you _must_ use the `override` keyword. \n",
    "\n",
    "`override` is like Java's `@Override` annotation, except:\n",
    "\n",
    "- It's a keyword.\n",
    "- It's not optional.\n",
    "\n",
    "When overriding an abstract member, you do not need `override`.\n",
    "\n",
    "Examples:"
   ]
  },
  {
   "cell_type": "code",
   "execution_count": null,
   "metadata": {},
   "outputs": [],
   "source": [
    "abstract class SomeBase {\n",
    "  def abstractMethod1: String\n",
    "  \n",
    "  def concreteMethod1: String = \"foo\"\n",
    "}"
   ]
  },
  {
   "cell_type": "code",
   "execution_count": null,
   "metadata": {},
   "outputs": [],
   "source": [
    "// Will compile\n",
    "\n",
    "class GoodSubclass extends SomeBase {\n",
    "  val abstractMethod1 = \"Rickrollin'...\"\n",
    "  override val concreteMethod1 = \"...sucks\"\n",
    "}"
   ]
  },
  {
   "cell_type": "code",
   "execution_count": null,
   "metadata": {},
   "outputs": [],
   "source": [
    "// Won't compile\n",
    "\n",
    "class BadSubclass extends SomeBase {\n",
    "  val abstractMethod1 = \"Can we take a break now?\"\n",
    "  val concreteMethod1 = \"I could use some caffeine.\"\n",
    "}"
   ]
  },
  {
   "cell_type": "markdown",
   "metadata": {},
   "source": [
    "## Traits\n",
    "\n",
    "Conceptually, a trait is similar to a [Java 8 default method implementation](https://docs.oracle.com/javase/tutorial/java/IandI/defaultmethods.html) in a Java interface. However, traits are considerably more powerful.\n",
    "\n",
    "Like Java, Scala only permits you to extend one base class. Also like Java, you can mix in multiple traits (interfaces). Traits can also impose requirements on classes that mix them in.\n",
    "\n",
    "### Summary\n",
    "\n",
    "* A class can implement any number of traits.\n",
    "* Traits can require that implementing classes have certain fields, methods, or superclasses.\n",
    "* A trait can provide default implementations for methods and fields.\n",
    "* When you layer multiple traits, order matters: The trait whose methods execute _first_ is the last one in the list."
   ]
  },
  {
   "cell_type": "markdown",
   "metadata": {},
   "source": [
    "### Traits as interfaces\n",
    "\n",
    "A Scala trait can work exactly like an interface."
   ]
  },
  {
   "cell_type": "code",
   "execution_count": null,
   "metadata": {},
   "outputs": [],
   "source": [
    "trait CanLog {\n",
    "  def log(msg: String): Unit  // abstract method\n",
    "}"
   ]
  },
  {
   "cell_type": "markdown",
   "metadata": {},
   "source": [
    "A subclass can now provide an implementation.\n",
    "\n",
    "**NOTE**: When implementing a single trait, using `extends`, just as you would when extending a class."
   ]
  },
  {
   "cell_type": "code",
   "execution_count": null,
   "metadata": {},
   "outputs": [],
   "source": [
    "class ConsoleLogger extends CanLog {\n",
    "  def log(msg: String): Unit = {\n",
    "    println(msg)\n",
    "  }\n",
    "}\n",
    "\n",
    "val logger = new ConsoleLogger\n",
    "logger.log(\"One of the flayrods has gone out on treadle.\")"
   ]
  },
  {
   "cell_type": "markdown",
   "metadata": {},
   "source": [
    "#### Extending multiple traits\n",
    "\n",
    "If you need more than one trait, add the others using the `with` keyword. Note that Scala treats Java interfaces as if they were traits."
   ]
  },
  {
   "cell_type": "code",
   "execution_count": null,
   "metadata": {},
   "outputs": [],
   "source": [
    "class ConsoleLogger extends CanLog with Cloneable with Serializable {\n",
    "  def log(msg: String): Unit = {\n",
    "    println(msg)\n",
    "  }\n",
    "}"
   ]
  },
  {
   "cell_type": "markdown",
   "metadata": {},
   "source": [
    "![?](http://i.imgur.com/Guv4TBn.png) **Why do we use `extends` on the first one, but `with` for all the others?**\n",
    "\n",
    "Scala actually views the inheritance like this:\n",
    "\n",
    "```\n",
    "ConsoleLogger extends [CanLog with Cloneable with Serializable]\n",
    "```\n",
    "\n",
    "In other words, `ConsoleLogger` is extending a _composite_ that consists of `CanLog` with `Cloneable` and `Serializable`."
   ]
  },
  {
   "cell_type": "markdown",
   "metadata": {},
   "source": [
    "### Traits with implementations\n",
    "\n",
    "A trait's methods need not be abstract."
   ]
  },
  {
   "cell_type": "code",
   "execution_count": null,
   "metadata": {},
   "outputs": [],
   "source": [
    "trait ConsoleLogger extends CanLog {\n",
    "  def log(msg: String): Unit = println(msg)\n",
    "}"
   ]
  },
  {
   "cell_type": "markdown",
   "metadata": {},
   "source": [
    "We now have a trait with a method, and since it's a trait, it can be mixed into other classes."
   ]
  },
  {
   "cell_type": "code",
   "execution_count": null,
   "metadata": {},
   "outputs": [],
   "source": [
    "class Customer(name: String, age: Int, val customerID: String) extends Person(name, age) with ConsoleLogger {\n",
    "  def recordPurchase(product: String, quantity: Int, price: BigDecimal): Unit = {\n",
    "    log(s\"\"\"Customer $customerID just bought \"$product\" (quantity $quantity) for $price\"\"\")\n",
    "  }\n",
    "}\n",
    "\n",
    "val customer = new Customer(\"John Yaya\", 47, \"Y12994310-AL\")\n",
    "customer.recordPurchase(\"overthruster\", 1, 957.99)"
   ]
  },
  {
   "cell_type": "markdown",
   "metadata": {},
   "source": [
    "![!](http://i.imgur.com/TvgcpDH.png) There's one problem with traits that have concrete implementions: When such a trait changes, _all_ class that mix the trait in _must_ be recompiled."
   ]
  },
  {
   "cell_type": "markdown",
   "metadata": {},
   "source": [
    "### Fields in traits\n",
    "\n",
    "Traits can have fields (values), not just methods.\n",
    "\n",
    "#### Concrete fields\n",
    "\n",
    "Traits can have concrete (non-abstract) fields. Consider:"
   ]
  },
  {
   "cell_type": "code",
   "execution_count": null,
   "metadata": {},
   "outputs": [],
   "source": [
    "trait ShortLogger extends CanLog {\n",
    "  val maxLength = 15\n",
    "  \n",
    "  abstract override def log(msg: String): Unit = {\n",
    "    super.log(\n",
    "      if (msg.length < maxLength) msg else msg.take(maxLength - 3).mkString(\"\") + \"...\"\n",
    "    )\n",
    "  }\n",
    "}"
   ]
  },
  {
   "cell_type": "markdown",
   "metadata": {},
   "source": [
    "Any class that mixes `ShortLogger` in acquires a `maxLength` field. The field is added _directly_ to (i.e, mixed into) the class; it's not inherited. "
   ]
  },
  {
   "cell_type": "code",
   "execution_count": null,
   "metadata": {},
   "outputs": [],
   "source": [
    "val log = new ConsoleLogger with ShortLogger\n",
    "log.log(\"This is a message that exceeds 15 characters. It should be truncated before being written to the console.\")"
   ]
  },
  {
   "cell_type": "markdown",
   "metadata": {},
   "source": [
    "You can think of concrete trait fields as \"assembly instructions\" for the classes that use the trait. Any such fields become fields of the class."
   ]
  },
  {
   "cell_type": "markdown",
   "metadata": {},
   "source": [
    "<div style=\"border: 1px solid #ddd; border-radius: 10px 10px 10px 10px; padding: 10px; background-color: #f7edcd; width: 40%; margin: 20px\">\n",
    "<h3>Why do I need <tt>abstract override</tt> when <tt>CanLog.log()</tt> is already abstract?</h3>\n",
    "\n",
    "<p>Scala has no way of knowing which <tt>log()</tt> method <tt>super.log()</tt> is invoking, because it all depends on what traits\n",
    "are mixed in and in what order. So, the Scala compiler takes the position that <tt>log()</tt> is still abstract, even though we're\n",
    "providing a default implementation. It still requires that some <i>concrete</i> implementation be mixed in. Thus, you have to define\n",
    "the <tt>ShortLogger</tt> version of <tt>log()</tt> with <tt>abstract override</tt>.</p>\n",
    "</div>"
   ]
  },
  {
   "cell_type": "markdown",
   "metadata": {},
   "source": [
    "#### Abstract fields\n",
    "\n",
    "Traits can also have abstract fields. Any concrete class that mixes in the trait must supply an concrete value for the field. Let's demonstrate with a variation of the `ShortLogger` trait that doesn't hard-code the maxLength."
   ]
  },
  {
   "cell_type": "code",
   "execution_count": null,
   "metadata": {},
   "outputs": [],
   "source": [
    "trait ShortLogger extends CanLog {\n",
    "  val maxLength: Int  // no initialized value, so abstract\n",
    "  \n",
    "  override abstract def log(msg: String): Unit = {\n",
    "    super.log(\n",
    "      if (msg.length < maxLength) msg else msg.take(maxLength - 3).mkString(\"\") + \"...\"\n",
    "    )\n",
    "  }\n",
    "}"
   ]
  },
  {
   "cell_type": "markdown",
   "metadata": {},
   "source": [
    "Now, any attempt to instantiate a class that mixes in `ShortLogger` will fail, unless we also provide a `maxLength` concrete field."
   ]
  },
  {
   "cell_type": "code",
   "execution_count": null,
   "metadata": {},
   "outputs": [],
   "source": [
    "// This fails\n",
    "val log = new ConsoleLogger with ShortLogger {\n",
    "  override def log(msg: String): Unit = super.log(msg)\n",
    "}"
   ]
  },
  {
   "cell_type": "code",
   "execution_count": null,
   "metadata": {},
   "outputs": [],
   "source": [
    "// This succeeds\n",
    "val log = new ConsoleLogger with ShortLogger {\n",
    "  val maxLength = 20\n",
    "  \n",
    "  override def log(msg: String): Unit = super.log(msg)\n",
    "}"
   ]
  },
  {
   "cell_type": "code",
   "execution_count": null,
   "metadata": {},
   "outputs": [],
   "source": [
    "log.log(\"This is a message that exceeds 20 characters. It should be truncated before being written to the console.\")"
   ]
  },
  {
   "cell_type": "markdown",
   "metadata": {},
   "source": [
    "### Trait construction order and layered traits\n",
    "\n",
    "Just like classes, traits can have primary constructors. For instance:"
   ]
  },
  {
   "cell_type": "code",
   "execution_count": null,
   "metadata": {},
   "outputs": [],
   "source": [
    "trait FileLogger extends CanLog {\n",
    "  import java.io.{PrintWriter, FileOutputStream}\n",
    "  val out = new PrintWriter(new FileOutputStream(\"/tmp/phase.log\", true))\n",
    "  out.println(s\"# STARTING NEW LOG AT ${new java.util.Date}\")\n",
    "  \n",
    "  abstract override def log(msg: String): Unit = {\n",
    "    out.println(msg)\n",
    "    out.flush()\n",
    "    super.log(msg)\n",
    "  }\n",
    "}"
   ]
  },
  {
   "cell_type": "code",
   "execution_count": null,
   "metadata": {},
   "outputs": [],
   "source": [
    "val log = new ConsoleLogger with FileLogger {\n",
    "  override def log(msg: String): Unit = super.log(msg)\n",
    "}\n",
    "\n",
    "log.log(\"This is a message that should go to the file and the console.\")"
   ]
  },
  {
   "cell_type": "code",
   "execution_count": null,
   "metadata": {},
   "outputs": [],
   "source": [
    "// What's in the file?\n",
    "import scala.sys.process._\n",
    "\n",
    "println(\"cat /tmp/phase.log\".!!)"
   ]
  },
  {
   "cell_type": "markdown",
   "metadata": {},
   "source": [
    "With traits mixed in, here's how object construction works:\n",
    "\n",
    "1. The superclass constructor is called first.\n",
    "2. Trait constructors are executed next, _before_ the class constructor.\n",
    "3. Traits are constructed left to right, but:\n",
    "4. ...within each trait, _parents_ are constructed first.\n",
    "5. If multiple traits share a common parent, and that parent has been constructed already, it is not constructed again.\n",
    "6. After all traits are constructed, the subclass is constructed.\n",
    "\n",
    "Confused? Let's clarify with an example."
   ]
  },
  {
   "cell_type": "code",
   "execution_count": null,
   "metadata": {},
   "outputs": [],
   "source": [
    "abstract class Account(account: String) extends CanLog {\n",
    "  val accountNumber = account.replace(\"-\", \"\")\n",
    "  \n",
    "  override def log(msg: String): Unit = {}\n",
    "}\n",
    "\n",
    "class SavingsAccount(accountNumber: String, val interestRate: BigDecimal) extends Account(accountNumber) with FileLogger with ShortLogger {\n",
    "  val maxLength = 50\n",
    "}"
   ]
  },
  {
   "cell_type": "code",
   "execution_count": null,
   "metadata": {},
   "outputs": [],
   "source": [
    "val acct = new SavingsAccount(\"203-94-87234-1\", BigDecimal(0.3))\n",
    "acct.log(s\"Acct number: ${acct.accountNumber}\")"
   ]
  },
  {
   "cell_type": "code",
   "execution_count": null,
   "metadata": {},
   "outputs": [],
   "source": [
    "println(\"cat /tmp/phase.log\".!!)"
   ]
  },
  {
   "cell_type": "markdown",
   "metadata": {},
   "source": [
    "The `SavingsAccount` object is constructed in this order:\n",
    "\n",
    "1. The `Account` constructor fires (initializing `accountNumber`).\n",
    "2. The `CanLog` trait is constructed, as it's the parent of the first trait, `FileLogger`.\n",
    "3. `FileLogger` is constructed next.\n",
    "4. Then, `ShortLogger` is constructed—but, since its parent, `CanLog` has already been constructed, it isn't constructed again.\n",
    "5. Finally, `SavingsAccount` is constructed.\n",
    "\n",
    "This approach lends itself nicely to using traits as an on-the-fly composition mechanism. To save time, instead\n",
    "of doing another exercise, let's just look at a couple quick examples."
   ]
  },
  {
   "cell_type": "code",
   "execution_count": null,
   "metadata": {},
   "outputs": [],
   "source": [
    "// Logger that adds a timestamp to a log message and forwards the result along.\n",
    "trait TimestampLogger extends CanLog {\n",
    "  import java.time.{ZonedDateTime, ZoneId}\n",
    "  import java.time.format.DateTimeFormatter\n",
    "  \n",
    "  private val format = DateTimeFormatter.ofPattern(\"yyyy/mm/dd HH:MM:ss.SSS\")\n",
    "  abstract override def log(msg: String): Unit = {\n",
    "    // Always log in UTC\n",
    "    val now = ZonedDateTime.now(ZoneId.of(\"UTC\"))\n",
    "\n",
    "    super.log(s\"${format.format(now)}: $msg\")\n",
    "  }\n",
    "}"
   ]
  },
  {
   "cell_type": "code",
   "execution_count": null,
   "metadata": {},
   "outputs": [],
   "source": [
    "val log1 = new ConsoleLogger with ShortLogger with TimestampLogger {\n",
    "  val maxLength = 24\n",
    "  override def log(msg: String): Unit = super.log(msg)\n",
    "}\n",
    "val log2 = new ConsoleLogger with TimestampLogger with ShortLogger {\n",
    "  val maxLength = 24\n",
    "  override def log(msg: String): Unit = super.log(msg)\n",
    "}"
   ]
  },
  {
   "cell_type": "markdown",
   "metadata": {},
   "source": [
    "Okay, watch carefully. One of you will be asked to explain what's going on here."
   ]
  },
  {
   "cell_type": "code",
   "execution_count": null,
   "metadata": {},
   "outputs": [],
   "source": [
    "val msg = \"Strange women lying in ponds is no basis for a system of government.\"\n",
    "\n",
    "log1.log(msg)\n",
    "log2.log(msg)"
   ]
  },
  {
   "cell_type": "markdown",
   "metadata": {},
   "source": [
    "## Objects\n",
    "\n",
    "Scala supports the notion of a singleton object, and that's the final concept we'll be covering in this lesson.\n",
    "\n",
    "### Summary\n",
    "\n",
    "* Objects are for singletons and utility methods.\n",
    "* A class can have a companion object of the same name.\n",
    "* Objects can extend classes and traits.\n",
    "* The `apply()` method of an object is special.\n",
    "\n",
    "### Where the \\*@$! is the `static` keyword?\n",
    "\n",
    "Scala has no `static` keyword. Classes must be instantiated to call any methods on them.\n",
    "\n",
    "Instead of `static` methods and `static` classes, Scala has singleton objects. For example:"
   ]
  },
  {
   "cell_type": "code",
   "execution_count": null,
   "metadata": {},
   "outputs": [],
   "source": [
    "object Stat extends ConsoleLogger {\n",
    "  def median(items: Double*): Double = {\n",
    "    val itemList = items.toList\n",
    "    val len = itemList.length\n",
    "    require (len > 0)\n",
    "\n",
    "    if (len == 1)\n",
    "      itemList.head\n",
    "\n",
    "    else {\n",
    "      val sorted = itemList sortWith(_ < _)\n",
    "      val midpoint = sorted.length / 2\n",
    "      if (len % 2 == 0)\n",
    "        mean(sorted(midpoint), sorted(midpoint - 1))\n",
    "      else\n",
    "        sorted(midpoint)\n",
    "    }\n",
    "  }\n",
    "  \n",
    "  def mean(items: Double*): Double = {\n",
    "    val itemList = items.toList\n",
    "    val len = itemList.length\n",
    "    require (len > 0)\n",
    "\n",
    "    if (len == 1)\n",
    "      itemList.head\n",
    "    else\n",
    "      itemList.foldLeft(0.0)((a, b) => a + b) / len\n",
    "  }\n",
    "}"
   ]
  },
  {
   "cell_type": "code",
   "execution_count": null,
   "metadata": {},
   "outputs": [],
   "source": [
    "val values = (1 to 40).map { _ => scala.util.Random.nextInt(20).toDouble }\n",
    "println(s\"Values = ${values.mkString(\", \")}\")\n",
    "println(s\"mean=${Stat.mean(values: _*)}, median=${Stat.median(values: _*)}\")\n",
    "println(\"-\" * 30)"
   ]
  },
  {
   "cell_type": "code",
   "execution_count": null,
   "metadata": {},
   "outputs": [],
   "source": [
    "%sh"
   ]
  },
  {
   "cell_type": "markdown",
   "metadata": {},
   "source": [
    "### Objects as packages\n",
    "\n",
    "As noted in a previous unit, you can import from objects. This feature means you can\n",
    "also treat singleton objects as packages."
   ]
  },
  {
   "cell_type": "code",
   "execution_count": null,
   "metadata": {},
   "outputs": [],
   "source": [
    "object org {\n",
    "  object example {\n",
    "    object stat {\n",
    "      def mean(items: Double*): Double = {\n",
    "        val itemList = items.toList\n",
    "        val len = itemList.length\n",
    "        require (len > 0)\n",
    "\n",
    "        if (len == 1)\n",
    "          itemList.head\n",
    "        else\n",
    "          itemList.foldLeft(0.0)((a, b) => a + b) / len\n",
    "      }\n",
    "    }\n",
    "  }\n",
    "}"
   ]
  },
  {
   "cell_type": "code",
   "execution_count": null,
   "metadata": {},
   "outputs": [],
   "source": [
    "import org.example.stat.mean\n",
    "\n",
    "mean(10, 20, 5, 14, 13.3)"
   ]
  },
  {
   "cell_type": "markdown",
   "metadata": {},
   "source": [
    "### Companion objects\n",
    "\n",
    "A common pattern in Java is the factory pattern, where you construct an object by calling a static method rather than the constructor. Without static methods, how do we do the same thing in Scala?\n",
    "\n",
    "In Scala, you can have a `class` and an `object` that have the same name. As long as they're defined in the same source file, they're called _companion objects_."
   ]
  },
  {
   "cell_type": "code",
   "execution_count": null,
   "metadata": {},
   "outputs": [],
   "source": [
    "class Account(val accountNumber: String)\n",
    "\n",
    "object Account {\n",
    "  def create(accountNumber: String) = new Account(accountNumber)\n",
    "}"
   ]
  },
  {
   "cell_type": "markdown",
   "metadata": {},
   "source": [
    "Now, I can create an `Account` object two ways:"
   ]
  },
  {
   "cell_type": "code",
   "execution_count": null,
   "metadata": {},
   "outputs": [],
   "source": [
    "val a1 = new Account(\"0927834\")\n",
    "val a2 = Account.create(\"87654233\")"
   ]
  },
  {
   "cell_type": "markdown",
   "metadata": {},
   "source": [
    "#### Companions are special\n",
    "\n",
    "But there's more to it than that. Companion objects share a special relationship: They can (you'll pardon the expression) _see each other's privates_.\n",
    "\n",
    "Let's make the `Account` constructor private, and try again."
   ]
  },
  {
   "cell_type": "code",
   "execution_count": null,
   "metadata": {},
   "outputs": [],
   "source": [
    "class Account private(val accountNumber: String)\n",
    "\n",
    "object Account {\n",
    "  def create(accountNumber: String) = new Account(accountNumber)\n",
    "}"
   ]
  },
  {
   "cell_type": "markdown",
   "metadata": {},
   "source": [
    "With that change, I can no longer call the constructor. I have no choice but to use\n",
    "the `create` function."
   ]
  },
  {
   "cell_type": "code",
   "execution_count": null,
   "metadata": {},
   "outputs": [],
   "source": [
    "val a1 = new Account(\"0927834\")"
   ]
  },
  {
   "cell_type": "code",
   "execution_count": null,
   "metadata": {},
   "outputs": [],
   "source": [
    "val a1 = Account.create(\"0927834\")"
   ]
  },
  {
   "cell_type": "markdown",
   "metadata": {},
   "source": [
    "### The `apply()` method\n",
    "\n",
    "There's a special method you can use on _any_ object (whether instantiated from a class or an `object` singleton) called `apply()`. Scala has special syntactic sugar for `apply`, best described by example. Let's convert our `Account` example so that `create` is called `apply`."
   ]
  },
  {
   "cell_type": "code",
   "execution_count": null,
   "metadata": {},
   "outputs": [],
   "source": [
    "class Account private(val accountNumber: String)\n",
    "\n",
    "object Account {\n",
    "  def apply(accountNumber: String) = new Account(accountNumber)\n",
    "}"
   ]
  },
  {
   "cell_type": "markdown",
   "metadata": {},
   "source": [
    "Naturally, I can now create an account by calling `Account.apply()`. But, Scala has a shorter syntax. If I try to invoke the object as if it were a function, like this:\n",
    "\n",
    "```scala\n",
    "Account(\"871324\")\n",
    "```\n",
    "\n",
    "the compiler turns that into a call to `apply()`:\n",
    "\n",
    "```scala\n",
    "Account.apply(\"871324\")\n",
    "```"
   ]
  },
  {
   "cell_type": "code",
   "execution_count": null,
   "metadata": {},
   "outputs": [],
   "source": [
    "// These are equivalent\n",
    "val a1 = Account(\"871324\")\n",
    "val a2 = Account.apply(\"871324\")\n",
    "\n",
    "println(a1.accountNumber)\n",
    "println(a2.accountNumber)"
   ]
  },
  {
   "cell_type": "markdown",
   "metadata": {},
   "source": [
    "#### Aside\n",
    "\n",
    "This is why Scala's array subscript \"operator\" is parentheses (`()`), not square brackets (`[]`): There's an `apply()` method on the `Array` _class_. You can call the method on any Array _instance_ to subscript the array."
   ]
  },
  {
   "cell_type": "code",
   "execution_count": null,
   "metadata": {},
   "outputs": [],
   "source": [
    "val arr = (1 to 30 by 2).toArray\n",
    "\n",
    "println(arr(0))\n",
    "println(arr.apply(0))"
   ]
  },
  {
   "cell_type": "markdown",
   "metadata": {},
   "source": [
    "### Objects can extend traits and classes\n",
    "\n",
    "A singleton `object` can extend any class or trait."
   ]
  },
  {
   "cell_type": "code",
   "execution_count": null,
   "metadata": {},
   "outputs": [],
   "source": [
    "object MyLogger extends ConsoleLogger with TimestampLogger with ShortLogger {\n",
    "  val maxLength = 80\n",
    "}"
   ]
  },
  {
   "cell_type": "code",
   "execution_count": null,
   "metadata": {},
   "outputs": [],
   "source": [
    "MyLogger.log(\"Your mother called. She says you never call her.\")"
   ]
  },
  {
   "cell_type": "markdown",
   "metadata": {},
   "source": [
    "### Singleton objects do _not_ have constructor parameters\n",
    "\n",
    "- You can put logic in the object's constructor, exactly as you would do with a class or trait. \n",
    "- _But_ objects cannot be passed constructor parameters. \n",
    "\n",
    "An `object` is a singleton. If you want objects that can be instantiated with different parameters, use a `class`."
   ]
  },
  {
   "cell_type": "code",
   "execution_count": null,
   "metadata": {},
   "outputs": [],
   "source": [
    "object Foo {\n",
    "  println(\"This will fire when I first use the object.\")\n",
    "  \n",
    "  def doSomethingWith(i: Int) = println(i)\n",
    "}"
   ]
  },
  {
   "cell_type": "code",
   "execution_count": null,
   "metadata": {},
   "outputs": [],
   "source": [
    "Foo.doSomethingWith(15)"
   ]
  },
  {
   "cell_type": "code",
   "execution_count": null,
   "metadata": {},
   "outputs": [],
   "source": [
    "Foo.doSomethingWith(20)"
   ]
  },
  {
   "cell_type": "markdown",
   "metadata": {},
   "source": [
    "### Objects as main programs\n",
    "\n",
    "There are two ways to build a main program in Scala. The most straightforward way is to write an object that contains a `main()` method:"
   ]
  },
  {
   "cell_type": "code",
   "execution_count": null,
   "metadata": {},
   "outputs": [],
   "source": [
    "object MyProgram1 {\n",
    "  def main(args: Array[String]): Unit = {\n",
    "    println(\"Bonjour, tout le monde.\")\n",
    "    args.foreach(println)\n",
    "  }\n",
    "}"
   ]
  },
  {
   "cell_type": "markdown",
   "metadata": {},
   "source": [
    "We can't actually run the program here. But, assuming you saved that code to a file\n",
    "called `MyProgram1.scala`, and you've installed Scala on your laptop, you can compile\n",
    "and run it with these commands:\n",
    "\n",
    "```shell\n",
    "$ scalac -d . MyProgram1.scala\n",
    "$ scala -cp . MyProgram1\n",
    "```\n",
    "\n",
    "Another way to create a main program in Scala is to use the special `App` trait. Then, everything in the `object` constructor becomes the main program, and the arguments are available as `args`:"
   ]
  },
  {
   "cell_type": "code",
   "execution_count": null,
   "metadata": {},
   "outputs": [],
   "source": [
    "object MyProgram2 extends App {\n",
    "  println(\"Hola, mundo.\")\n",
    "  args.foreach(println)\n",
    "}"
   ]
  },
  {
   "cell_type": "markdown",
   "metadata": {},
   "source": [
    "## That's all for Classes, Traits and Objects!"
   ]
  },
  {
   "cell_type": "code",
   "execution_count": null,
   "metadata": {},
   "outputs": [],
   "source": []
  }
 ],
 "metadata": {
  "kernelspec": {
   "display_name": "Scala 2.11",
   "language": "scala",
   "name": "scala211"
  },
  "language_info": {
   "codemirror_mode": "text/x-scala",
   "file_extension": ".scala",
   "mimetype": "text/x-scala",
   "name": "scala",
   "nbconvert_exporter": "script",
   "version": "2.11.12"
  }
 },
 "nbformat": 4,
 "nbformat_minor": 2
}
