{
 "cells": [
  {
   "cell_type": "markdown",
   "metadata": {},
   "source": [
    "# _Scala Fundamentals_\n",
    "# 3. Collections and the Option type\n",
    "\n",
    "_This module was originally developed by Martin Snyder._\n",
    "\n",
    "## Example Context\n",
    "\n",
    "Let's start out with this context. We haven't talked about classes or objects yet.\n",
    "We don't need an in-depth understanding of them for this example, but a brief\n",
    "description is worthwhile.\n",
    "\n",
    "- A `case class` is a container for data, with some methods automatically\n",
    "  generated. (You can add your own, too.)\n",
    "    - If you're a Java programmer, think of a case class as a readonly Java Bean.\n",
    "    - If you're a Python programmer, they're kind of like named tuples or the\n",
    "      [dataclasses](https://docs.python.org/3/library/dataclasses.html) from Python 3.7.\n",
    "- Case classes are immutable, by default, and every member is public, by default.\n",
    "- A case class can be instantiated without using the `new` keyword.\n",
    "- An `object` is a singleton that can contain classes, values, other objects, and\n",
    "  functions. (The JVM doesn't allow functions to stand alone, by themselves. They have\n",
    "  to be contained within _something_.)\n",
    "\n"
   ]
  },
  {
   "cell_type": "code",
   "execution_count": null,
   "metadata": {},
   "outputs": [],
   "source": [
    "object Example {\n",
    "  case class Person(firstName: String, lastName: String, salary: Int, ssn: String) {\n",
    "    override def toString: String = s\"$firstName $lastName\"\n",
    "  }\n",
    "\n",
    "  val AllPeople = List(\n",
    "    Person(\"Abby\",   \"Adams\",    203190, \"913-98-6520\"),\n",
    "    Person(\"Brian\",  \"Bosworth\",  57945, \"955-66-1239\"),\n",
    "    Person(\"Clair\",  \"Cassidy\",  107455, \"942-90-6988\"),\n",
    "    Person(\"Dan\",    \"Dirkes\",   207472, \"978-38-9209\"),\n",
    "    Person(\"Elaine\", \"Edwards\",  231743, \"943-68-7575\")\n",
    "  )\n",
    "}"
   ]
  },
  {
   "cell_type": "markdown",
   "metadata": {},
   "source": [
    "## Example 3.1: Overview\n",
    "\n",
    "Problem Statement: Produce a map of SSN &rarr; `Person` for all the \"high earners\". A high earner is someone earning more than $200,000 a year.\n",
    "\n",
    "### Solution 3.1a\n",
    "\n",
    "A naive solution, using mutable collections."
   ]
  },
  {
   "cell_type": "code",
   "execution_count": null,
   "metadata": {},
   "outputs": [],
   "source": [
    "import scala.collection.mutable.HashMap\n",
    "\n",
    "def buildMapOfHighEarners(people: List[Example.Person]): HashMap[String, Example.Person] = {\n",
    "  val highEarners = new HashMap[String, Example.Person]()\n",
    "\n",
    "  people.foreach(person => {\n",
    "    if (person.salary > 200000) {\n",
    "      highEarners.put(person.ssn, person)\n",
    "    }\n",
    "  })\n",
    "\n",
    "  highEarners\n",
    "}\n",
    "\n",
    "val highEarners = buildMapOfHighEarners(Example.AllPeople)"
   ]
  },
  {
   "cell_type": "markdown",
   "metadata": {},
   "source": [
    "### Solution 3.1b\n",
    "\n",
    "Functional solution using immutable collections"
   ]
  },
  {
   "cell_type": "code",
   "execution_count": null,
   "metadata": {},
   "outputs": [],
   "source": [
    "val highEarners = Example.AllPeople\n",
    "  .filter(person => person.salary > 200000)\n",
    "  .map(person => person.ssn -> person)\n",
    "  .toMap"
   ]
  },
  {
   "cell_type": "markdown",
   "metadata": {},
   "source": [
    "### Solution 3.1c\n",
    "\n",
    "Alternate example, using a `groupBy` method defined on collections."
   ]
  },
  {
   "cell_type": "code",
   "execution_count": null,
   "metadata": {},
   "outputs": [],
   "source": [
    "val highEarners = Example.AllPeople\n",
    "  .filter(person => person.salary > 200000)\n",
    "  .groupBy(person => person.ssn)\n",
    "  .map { case (ssn, list) => (ssn, list.head) }"
   ]
  },
  {
   "cell_type": "markdown",
   "metadata": {},
   "source": [
    "Don't worry about that `case (ssn, list)` thing. We'll discuss that later.\n",
    "\n",
    "Example 1c just illustrates that there are often many ways to do the same thing with collections."
   ]
  },
  {
   "cell_type": "markdown",
   "metadata": {},
   "source": [
    "## Collections Library\n",
    "\n",
    "### Common classes\n",
    "\n",
    "- [`scala.collection.immutable.List`](https://www.scala-lang.org/files/archive/api/2.13.0/scala/collection/immutable/List.html)\n",
    "- [`scala.collection.immutable.Map`](https://www.scala-lang.org/files/archive/api/2.13.0/scala/collection/immutable/Map.html)\n",
    "- [`scala.collection.immutable.Set`](https://www.scala-lang.org/files/archive/api/2.13.0/scala/collection/immutable/Set.html)\n",
    "\n",
    "Aliases for these three definitions also exist in a package that Scala imports for you automatically, so you don't\n",
    "have to import anything to use them.\n",
    "\n",
    "### Advantages of immutable collections\n",
    "\n",
    "- Zero-cost copy operations.\n",
    "- Free \"snapshots\" of data.\n",
    "- Clearer picture of data transitions.\n",
    "- Related structures can share elements."
   ]
  },
  {
   "cell_type": "markdown",
   "metadata": {},
   "source": [
    "## Example 3.2: Adding to a collection\n",
    "\n",
    "Add a new person to `AllPeople`.\n",
    "\n",
    "Really, what we'll be doing is creating a new (shallow) copy of `AllPeople`, with the new person added.\n",
    "\n",
    "### Solution 3.2a\n",
    "\n",
    "Mutable collection solution."
   ]
  },
  {
   "cell_type": "code",
   "execution_count": null,
   "metadata": {},
   "outputs": [],
   "source": [
    "import scala.collection.mutable.ListBuffer\n",
    "\n",
    "def addPerson(existingPeople: List[Example.Person], newPerson: Example.Person): List[Example.Person] = {\n",
    "  val updatedPeople = new ListBuffer[Example.Person]()\n",
    "\n",
    "  existingPeople.foreach(person => updatedPeople.append(person))\n",
    "  updatedPeople.append(newPerson)\n",
    "\n",
    "  updatedPeople.toList\n",
    "}\n",
    "\n",
    "val evenMorePeople = addPerson(Example.AllPeople, Example.Person(\"William\", \"Gates\", 0, \"123-45-6789\"))"
   ]
  },
  {
   "cell_type": "markdown",
   "metadata": {},
   "source": [
    "### Solution 3.2b\n",
    "\n",
    "Immutable list solution, prepending the new element."
   ]
  },
  {
   "cell_type": "code",
   "execution_count": null,
   "metadata": {},
   "outputs": [],
   "source": [
    "val evenMorePeople = Example.Person(\"William\", \"Gates\", 0, \"123-45-6789\") :: Example.AllPeople"
   ]
  },
  {
   "cell_type": "markdown",
   "metadata": {},
   "source": [
    "### Solution 3.2c\n",
    "\n",
    "Adding to the end of a list."
   ]
  },
  {
   "cell_type": "code",
   "execution_count": null,
   "metadata": {},
   "outputs": [],
   "source": [
    "val evenMorePeople = Example.AllPeople ::: List(Example.Person(\"William\", \"Gates\", 0, \"123-45-6789\"))"
   ]
  },
  {
   "cell_type": "markdown",
   "metadata": {},
   "source": [
    "Generally, with a `List`, prepending performs better."
   ]
  },
  {
   "cell_type": "markdown",
   "metadata": {},
   "source": [
    "## Example 3.3: Building Sets and Maps"
   ]
  },
  {
   "cell_type": "code",
   "execution_count": null,
   "metadata": {},
   "outputs": [],
   "source": [
    "val billGates = Example.Person(\"William\", \"Gates\", 0, \"123-45-6789\")\n",
    "val tuple: (String, Example.Person) = billGates.ssn -> billGates\n",
    "\n",
    "val setOfPeople1: Set[Example.Person] = Example.AllPeople.toSet\n",
    "val setOfPeople2: Set[Example.Person] = Set(billGates)\n",
    "\n",
    "val mapOfPeople1: Map[String, Example.Person] = Map(tuple)\n",
    "val mapOfPeople2: Map[String, Example.Person] = List(tuple).toMap"
   ]
  },
  {
   "cell_type": "markdown",
   "metadata": {},
   "source": [
    "## Commonly used collection methods\n",
    "\n",
    "- `filter`\n",
    "- `map`\n",
    "- `flatten`\n",
    "- `flatMap`\n",
    "- `size` (and, in some cases, `length`)\n",
    "\n",
    "See [`scala.collection.Iterable`](https://www.scala-lang.org/files/archive/api/2.13.0/scala/collection/Iterable.html)."
   ]
  },
  {
   "cell_type": "markdown",
   "metadata": {},
   "source": [
    "## Example 3.4: Filter\n",
    "\n",
    "Create a collection of the people whose first name is one letter shorter than their last name.\n",
    "\n",
    "(It's higher-order function time, again!)"
   ]
  },
  {
   "cell_type": "code",
   "execution_count": null,
   "metadata": {},
   "outputs": [],
   "source": [
    "val somePeople = Example.AllPeople.filter(person => person.firstName.length == person.lastName.length - 1)"
   ]
  },
  {
   "cell_type": "markdown",
   "metadata": {},
   "source": [
    "## Example 3.5: Map\n",
    "\n",
    "Transform a list of `Person` objects to a collection of SSN (`String`) values.\n",
    "\n",
    "Remember our `transform` function, from the previous lesson? The `map` function is why\n",
    "we don't need `transform`. Every collection (and some other things, like `String`) have `map`."
   ]
  },
  {
   "cell_type": "code",
   "execution_count": null,
   "metadata": {},
   "outputs": [],
   "source": [
    "val ssns: Seq[String] = Example.AllPeople.map(person => person.ssn)"
   ]
  },
  {
   "cell_type": "markdown",
   "metadata": {},
   "source": [
    "## Example 3.6: Flatten\n",
    "\n",
    "Transform a list of integers into a list of the factors of those integers. Let's do this in steps, so you can see what's happening.\n",
    "\n",
    "**Note**: The `to` and `until` functions, defined on integral types (and characters) create _ranges_. We're using them here.\n",
    "Ranges contain their endpoints and a step (which defaults to 1). They don't contain every number in the range. The numbers in\n",
    "the range are generated lazily, as you loop over the range.\n",
    "\n",
    "- `1 to 10` creates a range of numbers from 1 to 10, inclusive.\n",
    "- `1 until 10` creates a range of numbers from 1 to 9."
   ]
  },
  {
   "cell_type": "code",
   "execution_count": null,
   "metadata": {},
   "outputs": [],
   "source": [
    "def getFactors(number: Int): Seq[Int] = {\n",
    "  (2 until number)\n",
    "    .filter(candidate => number % candidate == 0)\n",
    "}\n",
    "\n",
    "val numbers = (11 to 20 by 3)\n",
    "val factors = numbers.map(getFactors)\n",
    "val flattenedFactors = factors.flatten"
   ]
  },
  {
   "cell_type": "markdown",
   "metadata": {},
   "source": [
    "- Notice how each call to `getFactors` for one number returns a `List` of factors for that number.\n",
    "- Our `numbers.map` call maps a list of numbers into a list of lists of factors.\n",
    "- Calling flatten on the list of lists does what you'd expect: flattens one dimension out.\n",
    "\n",
    "(Calling `flatten` on a list of list of lists would produce a list of lists. Each call flattens one level.)\n",
    "\n",
    "Let's put the whole thing together into one chain. While we're at it, let's filter out duplicates and sort\n",
    "the result."
   ]
  },
  {
   "cell_type": "code",
   "execution_count": null,
   "metadata": {},
   "outputs": [],
   "source": [
    "val distinctSortedFactors =\n",
    "  (11 to 20 by 3)\n",
    "    .map(getFactors)\n",
    "    .flatten\n",
    "    .distinct\n",
    "    .sorted"
   ]
  },
  {
   "cell_type": "markdown",
   "metadata": {},
   "source": [
    "## Example 3.7: FlatMap\n",
    "\n",
    "Transform a list of integers into a list of the factors _of the factors_ of those integers."
   ]
  },
  {
   "cell_type": "code",
   "execution_count": null,
   "metadata": {},
   "outputs": [],
   "source": [
    "def getFactors(number: Int): Seq[Int] = {\n",
    "  (2 until number)\n",
    "    .filter(candidate => number % candidate == 0)\n",
    "}\n",
    "\n",
    "val distinctSortedFactorsOfFactors =\n",
    "  (11 to 20 by 3)\n",
    "    .flatMap(getFactors)\n",
    "    .flatMap(getFactors)\n",
    "    .distinct\n",
    "    .sorted"
   ]
  },
  {
   "cell_type": "markdown",
   "metadata": {},
   "source": [
    "### Reductions\n",
    "\n",
    "Collections have various methods that can reduce a collection down to a single value. Here are some examples.\n",
    "\n",
    "#### `reduce`\n",
    "\n",
    "`reduce` applies a function to two elements at a time.\n",
    "\n",
    "- The first time it calls the supplied lambda, `reduce` passes the first two elements of the collection. The lambda combines those elements into one element\n",
    "  and returns it.\n",
    "- The second time it calls the supplied lambda, `reduce` passes the result of the first call to the lambda and the third element of the collection.\n",
    "- etc.\n",
    "\n",
    "Some examples:"
   ]
  },
  {
   "cell_type": "code",
   "execution_count": null,
   "metadata": {},
   "outputs": [],
   "source": [
    "val sum = (1 to 30).reduce { (a, b) => a + b }\n",
    "val product = (1 to 5).reduce(_ * _)\n",
    "\n",
    "val justTwoElements = Array(1, 2).reduce(_ + _)\n",
    "val justOneElement = Array(1).reduce(_ * _)\n",
    "\n",
    "val expensiveHead = ('a' to 'z').reduce { (a, b) => a } // why is this expensive?"
   ]
  },
  {
   "cell_type": "markdown",
   "metadata": {},
   "source": [
    "#### `foldLeft`\n",
    "\n",
    "`reduce` is a special case of a more general concept called a _fold_.\n",
    "\n",
    "`foldLeft` collapsed a collection from the \"left\", or starting at the head. (There's also\n",
    "a `foldRight`, but it's less commonly used.)\n",
    "\n",
    "`foldLeft`:\n",
    "\n",
    "- takes an initial value for the accumulator and a lambda that takes two arguments\n",
    "    - the initial value and the lambda are separate argument _lists_, to facilitate both readability and currying.\n",
    "- first calls the lambda with the initial value and the first list element.\n",
    "- takes the result of the lambda as the new accumulator value and calls the lambda again\n",
    "  with the accumulator value and the second element of the collection.\n",
    " \n",
    "Let's redo the `reduce` examples using `foldLeft`."
   ]
  },
  {
   "cell_type": "code",
   "execution_count": null,
   "metadata": {},
   "outputs": [],
   "source": [
    "val sum = (1 to 30).foldLeft(0) { (a, b) => a + b }\n",
    "val product = (1 to 5).foldLeft(1)(_ * _)\n",
    "\n",
    "val justTwoElements = Array(1, 2).foldLeft(0)(_ + _)\n",
    "val justOneElement = Array(1).foldLeft(1)(_ * _)\n",
    "\n",
    "val expensiveHead = ('a' to 'z').foldRight('\\0'){ (a, b) => \n",
    "  if (a == '\\0')\n",
    "    b\n",
    "  else\n",
    "    a\n",
    "}"
   ]
  },
  {
   "cell_type": "markdown",
   "metadata": {},
   "source": [
    "#### Special case reductions\n",
    "\n",
    "If a collection has an appropriate type, it supports certain useful reductions, as well.\n",
    "\n",
    "**`min`, `max` and friends**\n",
    "\n",
    "If the type of the collection has an associated `math.Ordering` class, you can call\n",
    "`max`, `maxOption`, `maxBy`, and the correspond `min` versions."
   ]
  },
  {
   "cell_type": "code",
   "execution_count": null,
   "metadata": {},
   "outputs": [],
   "source": [
    "(1 to 20).min\n",
    "Array(\"abcdef\", \"asd\", \"xxxxxx\").max\n",
    "(1 to 20).map(_ => scala.util.Random.nextDouble).max\n",
    "\n",
    "val names = Array(\"jim\", \"Jon\", \"Anna\", \"jon\", \"albert\")\n",
    "\n",
    "names.min\n",
    "names.minBy(_.toLowerCase)\n",
    "names.maxBy(_.hashCode)"
   ]
  },
  {
   "cell_type": "code",
   "execution_count": null,
   "metadata": {},
   "outputs": [],
   "source": [
    "// This also works. What's the ordering?\n",
    "val m = Map(\"Joe\" -> 12, \"Jim\" -> 24, \"Anna\" -> 32, \"Beatrice\" -> 37)\n",
    "\n",
    "m.max\n",
    "m.min"
   ]
  },
  {
   "cell_type": "code",
   "execution_count": null,
   "metadata": {},
   "outputs": [],
   "source": [
    "val listOfLists = List((1 to 20).toList, (30 to 40).toList, (3 to 9 by 2).toList)"
   ]
  },
  {
   "cell_type": "code",
   "execution_count": null,
   "metadata": {},
   "outputs": [],
   "source": [
    "// This won't compile:\n",
    "\n",
    "listOfLists.max"
   ]
  },
  {
   "cell_type": "markdown",
   "metadata": {},
   "source": [
    "The definition of `max` is\n",
    "\n",
    "```scala\n",
    "def max[B >: A](implicit ord: math.Ordering[B]): A\n",
    "```\n",
    "\n",
    "This means:\n",
    "\n",
    "- The collection contains things of type `B`\n",
    "- `B` is a supertype of another type `A` (which might also be `B`).\n",
    "- `max` returns something of type `A`. (This allows a `max` to be implemented in terms of `maxBy`.)\n",
    "- There _must_ be an implicit instance of `Ordering` in scope for type `B`.\n",
    "    - In this case, `implicit` just means it's passed automatically. You don't have to do that manually.\n",
    "    \n",
    "Scala automatically imports implicit instances of `Ordering` for common types (`AnyVal` subclasses, `String`, etc.).\n",
    "\n",
    "We can fix our compilation error, above, by implementing our own `Ordering` instance for `List[Int]`."
   ]
  },
  {
   "cell_type": "code",
   "execution_count": null,
   "metadata": {},
   "outputs": [],
   "source": [
    "implicit object MyOrdering extends math.Ordering[List[Int]] {\n",
    "\n",
    "  // Let's order by the sum of each list. This isn't very efficient,\n",
    "  // because we're going to end up summing certain elements more than once;\n",
    "  // however, it illustrates the concept.\n",
    "  def compare(a: List[Int], b: List[Int]): Int = {\n",
    "    val sumA = a.reduce(_ + _)\n",
    "    val sumB = b.reduce(_ + _)\n",
    "    sumA compare sumB\n",
    "  }\n",
    "}\n",
    "\n",
    "listOfLists.max"
   ]
  },
  {
   "cell_type": "markdown",
   "metadata": {},
   "source": [
    "**`sum`**\n",
    "\n",
    "If the collection's type is numeric — specifically, if there's an implicit instance of `Numeric` in scope — you can call the `sum` method,\n",
    "which is convenient and more readable than either `reduce` or `foldLeft`."
   ]
  },
  {
   "cell_type": "code",
   "execution_count": null,
   "metadata": {},
   "outputs": [],
   "source": [
    "(1 to 20).sum\n",
    "(1 to 5).map(_ => scala.util.Random.nextDouble).sum\n",
    "Array(BigInt(\"3456789345678934567893456789345678\"), BigInt(\"20987654567890987654567\")).sum\n",
    "\n",
    "// Won't compile\n",
    "//Array(\"abcdef\", \"kljasdf\").sum"
   ]
  },
  {
   "cell_type": "markdown",
   "metadata": {},
   "source": [
    "### Exercise 3.8\n",
    "\n",
    "Write `max` (for `Int` only) in terms of `foldLeft`. If the sequence is empty,\n",
    "throw an exception."
   ]
  },
  {
   "cell_type": "code",
   "execution_count": null,
   "metadata": {},
   "outputs": [],
   "source": [
    "def myMax(seq: Seq[Int]): Int = ???"
   ]
  },
  {
   "cell_type": "code",
   "execution_count": null,
   "metadata": {},
   "outputs": [],
   "source": [
    "// ANSWER\n",
    "\n",
    "def myMax(seq: Seq[Int]): Int = {\n",
    "  seq.tail.foldLeft(seq.head) { (a, b) => if (a >= b) a else b }\n",
    "}"
   ]
  },
  {
   "cell_type": "code",
   "execution_count": null,
   "metadata": {},
   "outputs": [],
   "source": [
    "// Test with this code\n",
    "assert(myMax(1 to 30) == 30)\n",
    "\n",
    "val assertSeq = (1 to 30).map(_ => scala.util.Random.nextInt(1000))\n",
    "assert(myMax(assertSeq) == assertSeq.max)\n",
    "\n",
    "try {\n",
    "  myMax(Seq.empty[Int])\n",
    "  assert(false, \"No exception thrown!\")\n",
    "}\n",
    "catch {\n",
    "  case _ @ (_: NoSuchElementException | _: UnsupportedOperationException) =>\n",
    "}"
   ]
  },
  {
   "cell_type": "markdown",
   "metadata": {},
   "source": [
    "## Option\n",
    "\n",
    "`Option` is somewhat like Java's [`Optional`](https://docs.oracle.com/javase/8/docs/api/java/util/Optional.html). Think\n",
    "of it as either:\n",
    "\n",
    "- A container for a value that may or may not be present (a kind of type-safe `null`)\n",
    "- A collection of _at most_ one element.\n",
    "\n",
    "`Option` is a generic type. You can have:\n",
    "\n",
    "- an `Option[Int]`: this value may or may not contain an integer\n",
    "- an `Option[String]`: this value may or may not contain an integer\n",
    "- an `Option[Map[String, String]]`: this value may or may not contain a `Map`\n",
    "- etc.\n",
    "\n",
    "A value of type `Option[T]` can have two possible states:\n",
    "\n",
    "- `None` (formally, `None[T]`, but we usually leave the type annotation of the `None`): There's no value inside the `Option`.\n",
    "- `Some[T]`: There's a value inside the `Option`.\n",
    "\n",
    "Because you can treat an `Option` as a collection, you can call `map`, `filter`, `flatMap`, etc., on it"
   ]
  },
  {
   "cell_type": "markdown",
   "metadata": {},
   "source": [
    "## Example 3.9: Handling unexpected input\n",
    "\n",
    "Let's write a function that operates safely on a potentially missing `Person`.\n",
    "\n",
    "### Solution 3.9a\n",
    "\n",
    "Traditional approach, using `null`."
   ]
  },
  {
   "cell_type": "code",
   "execution_count": null,
   "metadata": {},
   "outputs": [],
   "source": [
    "def getFirstName(person: Example.Person): String = {\n",
    "  if (person != null) {\n",
    "    person.firstName\n",
    "  }\n",
    "  else {\n",
    "    null\n",
    "  }\n",
    "}\n",
    "\n",
    "val shouldBeNull = getFirstName(null)\n",
    "val shouldBeBill = getFirstName(Example.Person(\"William\", \"Gates\", 0, \"123-45-6789\"))"
   ]
  },
  {
   "cell_type": "markdown",
   "metadata": {},
   "source": [
    "The problem with this solution is that we risk `NullPointerException`."
   ]
  },
  {
   "cell_type": "markdown",
   "metadata": {},
   "source": [
    "### Solution 3.9b\n",
    "\n",
    "Naive approach using `Option`: Test whether we have a `Some` or a `None` using `Option.isDefined`. If we have\n",
    "a `Some`, call `get` to extract the value.\n"
   ]
  },
  {
   "cell_type": "code",
   "execution_count": null,
   "metadata": {},
   "outputs": [],
   "source": [
    "def getFirstName(person: Option[Example.Person]): String = {\n",
    "  if (person.isDefined) {\n",
    "    return person.get.firstName\n",
    "  }\n",
    "  else {\n",
    "    return \"\"\n",
    "  }\n",
    "}\n",
    "\n",
    "val shouldBeBlank = getFirstName(None)\n",
    "val shouldBeBill = getFirstName(Some(Example.Person(\"William\", \"Gates\", 0, \"123-45-6789\")))"
   ]
  },
  {
   "cell_type": "markdown",
   "metadata": {},
   "source": [
    "### Solution 3.9c\n",
    "\n",
    "Functional approach using `Option`:\n",
    "\n",
    "- Call `map` on the `Option`.\n",
    "- If we have a `None`, the `map` won't do anything (because the \"collection\" is empty). The type will change, though.\n",
    "- If we have a `Some`, we can use the `map` to extract the value."
   ]
  },
  {
   "cell_type": "code",
   "execution_count": null,
   "metadata": {},
   "outputs": [],
   "source": [
    "def getFirstName(person: Option[Example.Person]): Option[String] =\n",
    "  person.map(p => p.firstName)\n",
    "\n",
    "val shouldBeNone = getFirstName(None)\n",
    "val shouldBeBill = getFirstName(Some(Example.Person(\"William\", \"Gates\", 0, \"123-45-6789\")))"
   ]
  },
  {
   "cell_type": "markdown",
   "metadata": {},
   "source": [
    "## Exercise 3.10: Handling unsafe values from unsafe sources\n",
    "\n",
    "Use `Option` to represent handle sentinel values (including `null`).\n",
    "\n",
    "### Solution 3.10a\n",
    "\n",
    "Naive approach using conditionals."
   ]
  },
  {
   "cell_type": "code",
   "execution_count": null,
   "metadata": {},
   "outputs": [],
   "source": [
    "def cleanup(unsafeString: String): Option[String] = {\n",
    "  if (unsafeString == null || unsafeString == \"\")\n",
    "    None\n",
    "  else\n",
    "    Some(unsafeString) // now safe!\n",
    "}\n",
    "\n",
    "val ex1 = cleanup(null)\n",
    "val ex2 = cleanup(\"\")\n",
    "val ex3 = cleanup(\"Actual Value\")"
   ]
  },
  {
   "cell_type": "markdown",
   "metadata": {},
   "source": [
    "### Solution 3.10b\n",
    "\n",
    "Functional approach using factory method and `filter`. We're relying\n",
    "on the fact that `Option(null)` returns a `None`."
   ]
  },
  {
   "cell_type": "code",
   "execution_count": null,
   "metadata": {},
   "outputs": [],
   "source": [
    "Option(null)"
   ]
  },
  {
   "cell_type": "code",
   "execution_count": null,
   "metadata": {},
   "outputs": [],
   "source": [
    "def cleanup(unsafeString: String): Option[String] = {\n",
    "  Option(unsafeString).filter(s => !s.isEmpty)\n",
    "}\n",
    "\n",
    "val ex1 = cleanup(null)\n",
    "val ex2 = cleanup(\"\")\n",
    "val ex3 = cleanup(\"Actual Value\")"
   ]
  },
  {
   "cell_type": "markdown",
   "metadata": {},
   "source": [
    "## Retrieving values from collections\n",
    "\n",
    "- Conditionals with unsafe gets\n",
    "- Safe gets\n",
    "- Pattern matching"
   ]
  },
  {
   "cell_type": "markdown",
   "metadata": {},
   "source": [
    "## Exercise 3.11: Unsafe gets"
   ]
  },
  {
   "cell_type": "code",
   "execution_count": null,
   "metadata": {},
   "outputs": [],
   "source": [
    "def addFive(i: Option[Int]): Int = {\n",
    "  i.get + 5 // What happens if i is None?\n",
    "}\n",
    "\n",
    "def safeAddFive(maybeInt: Option[Int]): Int = {\n",
    "  if (maybeInt.isDefined)\n",
    "    maybeInt.get + 5\n",
    "  else\n",
    "    5\n",
    "}\n",
    "\n",
    "val ten = addFive(Some(5))\n",
    "// Uncomment the below line to see how addFive is unsafe.\n",
    "// val five = addFive(None)\n",
    "val safeTen = safeAddFive(Some(5))\n",
    "val safeFive = safeAddFive(None)"
   ]
  },
  {
   "cell_type": "markdown",
   "metadata": {},
   "source": [
    "### Getting the first element of a collection\n",
    "\n",
    "Calling `head` on a collection attempts to retrieve the first element. What happens if the\n",
    "collection is empty?"
   ]
  },
  {
   "cell_type": "code",
   "execution_count": null,
   "metadata": {},
   "outputs": [],
   "source": [
    "val numbers = List(1, 2, 3)\n",
    "val noNumbers = List.empty[Int]\n",
    "\n",
    "val one = numbers.head\n",
    "// val oops = noNumbers.head"
   ]
  },
  {
   "cell_type": "markdown",
   "metadata": {},
   "source": [
    "It's better to use `headOption`"
   ]
  },
  {
   "cell_type": "code",
   "execution_count": null,
   "metadata": {},
   "outputs": [],
   "source": [
    "numbers.headOption\n",
    "noNumbers.headOption"
   ]
  },
  {
   "cell_type": "markdown",
   "metadata": {},
   "source": [
    "### Getting values from a map\n",
    "\n",
    "- Unsafe: \"call\" a map to get a value for a key\n",
    "- Safe: use `get`."
   ]
  },
  {
   "cell_type": "code",
   "execution_count": null,
   "metadata": {},
   "outputs": [],
   "source": [
    "val numbers: Map[String, Int] = Map(\n",
    "  \"one\"   -> 1,\n",
    "  \"two\"   -> 2,\n",
    "  \"three\" -> 3\n",
    ")\n",
    "\n",
    "val safe1 = numbers.get(\"two\")\n",
    "val unsafe1 = numbers(\"two\")\n",
    "val safe2 = numbers.get(\"fifteen\")\n",
    "//val unsafe2 = numbers(\"fifteen\")"
   ]
  },
  {
   "cell_type": "markdown",
   "metadata": {},
   "source": [
    "## Exercise 12: Safe gets\n",
    "\n",
    "Use `getOrElse` to supply default values"
   ]
  },
  {
   "cell_type": "code",
   "execution_count": null,
   "metadata": {},
   "outputs": [],
   "source": [
    "def addFive(maybeInt: Option[Int]): Int =\n",
    "  maybeInt.getOrElse(0) + 5\n",
    "\n",
    "val ten = addFive(Some(5))\n",
    "val five = addFive(None)"
   ]
  },
  {
   "cell_type": "code",
   "execution_count": null,
   "metadata": {},
   "outputs": [],
   "source": [
    "val numbers = List(1, 2, 3)\n",
    "val noNumbers = List.empty[Int]\n",
    "\n",
    "val one = numbers.headOption.getOrElse(0)\n",
    "val zero = noNumbers.headOption.getOrElse(0)"
   ]
  },
  {
   "cell_type": "code",
   "execution_count": null,
   "metadata": {},
   "outputs": [],
   "source": [
    "val numbers: Map[String, Int] = Map(\n",
    "  \"one\"   -> 1,\n",
    "  \"two\"   -> 2,\n",
    "  \"three\" -> 3\n",
    ")\n",
    "\n",
    "val trial: Int = numbers.get(\"two\").getOrElse(2)\n",
    "val two: Int = numbers.getOrElse(\"two\", 2)"
   ]
  },
  {
   "cell_type": "markdown",
   "metadata": {},
   "source": [
    "## Recap\n",
    "\n",
    "## Exercise 3.13\n",
    "\n",
    "Extra `flatMap` example.\n",
    "\n",
    "Recall the contents of `Example.AllPeople`."
   ]
  },
  {
   "cell_type": "code",
   "execution_count": null,
   "metadata": {},
   "outputs": [],
   "source": [
    "Example.AllPeople"
   ]
  },
  {
   "cell_type": "code",
   "execution_count": null,
   "metadata": {},
   "outputs": [],
   "source": [
    "val Beneficiaries = Map(\n",
    "  \"913-98-6520\" -> \"955-66-1239\",\n",
    "  \"942-90-6988\" -> \"978-38-9209\",\n",
    "  \"943-68-7575\" -> \"000-00-0000\"\n",
    ")\n",
    "\n",
    "def getPersonBySSN(ssn: String) = Example.AllPeople.find(person => person.ssn == ssn)\n",
    "\n",
    "val beneficiaries: List[Example.Person] = Example.AllPeople\n",
    "  .flatMap(person => Beneficiaries.get(person.ssn))\n",
    "  .flatMap(ssn => getPersonBySSN(ssn))"
   ]
  },
  {
   "cell_type": "code",
   "execution_count": null,
   "metadata": {},
   "outputs": [],
   "source": []
  }
 ],
 "metadata": {
  "kernelspec": {
   "display_name": "Scala 2.11",
   "language": "scala",
   "name": "scala211"
  },
  "language_info": {
   "codemirror_mode": "text/x-scala",
   "file_extension": ".scala",
   "mimetype": "text/x-scala",
   "name": "scala",
   "nbconvert_exporter": "script",
   "version": "2.11.12"
  }
 },
 "nbformat": 4,
 "nbformat_minor": 2
}
