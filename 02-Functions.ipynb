{
 "cells": [
  {
   "cell_type": "markdown",
   "metadata": {},
   "source": [
    "# Scala Fundamentals: Functions\n",
    "\n",
    "Scala is a hybrid language, incorporating both object-oriented and functional programming design patterns.\n",
    "As befits a language with functional aspects, _functions_ are very important constructs. In this lesson,\n",
    "we'll discuss functions (and, occasionally, _methods_). Along the way, we'll point out differences between\n",
    "Scala's functions and those in Java.\n",
    "\n",
    "## One concise definition\n",
    "\n",
    "Here's a [useful definition of a function](https://www.cs.utah.edu/~germain/PPS/Topics/functions.html):\n",
    "\n",
    "> Functions are \"self-contained\" modules of code that accomplish a specific task. Functions usually\n",
    "> _take in_ data, process it, and _return_ a result.\n",
    "\n",
    "In the previous lesson, we discussed blocks. In a way, you can think of a function as a block that takes\n",
    "arguments — a _parameterized block_.\n",
    "\n",
    "## Notes and Terminology\n",
    "\n",
    "- Functions are _invoked_ with one or more arguments.\n",
    "- Functions return results. (A function that doesn't return a result is a _procedure_, and procedures typically\n",
    "  have side effects.)\n",
    "- A Scala function has a parameter list, a body, and a result type.\n",
    "- Scala function definitions start with the keyword `def`."
   ]
  },
  {
   "cell_type": "code",
   "execution_count": null,
   "metadata": {},
   "outputs": [],
   "source": [
    "def max(x: Int, y: Int): Int = {\n",
    "  if (x > y)\n",
    "    x\n",
    "  else\n",
    "    y\n",
    "}"
   ]
  },
  {
   "cell_type": "markdown",
   "metadata": {},
   "source": [
    "## Differences from Java\n",
    "\n",
    "- No `public` access modifier is needed, because `public` is the default visibility.\n",
    "- Each parameter is defined by its name, followed by its data type. (This is backwards from Java.)\n",
    "- Scala function return type comes at the end of the function definition, not at the beginning.\n",
    "- Scala does not require the `return` keyword. The last value computed by the function is always returned.\n",
    "- The equals sign is _required_. <sup>*</sup>\n",
    "\n",
    "<sup>*</sup>Older versions of Scala permitted the definition of procedures (functions without a return value) by omitting the `=`. This syntax\n",
    "proved to be error-prone and confusing, and it is no longer supported. We'll discuss how procedures are defined later."
   ]
  },
  {
   "cell_type": "code",
   "execution_count": null,
   "metadata": {},
   "outputs": [],
   "source": [
    "// Let's try our max() function:\n",
    "\n",
    "max(10, 20)"
   ]
  },
  {
   "cell_type": "markdown",
   "metadata": {},
   "source": [
    "## Functions and Referential Transparency\n",
    "\n",
    "In the last lesson, we introduced the concept of _referential transparency_. Recall our definition:\n",
    "\n",
    "> An expression is called referentially transparent if it can be replaced with its corresponding value without changing the program's behavior.\n",
    "\n",
    "If we have an expression $x + y$, and we assign it to variable $z$, we get the function $z = x + y$. \n",
    "\n",
    "**For a function to be referentially transparent, anywhere the expression x + y exists could be replaced by variable z without changing the behavior of the program.**\n",
    "\n",
    "- A _pure function_ is a function that is referentially transparent and has **no side effects**.\n",
    "- A few examples of program side effects would be: mutating the value of a variable, writing program data out to a file, inserting a row to a database, etc.\n",
    "\n",
    "**Note:** Writing purely functional code can seem daunting, if you are coming from a purely object-oriented background. A good way to \n",
    "practice is to start writing code which prefers immutability, and switch to a mutable approach when dealing with I/O operations like \n",
    "network, database, or file interactions.\n",
    "\n",
    "### Examples of impure functions\n",
    "\n",
    "Let's take a look at a couple of impure function examples.\n",
    "\n",
    "This first example, an `adder` function, uses an internal (local) mutable variable as part of its implementation. \n",
    "However, that internal state is _only_ used during the calculation of the value. While this function is arguably _impure_, \n",
    "it is still referentially transparent, and that's what really matters.\n",
    "\n",
    "(As it happens, there are better, simpler, ways to do the same job. We'll look at some of them later.)"
   ]
  },
  {
   "cell_type": "code",
   "execution_count": null,
   "metadata": {},
   "outputs": [],
   "source": [
    "def adder(a: List[Int]): Int = {\n",
    "  var sum = 0\n",
    "  for (i <- a) { // We'll discuss loops in detail later\n",
    "    sum += i\n",
    "  }\n",
    "  sum\n",
    "}\n",
    "\n",
    "// It produces the same result for the same arguments. It's referentially transparent.\n",
    "\n",
    "val x = adder(List(1, 2, 3))\n",
    "val y = adder(List(1, 2, 3))\n"
   ]
  },
  {
   "cell_type": "markdown",
   "metadata": {},
   "source": [
    "Our second example is impure, because it is performing output. Output mutates state that is external\n",
    "to the function, so the function is impure.\n",
    "\n",
    "Consider: If you call the function once, with the string \"foo\", you write \"foo\" to the output.\n",
    "If you call it again with \"foo\", you append \"foo\" to the _existing_ output. (Imagine that we're\n",
    "redirecting the output to a file.)\n",
    "\n",
    "The state of the output (file) after the second call is not the same as the state of the output after the first\n",
    "call, so the function is not referentially transparent."
   ]
  },
  {
   "cell_type": "code",
   "execution_count": null,
   "metadata": {},
   "outputs": [],
   "source": [
    "def printName(s: String) = println(s)\n",
    "printName(\"Barbara\")  // the output now has one line: Barbara\n",
    "printName(\"Barbara\")  // the output now has two lines"
   ]
  },
  {
   "cell_type": "markdown",
   "metadata": {},
   "source": [
    "## Do I need curly braces?\n",
    "\n",
    "Only if your function consists of multiple expressions.\n",
    "\n",
    "For simple functions, the preferred Scala style is to keep the code concise. It's common to define simple functions in a single line:"
   ]
  },
  {
   "cell_type": "code",
   "execution_count": null,
   "metadata": {},
   "outputs": [],
   "source": [
    "def max(x: Int, y: Int): Int = if (x > y) x else y"
   ]
  },
  {
   "cell_type": "markdown",
   "metadata": {},
   "source": [
    "## Type inference and functions\n",
    "\n",
    "We saw type inference with `val` and `var` in the first lesson: You don't need to declare a variable's\n",
    "type if the compiler can infer the type from context.\n",
    "\n",
    "```scala\n",
    "val x = 10      // x's type is inferred to be Int\n",
    "val s = \"Hello\" // s's type is inferred to be String\n",
    "```\n",
    "\n",
    "Function return types can also be inferred from context, so the type annotation can be omitted. Let's redefine\n",
    "our `max` function without specifying the return type:"
   ]
  },
  {
   "cell_type": "code",
   "execution_count": null,
   "metadata": {},
   "outputs": [],
   "source": [
    "def max(x: Int, y: Int) = if (x > y) x else y"
   ]
  },
  {
   "cell_type": "code",
   "execution_count": null,
   "metadata": {},
   "outputs": [],
   "source": [
    "max(10, 20)"
   ]
  },
  {
   "cell_type": "markdown",
   "metadata": {},
   "source": [
    "### Should you omit the return type?\n",
    "\n",
    "Good practices:\n",
    "\n",
    "- Omit the return type _only_ if the function's body is short and the inferred type is obvious. (`max` qualifies.)\n",
    "- _Always_ include the return type on public functions. (Some IDEs have intentions that flag when you don't.)\n",
    "\n",
    "Also, recursive functions _must_ have a return type, or they won't compile.\n",
    "\n",
    "Remember: The goal is _readability_. If the function definition is more readable _with_ an explicit return type,\n",
    "use the return type."
   ]
  },
  {
   "cell_type": "markdown",
   "metadata": {},
   "source": [
    "## Procedures\n",
    "\n",
    "A _procedure_ is a function that returns no value. Strictly speaking, there's little point to\n",
    "such a function, unless it has side effects. Output procedures, like `println` are good examples.\n",
    "\n",
    "How do you define a function that returns no value?\n",
    "\n",
    "The answer is to define the function with a return type of `Unit`. `Unit` is Scala's type for \"no value\".\n",
    "\n",
    "- `Unit` is the _type_.\n",
    "- There is an explicit `Unit` constant, written as `()`.\n",
    "- If a function returns `Unit`, you do not have to return `()` explicitly. The compiler will simply ignore the\n",
    "  result of the final expression in the function.\n",
    "  \n",
    "Here are a couple of examples."
   ]
  },
  {
   "cell_type": "code",
   "execution_count": null,
   "metadata": {},
   "outputs": [],
   "source": [
    "def printMe(s: String): Unit = println(s)\n",
    "\n",
    "def doubleIt(n: Int): Unit = n * 2"
   ]
  },
  {
   "cell_type": "markdown",
   "metadata": {},
   "source": [
    "What happens if we attempt to assign the result of a procedure to a `val`?\n",
    "\n",
    "Will it work, or will it cause a compiler error?\n",
    "\n",
    "Guesses?"
   ]
  },
  {
   "cell_type": "code",
   "execution_count": null,
   "metadata": {},
   "outputs": [],
   "source": [
    "val x = doubleIt(10)\n",
    "println(x)"
   ]
  },
  {
   "cell_type": "markdown",
   "metadata": {},
   "source": [
    "## \"Not implemented\"\n",
    "\n",
    "Scala has a special syntax to indicate that a function is defined, but not implemented yet:"
   ]
  },
  {
   "cell_type": "code",
   "execution_count": null,
   "metadata": {},
   "outputs": [],
   "source": [
    "def thisWillBeAwesome(i: Int, s: String): String = ???"
   ]
  },
  {
   "cell_type": "markdown",
   "metadata": {},
   "source": [
    "`thisWillBeAwesome` compiles. What happens if you call it?"
   ]
  },
  {
   "cell_type": "code",
   "execution_count": null,
   "metadata": {},
   "outputs": [],
   "source": [
    "thisWillBeAwesome(10, \"foobar\")"
   ]
  },
  {
   "cell_type": "markdown",
   "metadata": {},
   "source": [
    "Ugh. It throws an exception.\n",
    "\n",
    "What's the point of this?\n",
    "\n",
    "One use is to define a stub to unblock work on another piece of code.\n",
    "\n",
    "Jamal: \"Hey, Carol, can you get me some stubs for that stuff you're working on? I'm blocked here.\"  \n",
    "Carol: \"Sure, but they won't all be implemented yet. Your code will fail at runtime.\"  \n",
    "Jamal: \"That's okay. I just need them to compile for now.\""
   ]
  },
  {
   "cell_type": "markdown",
   "metadata": {},
   "source": [
    "## Function overloading\n",
    "\n",
    "Like Java, Scala supports the concept of _function overloading_. You can create multiple functions with the same\n",
    "name, as long as they all have different signatures."
   ]
  },
  {
   "cell_type": "code",
   "execution_count": null,
   "metadata": {},
   "outputs": [],
   "source": [
    "def max(i: Int, j: Int): Int = if (i >= j) j else i\n",
    "def max(s1: String, s2: String): String = if (s1.length >= s2.length) s1 else s2"
   ]
  },
  {
   "cell_type": "code",
   "execution_count": null,
   "metadata": {},
   "outputs": [],
   "source": [
    "max(10, 20)\n",
    "max(\"Kumar\", \"Sally Ann\")"
   ]
  },
  {
   "cell_type": "markdown",
   "metadata": {},
   "source": [
    "**Important**: In Scala, the function's signature does _not_ include the return type.\n",
    "\n",
    "Thus, the following cell will fail to compile."
   ]
  },
  {
   "cell_type": "code",
   "execution_count": null,
   "metadata": {},
   "outputs": [],
   "source": [
    "def x(i: Int): Int = ???\n",
    "def x(i: Int): String = ???"
   ]
  },
  {
   "cell_type": "markdown",
   "metadata": {},
   "source": [
    "**Discussion question**: If the cell, above, didn't compile, why can I can do this? Doesn't a\n",
    "`max` function with signature `(Int, Int)` already exist, since we defined it above?"
   ]
  },
  {
   "cell_type": "code",
   "execution_count": null,
   "metadata": {},
   "outputs": [],
   "source": [
    "def max(i: Int, j: Int): Float = if (i >= j) i.toFloat else j.toFloat"
   ]
  },
  {
   "cell_type": "markdown",
   "metadata": {},
   "source": [
    "## Named and default parameters\n",
    "\n",
    "### Default parameters\n",
    "\n",
    "Scala allows you to give default values to parameters, which leads to more concise code.\n",
    "\n",
    "Consider this code, which is the Scala equivalent of something you'd see a lot in Java. (We're using a tuple\n",
    "return type here, mostly because we haven't gotten to classes and objects yet.)"
   ]
  },
  {
   "cell_type": "code",
   "execution_count": null,
   "metadata": {},
   "outputs": [],
   "source": [
    "def makePerson(name: String, salaryInDollars: Int): (String, Int) = (name, salaryInDollars)\n",
    "def makePerson(name: String): (String, Int) = makePerson(name, 50000)"
   ]
  },
  {
   "cell_type": "markdown",
   "metadata": {},
   "source": [
    "This is the Java style for creating variations of a function that apply defaults. We have a \"canonical\"\n",
    "version of `makePerson`, with all values specified as parameters. We also have an alternate version\n",
    "that doesn't take a salary, applying a default salary of $50,000."
   ]
  },
  {
   "cell_type": "code",
   "execution_count": null,
   "metadata": {},
   "outputs": [],
   "source": [
    "makePerson(\"Jane\", 100000)\n",
    "makePerson(\"Frank\")"
   ]
  },
  {
   "cell_type": "markdown",
   "metadata": {},
   "source": [
    "Scala aims to help us write concise code that is also more readable. Default parameters allow us\n",
    "to get rid of needless repetition. We can rewrite the above as:"
   ]
  },
  {
   "cell_type": "code",
   "execution_count": null,
   "metadata": {},
   "outputs": [],
   "source": [
    "def makePerson(name: String, salaryInDollars: Int = 50000): (String, Int) = (name, salaryInDollars)"
   ]
  },
  {
   "cell_type": "code",
   "execution_count": null,
   "metadata": {},
   "outputs": [],
   "source": [
    "makePerson(\"Jane\", 100000)\n",
    "makePerson(\"Frank\")"
   ]
  },
  {
   "cell_type": "markdown",
   "metadata": {},
   "source": [
    "### Named parameters\n",
    "\n",
    "When you call a function, you can either pass the arguments in the expected order,\n",
    "or you can specify them by name and pass them in any order you like.\n",
    "\n",
    "(Python programmers will recognize this very useful feature.)\n",
    "\n",
    "As an example, let's create a different `makePerson` function:"
   ]
  },
  {
   "cell_type": "code",
   "execution_count": null,
   "metadata": {},
   "outputs": [],
   "source": [
    "def makePerson(firstName: String, lastName: String, salaryInDollars: Int = 50000): (String, String, Int) = (firstName, lastName, salaryInDollars)"
   ]
  },
  {
   "cell_type": "markdown",
   "metadata": {},
   "source": [
    "Here are some of the ways you can call this function:"
   ]
  },
  {
   "cell_type": "code",
   "execution_count": null,
   "metadata": {},
   "outputs": [],
   "source": [
    "makePerson(\"Sally\", \"Jones\")\n",
    "makePerson(\"Akmal\", \"Choudhary\", 100000)\n",
    "makePerson(firstName = \"Joseph\", lastName = \"Gonzalez\", salaryInDollars = 200000)\n",
    "makePerson(salaryInDollars = 74361, lastName = \"Smith\", firstName = \"Anna\")"
   ]
  },
  {
   "cell_type": "markdown",
   "metadata": {},
   "source": [
    "#### Uses\n",
    "\n",
    "There are many reasons you might want to specify parameters by name. Here are two common reasons to do it:\n",
    "\n",
    "**Using named parameters can sometimes make your code more readable.**\n",
    "\n",
    "This is especially true when calling a function (or, say, a constructor) with a lot of parameters.\n",
    "Consider the difference between these two calls:\n",
    "\n",
    "```scala\n",
    "val rect1 = plotRectangle(10, 15, 20, 30)\n",
    "val rect2 = plotRectangle(x = 10, y = 15, height = 20, width = 30)\n",
    "```\n",
    "\n",
    "**Using named parameters can be safer.**\n",
    "\n",
    "If multiple parameters have the same type, the compiler can't protect you if you specify them in the\n",
    "wrong order. For example, this is probably not going to do what the programmer wants:\n",
    "\n",
    "```scala\n",
    "makePerson(\"Smith\", \"Anna\")\n",
    "//         ^         ^\n",
    "//         |         lastName\n",
    "//         firstName\n",
    "```\n",
    "\n",
    "But the compiler can't protect you here, because both parameters are strings. Specifying parameters\n",
    "by name allows you to avoid that problem entirely:\n",
    "\n",
    "```scala\n",
    "makePerson(lastName = \"Smith\", firstName = \"Anna\")\n",
    "```"
   ]
  },
  {
   "cell_type": "markdown",
   "metadata": {},
   "source": [
    "## Variable arguments\n",
    "\n",
    "Scala supports defining functions that take variable arguments. The syntax permits the _last_ parameter in the declaration\n",
    "to be repeated.\n",
    "\n",
    "Inside the function, the variable parameter can be treated as a collection. Let's redefine our previous `adder` function\n",
    "to take variable arguments, rather than a `List`."
   ]
  },
  {
   "cell_type": "code",
   "execution_count": null,
   "metadata": {},
   "outputs": [],
   "source": [
    "def adder(values: Int*): Int = {\n",
    "  var sum = 0\n",
    "  for (i <- values) {\n",
    "    sum += i\n",
    "  }\n",
    "  sum\n",
    "}\n",
    "\n",
    "adder(10, 20, 30, 40)"
   ]
  },
  {
   "cell_type": "markdown",
   "metadata": {},
   "source": [
    "Note that the body of the function looks pretty much the same as the one that took a `List`.\n",
    "\n",
    "### Converting a collection to a variable arguments list\n",
    "\n",
    "What if you have a collection — say, a list of numbers — and you want to call our new `adder` function.\n",
    "Can you convert the collection to a variable argument list?\n",
    "\n",
    "Why, yes. But the syntax is kind of ugly:\n"
   ]
  },
  {
   "cell_type": "code",
   "execution_count": null,
   "metadata": {},
   "outputs": [],
   "source": [
    "val myNumbers = List(10, 20, 30, 40)\n",
    "adder(myNumbers: _*)"
   ]
  },
  {
   "cell_type": "markdown",
   "metadata": {},
   "source": [
    "(It's been said that the most abused character in Scala syntax is the underscore.)"
   ]
  },
  {
   "cell_type": "markdown",
   "metadata": {},
   "source": [
    "## Nested functions\n",
    "\n",
    "Scala permits functions to be nested inside other functions. As Python programmers will tell you,\n",
    "this feature is _highly_ useful at times."
   ]
  },
  {
   "cell_type": "code",
   "execution_count": null,
   "metadata": {},
   "outputs": [],
   "source": [
    "def printName(name: String): Unit = {\n",
    "  // Nested function: Removes any leading and trailing white space, and\n",
    "  // ensure that only the first character is capitalized.\n",
    "  def cleanName(s: String): String = {\n",
    "    val s2 = s.trim\n",
    "    s2.take(1).toUpperCase + s2.drop(1).toLowerCase\n",
    "  }\n",
    "  // invocation of inner function by enclosing function\n",
    "  println(cleanName(name))\n",
    "}\n",
    "\n",
    "printName(\" geOFfrey   \")"
   ]
  },
  {
   "cell_type": "markdown",
   "metadata": {},
   "source": [
    "### Closures\n",
    "\n",
    "We can simplify the above definition, however, by converting `cleanName` to a _closure_.\n",
    "\n",
    "The inner function, `cleanName`, has access to the state in the enclosing function. (It is\n",
    "said to _close over_ those values, capturing them.) Thus, passing the name into the function\n",
    "isn't strictly necessary.\n",
    "\n",
    "Also, in Scala, functions that take no parameters can be defined without parameter lists, which can\n",
    "also enhance readability.\n",
    "\n",
    "Let's take advantage of both, and redefine `printName`:"
   ]
  },
  {
   "cell_type": "code",
   "execution_count": null,
   "metadata": {},
   "outputs": [],
   "source": [
    "def printName(name: String): Unit = {\n",
    "\n",
    "  def cleanName: String = {\n",
    "    val s = name.trim\n",
    "    s.take(1).toUpperCase + s.drop(1).toLowerCase\n",
    "  }\n",
    "\n",
    "  println(cleanName)\n",
    "}\n",
    "\n",
    "printName(\" geOFfrey   \")"
   ]
  },
  {
   "cell_type": "markdown",
   "metadata": {},
   "source": [
    "## A note about no-parameter functions\n",
    "\n",
    "You can define no-parameter functions two ways:\n",
    "\n",
    "```scala\n",
    "def getName() = \"Maria\"\n",
    "def getName2 = \"Maria\"\n",
    "```\n",
    "\n",
    "In this case, `getName` can be called as `getName()` (with the parentheses) or as `getName` (without).\n",
    "\n",
    "But `getName2` can _only_ be called without parentheses. The reason for that weird distinction is to\n",
    "allow you to define functions (inside classes, for instance) that _look like values_. We'll talk more\n",
    "about that later. For now, just remember the distinction."
   ]
  },
  {
   "cell_type": "code",
   "execution_count": null,
   "metadata": {},
   "outputs": [],
   "source": [
    "def getName() = \"Maria\"\n",
    "def getName2 = \"Maria\""
   ]
  },
  {
   "cell_type": "code",
   "execution_count": null,
   "metadata": {},
   "outputs": [],
   "source": [
    "// This will work.\n",
    "val n1 = getName\n",
    "\n",
    "// As will this\n",
    "val n2 = getName()\n",
    "\n",
    "// And this.\n",
    "val n3 = getName2"
   ]
  },
  {
   "cell_type": "code",
   "execution_count": null,
   "metadata": {},
   "outputs": [],
   "source": [
    "// But this won't compile.\n",
    "val n4 = getName2()"
   ]
  },
  {
   "cell_type": "markdown",
   "metadata": {},
   "source": [
    "## Functions as first-class citizens\n",
    "\n",
    "From [Wikipedia](https://en.wikipedia.org/wiki/Anonymous_function):\n",
    "\n",
    "> In computer programming, an anonymous function (function literal, lambda abstraction) is a function definition that is not bound to an identifier. Anonymous functions are often:\n",
    ">\n",
    "> 1. arguments being passed to higher-order functions.\n",
    "> 2. used for constructing the result of a higher-order function that needs to return a function.\n",
    "\n",
    "Scala has support for _first-class functions_, which means it treats functions the same way it treats any other value.\n",
    "This means that Scala has the ability to pass functions as arguments to other functions, return functions from other functions,\n",
    "assign functions to variables, and store functions in data structures.\n",
    "\n",
    "We have a name for functions that take other functions as arguments: They're called _higher-order functions_.\n",
    "\n",
    "More formally (and, again from [Wikipedia](https://en.wikipedia.org/wiki/Higher-order_function)):\n",
    "\n",
    "> A higher-order function is a function that does at least one of the following:\n",
    ">\n",
    "> - takes one or more functions as arguments (i.e. procedural parameters),\n",
    "> - returns a function as its result.\n",
    "\n",
    "Let's define an anonymous function and assign it to a variable."
   ]
  },
  {
   "cell_type": "code",
   "execution_count": null,
   "metadata": {},
   "outputs": [],
   "source": [
    "val removeDashes: (String) => String = (s: String) => s.replaceAll(\"-\", \"\")"
   ]
  },
  {
   "cell_type": "markdown",
   "metadata": {},
   "source": [
    "That looks a bit odd, so let's deconstruct it, piece by piece.\n",
    "\n",
    "Ignoring the `val removeDashes` part, since we already know what that is, let's look at the other pieces.\n",
    "\n",
    "### The type signature\n",
    "\n",
    "First, this bit defines the argument types and the return type:\n",
    "\n",
    "```\n",
    "(String) => String\n",
    "```\n",
    "\n",
    "It says, \"This is a function taking one `String` argument and returning a `String`.\"\n",
    "\n",
    "Since there's only one argument, Scala allows us to omit the parentheses, which is why the\n",
    "REPL echoed the type as `String => String`\n",
    "\n",
    "### The arguments and body\n",
    "\n",
    "The actual function is a list of arguments and the code, and it is expressed as follows:\n",
    "\n",
    "```\n",
    "(s: String) => s.replaceAll(\"-\", \"\")\n",
    "```\n",
    "\n",
    "If the body needed multiple lines, we could just wrap it in curly braces.\n",
    "\n",
    "Let's call it, and see if it works."
   ]
  },
  {
   "cell_type": "code",
   "execution_count": null,
   "metadata": {},
   "outputs": [],
   "source": [
    "val s = java.util.UUID.randomUUID.toString\n",
    "removeDashes(s)"
   ]
  },
  {
   "cell_type": "markdown",
   "metadata": {},
   "source": [
    "We can actually simplify our definition in several ways:\n",
    "\n",
    "- Scala can infer the type of the `val` from the types of the arguments and the last expression in the body.\n",
    "  So, we can omit the type if we want.\n",
    "  \n",
    "- Or, we can leave the type signature on the `val`, and let Scala infer the argument types (leaving off the\n",
    "  parentheses, since we only have one argument).\n",
    "  \n",
    "Let's try both, but with different names, so we can still call the first version."
   ]
  },
  {
   "cell_type": "code",
   "execution_count": null,
   "metadata": {},
   "outputs": [],
   "source": [
    "val removeDashes2 = (s: String) => s.replaceAll(\"-\", \"\")\n",
    "val removeDashes3: String => String = s => s.replaceAll(\"-\", \"\")"
   ]
  },
  {
   "cell_type": "code",
   "execution_count": null,
   "metadata": {},
   "outputs": [],
   "source": [
    "removeDashes(s)\n",
    "removeDashes2(s)\n",
    "removeDashes3(s)"
   ]
  },
  {
   "cell_type": "markdown",
   "metadata": {},
   "source": [
    "So, which one form should you use?\n",
    "\n",
    "The one you (and your colleagues) decide is more readable."
   ]
  },
  {
   "cell_type": "markdown",
   "metadata": {},
   "source": [
    "### What about multiple parameters? Or no parameters?\n",
    "\n",
    "Let's just jump right in."
   ]
  },
  {
   "cell_type": "code",
   "execution_count": null,
   "metadata": {},
   "outputs": [],
   "source": [
    "val getName = () => \"David\" // can only be called as getName(), because getName is the reference to the function\n",
    "\n",
    "val n2 = getName()\n"
   ]
  },
  {
   "cell_type": "code",
   "execution_count": null,
   "metadata": {},
   "outputs": [],
   "source": [
    "val printName = (first: String, last: String) => println(s\"$first $last\")\n",
    "printName(\"David\", \"Smythe\")"
   ]
  },
  {
   "cell_type": "code",
   "execution_count": null,
   "metadata": {},
   "outputs": [],
   "source": [
    "// Here's an anonymous function that takes two parameters and returns a value.\n",
    "val dropEndChars = (s: String, dropCount: Int) => s.dropRight(dropCount)\n",
    "\n",
    "dropEndChars(\"Johnny\", 2)"
   ]
  },
  {
   "cell_type": "markdown",
   "metadata": {},
   "source": [
    "### Higher-order functions\n",
    "\n",
    "Let's define a higher-order function. This function will:\n",
    "\n",
    "- take a string to be transformed, character by character\n",
    "- take a function that will receive a character, transform it, and return the resulting character\n",
    "\n",
    "Let's call this function `transform`. Because it takes a function as one of its arguments,\n",
    "`transform` is a higher-order function.\n",
    "\n",
    "(As we will see later, this functionality is so useful, it already exists in various places in Scala.)\n",
    "\n",
    "We're going to use a `var` here. Later, though, we'll see how we can define these kinds of operations\n",
    "in a much simpler, and totally immutable, way."
   ]
  },
  {
   "cell_type": "code",
   "execution_count": null,
   "metadata": {},
   "outputs": [],
   "source": [
    "def transform(s: String, transformChar: Char => Char): String = {\n",
    "  val res = new StringBuilder\n",
    "  for (c <- s) {\n",
    "    res.append(transformChar(c))\n",
    "  }\n",
    "  res.toString\n",
    "}"
   ]
  },
  {
   "cell_type": "markdown",
   "metadata": {},
   "source": [
    "Okay, now let's try it, using several different lambdas. Note that we're leaving the types out of our lambda parameter lists.\n",
    "The compiler can infer them here, and (in our opinion) the `Char` type is pretty obvious."
   ]
  },
  {
   "cell_type": "code",
   "execution_count": null,
   "metadata": {},
   "outputs": [],
   "source": [
    "// This is a quote attributed to Robert Waltman. We're using a raw string to allow embedded\n",
    "// double quotes without escaping them.\n",
    "val toTransform = \"\"\"The object-oriented version of \"Spaghetti code\" is, of course, \"Lasagna code\". (Too many layers).\"\"\"\n",
    "\n",
    "println(transform(toTransform, c => Character.toUpperCase(c)))\n",
    "println(transform(toTransform, c => 'x'))\n",
    "println(transform(toTransform, c => Character.toLowerCase(c)))\n",
    "println(transform(toTransform, c => if (c.isSpaceChar) '_' else c))"
   ]
  },
  {
   "cell_type": "markdown",
   "metadata": {},
   "source": [
    "It seems kind of wasteful to create a lambda that just turns around and calls another function, which is\n",
    "exactly what we're doing with `Character.toUpperCase` and `Character.toLowerCase`.\n",
    "\n",
    "Can't we just use them directly?\n",
    "\n",
    "Well, as it happens, we can."
   ]
  },
  {
   "cell_type": "code",
   "execution_count": null,
   "metadata": {},
   "outputs": [],
   "source": [
    "println(transform(toTransform, Character.toUpperCase))"
   ]
  },
  {
   "cell_type": "markdown",
   "metadata": {},
   "source": [
    "There's another simplification we can make. We're not actually using the parameter `c` in this example:\n",
    "\n",
    "```scala\n",
    "println(transform(toTransform, c => 'x'))\n",
    "```\n",
    "\n",
    "But the function _has_ to have a parameter. In this case, Scala lets us use an underscore (`_`) to indicate\n",
    "that we don't care about the parameter.\n"
   ]
  },
  {
   "cell_type": "code",
   "execution_count": null,
   "metadata": {},
   "outputs": [],
   "source": [
    "println(transform(toTransform, _ => 'x'))"
   ]
  },
  {
   "cell_type": "markdown",
   "metadata": {},
   "source": [
    "There's one final simplification (and underscore abuse) we should describe.\n",
    "\n",
    "We don't really need to call `Character.toUpperCase(c)`, since there's a `toUpper` function on Scala's\n",
    "`Char` class.\n",
    "\n",
    "So, we convert that example as follows:"
   ]
  },
  {
   "cell_type": "code",
   "execution_count": null,
   "metadata": {},
   "outputs": [],
   "source": [
    "println(transform(toTransform, c => c.toUpper))"
   ]
  },
  {
   "cell_type": "markdown",
   "metadata": {},
   "source": [
    "To some of us, that's actually clearer and more readable.\n",
    "\n",
    "But (and here's the underscore abuse) if you define a lambda, and you're using each parameter _only once_, you _can_ just\n",
    "choose to omit the parameter list entirely, and specify the parameters as underscores in the body of the lambda.\n",
    "\n",
    "Huh?\n",
    "\n",
    "As usual, an example is best:"
   ]
  },
  {
   "cell_type": "code",
   "execution_count": null,
   "metadata": {},
   "outputs": [],
   "source": [
    "// These are equivalent.\n",
    "\n",
    "transform(toTransform, c => c.toUpper)\n",
    "transform(toTransform, _.toUpper)"
   ]
  },
  {
   "cell_type": "markdown",
   "metadata": {},
   "source": [
    "Whether you find the second, more concise, lambda more readable or just plain ugly, just know that you _will_ encounter it in\n",
    "other people's Scala code.\n",
    "\n",
    "Also, you'll get used to it. You might even come to like it. (Really.)"
   ]
  },
  {
   "cell_type": "markdown",
   "metadata": {},
   "source": [
    "## Call by name parameters\n",
    "\n",
    "There's a special form of a higher-order function that Scala calls a _call by name_ function, and it's best described by\n",
    "example.\n",
    "\n",
    "Let's use logging as our problem. Here's a simple `logIfDebug` function."
   ]
  },
  {
   "cell_type": "code",
   "execution_count": null,
   "metadata": {},
   "outputs": [],
   "source": [
    "def logIfDebug(debug: Boolean, message: String): Unit = {\n",
    "  if (debug) println(message)\n",
    "}"
   ]
  },
  {
   "cell_type": "markdown",
   "metadata": {},
   "source": [
    "We can call it like this:"
   ]
  },
  {
   "cell_type": "code",
   "execution_count": null,
   "metadata": {},
   "outputs": [],
   "source": [
    "val x = 10\n",
    "logIfDebug(true, s\"x=$x\")"
   ]
  },
  {
   "cell_type": "markdown",
   "metadata": {},
   "source": [
    "But, this definition is problematic: If `debug` is `false`, we still pay the penalty of:\n",
    "\n",
    "- converting the integer (`x`) to a string, and\n",
    "- concatenating it with `\"x=\"`\n",
    "\n",
    "We have to do that _before_ calling `logIfDebug`, because the parameter has to be fully created\n",
    "before the call.\n",
    "\n",
    "What if there were a way to delay the construction?\n",
    "\n",
    "Ah! Higher-order functions!\n",
    "\n",
    "Let's redefine `logIfDebug`.\n"
   ]
  },
  {
   "cell_type": "code",
   "execution_count": null,
   "metadata": {},
   "outputs": [],
   "source": [
    "def logIfDebug(debug: Boolean, messageMaker: () => String): Unit = {\n",
    "  if (debug) println(messageMaker())\n",
    "}"
   ]
  },
  {
   "cell_type": "markdown",
   "metadata": {},
   "source": [
    "**Now**, we're providing a _function_ to construct our message, and the function is _only_ called\n",
    "if `debug` is true.\n",
    "\n",
    "There's one drawback, though: It's a bit uglier to call."
   ]
  },
  {
   "cell_type": "code",
   "execution_count": null,
   "metadata": {},
   "outputs": [],
   "source": [
    "logIfDebug(false, () => s\"x=$x\")"
   ]
  },
  {
   "cell_type": "markdown",
   "metadata": {},
   "source": [
    "But Scala provides a bit of syntactic sugar that lets us define a no-argument lambda that\n",
    "_doesn't_ require us to specify a parameter list. It looks like this:"
   ]
  },
  {
   "cell_type": "code",
   "execution_count": null,
   "metadata": {},
   "outputs": [],
   "source": [
    "def logIfDebug(debug: Boolean, message: => String): Unit = {\n",
    "  if (debug) println(message)\n",
    "}"
   ]
  },
  {
   "cell_type": "markdown",
   "metadata": {},
   "source": [
    "In _that_ definition, `message` is still a function taking no parameters,\n",
    "but we can specify our lambda with _only_ the body, and no parameter list."
   ]
  },
  {
   "cell_type": "code",
   "execution_count": null,
   "metadata": {},
   "outputs": [],
   "source": [
    "logIfDebug(false, s\"x=$x\")\n",
    "logIfDebug(true, s\"x * 2 = ${x * 2}\")"
   ]
  },
  {
   "cell_type": "markdown",
   "metadata": {},
   "source": [
    "We have the best of both worlds:\n",
    "\n",
    "- Our parameter is actually a _function_, so the integer conversion and string concatenation are\n",
    "  delayed until the function is actually called — which doesn't happen unless `debug` is `true`.\n",
    "  This is a win for performance.\n",
    "- But our _call_ to `logIfDebug` looks like it did with the first, less desirable, version — which is far more readable.\n",
    "\n",
    "Here's proof that `message` really is a function: We're going to call `println` inside the\n",
    "string interpolator. (That's allowed. `println` is just a function that returns `Unit`.) If\n",
    "the string is constructed _before_ the call to `logIsDebug`, we'll get the `println` output both\n",
    "times. If it's only called when `debug` is `true`, then we'll only get it for that case."
   ]
  },
  {
   "cell_type": "code",
   "execution_count": null,
   "metadata": {},
   "outputs": [],
   "source": [
    "logIfDebug(false, s\"Return value of println is ${println(\"not debug!\")}\")\n",
    "logIfDebug(true, s\"Return value of println is ${println(\"debug!\")}\")"
   ]
  },
  {
   "cell_type": "markdown",
   "metadata": {},
   "source": [
    "In Scala terminology, `message` is a call-by-name parameter.\n",
    "\n",
    "This feature is extremely useful. Every Scala logging framework uses it. (See, for example,\n",
    "[grizzled-slf4j](http://software.clapper.org/grizzled-slf4j/)). And there are uses for\n",
    "call-by-name parameters in many other places.\n",
    "\n",
    "It's a great tool for your Scala toolbox."
   ]
  },
  {
   "cell_type": "markdown",
   "metadata": {},
   "source": [
    "## Generics (but, briefly)\n",
    "\n",
    "The `transform` function, itself, isn't specific to characters. We _could_ make it work on anything that can be looped over.\n",
    "Let's use `Iterable` as our loopable base class, since `String` is an `Iterable` in Scala."
   ]
  },
  {
   "cell_type": "code",
   "execution_count": null,
   "metadata": {},
   "outputs": [],
   "source": [
    "def transform2[T](iterable: Iterable[T], transformer: T => T): Iterable[T] = {\n",
    "  // We can't use a StringBuilder. But an ArrayBuffer will work fine.\n",
    "  val res = new scala.collection.mutable.ArrayBuffer[T]\n",
    "  for (item <- iterable)\n",
    "    res.append(transformer(item))\n",
    "    \n",
    "  res.toIterable\n",
    "}"
   ]
  },
  {
   "cell_type": "markdown",
   "metadata": {},
   "source": [
    "Now, it works with any collection — though it does something a little goofy with `String` arguments, and it can't quite infer the proper\n",
    "lambda types."
   ]
  },
  {
   "cell_type": "code",
   "execution_count": null,
   "metadata": {},
   "outputs": [],
   "source": [
    "transform2(List(1, 2, 3), (i: Int) => i + 1)\n",
    "transform2(Array(\"one\", \"two\", \"three\", \"four\"), (s: String) => s.toUpperCase)\n",
    "transform2(toTransform, (c: Char) => c.toUpper)"
   ]
  },
  {
   "cell_type": "markdown",
   "metadata": {},
   "source": [
    "As a quick note, we can fix the String call by using a special `mkString` function.\n",
    "Defined on any collection of characters, `mkString` joins those character together by\n",
    "a delimiter, which defaults to the empty string. For example:\n"
   ]
  },
  {
   "cell_type": "code",
   "execution_count": null,
   "metadata": {},
   "outputs": [],
   "source": [
    "List('a', 'b', 'c').mkString(\"-\")\n",
    "Array('a', 'b', 'c', 'd').mkString"
   ]
  },
  {
   "cell_type": "code",
   "execution_count": null,
   "metadata": {},
   "outputs": [],
   "source": [
    "transform2(toTransform, (c: Char) => c.toUpper).mkString"
   ]
  },
  {
   "cell_type": "markdown",
   "metadata": {},
   "source": [
    "As we'll see later, there are better ways to create generic functions. And, our `transform` functions aren't necessary,\n",
    "because Scala has something even better."
   ]
  },
  {
   "cell_type": "markdown",
   "metadata": {},
   "source": [
    "## Multiple Parameter Lists\n",
    "\n",
    "Scala functions support multiple parameter lists, mostly to support a concept called _currying_, or partial function application. An example\n",
    "best clarifies what this means.\n",
    "\n",
    "Let's define an `add` function that takes two parameters. But, instead of defining it like this:\n",
    "\n",
    "```scala\n",
    "def add(x: Int, y: Int): Int = ???\n",
    "```\n",
    "\n",
    "we're going to define it slightly differently."
   ]
  },
  {
   "cell_type": "code",
   "execution_count": null,
   "metadata": {},
   "outputs": [],
   "source": [
    "def add(x: Int)(y: Int) = x + y\n",
    "\n",
    "// Now, I can call it like this:\n",
    "\n",
    "add(10)(20)"
   ]
  },
  {
   "cell_type": "markdown",
   "metadata": {},
   "source": [
    "What's the point of that? It's uglier to call that way, am I right?\n",
    "\n",
    "But, this definition is really syntactic sugar for a function returning a function. You can\n",
    "also define it like this:"
   ]
  },
  {
   "cell_type": "code",
   "execution_count": null,
   "metadata": {},
   "outputs": [],
   "source": [
    "def add2(x: Int): Int => Int = (y: Int) => x + y\n",
    "\n",
    "add2(10)(20)"
   ]
  },
  {
   "cell_type": "markdown",
   "metadata": {},
   "source": [
    "But here's the interesting part: What happens if I call `add2` with just _one_ of the parameters?"
   ]
  },
  {
   "cell_type": "code",
   "execution_count": null,
   "metadata": {},
   "outputs": [],
   "source": [
    "val add10 = add2(10)"
   ]
  },
  {
   "cell_type": "markdown",
   "metadata": {},
   "source": [
    "My call to `add2`:\n",
    "\n",
    "- Passed in a 10.\n",
    "- `add2` defined an internal lambda that captured (_closed over_) my 10.\n",
    "- `add2` returned that lambda, which takes its own parameter.\n",
    "\n",
    "That returned parameter will now add 10 to anything I pass to it."
   ]
  },
  {
   "cell_type": "code",
   "execution_count": null,
   "metadata": {},
   "outputs": [],
   "source": [
    "add10(5)\n",
    "add10(100)\n",
    "add10(-1)"
   ]
  },
  {
   "cell_type": "markdown",
   "metadata": {},
   "source": [
    "That's called currying (or, sometimes, partial function application).\n",
    "\n",
    "(In Python, you can do something similar with `functools.partial()`.)\n",
    "\n",
    "You can do it with `add`, as well, though the syntax is slightly different. You have to abuse\n",
    "the underscore again, to tell it, \"Hey, the underscore means I'm not applying this value right now. Give me\n",
    "back a function that'll let me apply it later.\""
   ]
  },
  {
   "cell_type": "code",
   "execution_count": null,
   "metadata": {},
   "outputs": [],
   "source": [
    "val add100 = add(100) _\n",
    "\n",
    "add100(5)\n",
    "add100(100)\n",
    "add100(-50)"
   ]
  },
  {
   "cell_type": "markdown",
   "metadata": {},
   "source": [
    "This example is rather contrived, but there are times where currying is extremely useful."
   ]
  }
 ],
 "metadata": {
  "kernelspec": {
   "display_name": "Scala 2.11",
   "language": "scala",
   "name": "scala211"
  },
  "language_info": {
   "codemirror_mode": "text/x-scala",
   "file_extension": ".scala",
   "mimetype": "text/x-scala",
   "name": "scala",
   "nbconvert_exporter": "script",
   "version": "2.11.12"
  }
 },
 "nbformat": 4,
 "nbformat_minor": 2
}
