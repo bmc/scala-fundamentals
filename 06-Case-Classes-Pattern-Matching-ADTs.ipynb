{
 "cells": [
  {
   "cell_type": "markdown",
   "metadata": {},
   "source": [
    "# _Scala Fundamentals_\n",
    "# 6. Case Classes, Pattern Matching, and Algebraic Data Types\n",
    "\n",
    "_This module was originally developed by Michael Pilquist._\n",
    "\n",
    "## Case Classes: The gist\n",
    "\n",
    "The `case` modifier on a class results in:\n",
    "\n",
    "- Automatic `val` for each constructor parameter\n",
    "- Structural `equals` and `hashCode`\n",
    "- Structural `toString`\n",
    "- Automatically generated companion object (with an `apply` method, so you can instantiate without using `new`)\n",
    "\n",
    "  Case classes are still classes though! You can add methods, values, etc."
   ]
  },
  {
   "cell_type": "code",
   "execution_count": null,
   "metadata": {},
   "outputs": [],
   "source": [
    "case class PhoneNumber(areaCode: String, number: String)\n",
    "\n",
    "case class Person(firstName: String, \n",
    "                  lastName: String, \n",
    "                  salary: Int, \n",
    "                  ssn: String,\n",
    "                  phoneNumber: Option[PhoneNumber]) {\n",
    "  def fullName: String = firstName + \" \" + lastName\n",
    "}\n",
    "\n",
    "val AllPeople = List(\n",
    "  Person(\"Lavern\", \"Clyatt\", 203190, \"913-98-6520\", Some(PhoneNumber(\"215\", \"555-1212\"))),\n",
    "  Person(\"Dia\", \"Unverzagt\", 57945, \"955-66-1239\", Some(PhoneNumber(\"610\", \"555-1313\"))),\n",
    "  Person(\"Madison\", \"Vaszily\", 107455, \"942-90-6988\", Some(PhoneNumber(\"267\", \"555-1212\"))),\n",
    "  Person(\"Elwanda\", \"Hulse\", 207472, \"978-38-9209\", None),\n",
    "  Person(\"Mina\", \"Suckow\", 231743, \"943-68-7575\", None)\n",
    ")\n",
    "\n",
    "val lavern: Person = AllPeople(0)\n",
    "println(s\"Lavern's last name is ${lavern.lastName}\")\n",
    "println(s\"Lavern's SSN is ${lavern.ssn}\")\n",
    "println(s\"Lavern's full name is ${lavern.fullName}\")\n",
    "println(s\"Lavern: $lavern\")\n",
    "\n",
    "\n",
    "val dia: Person = AllPeople(1)\n",
    "\n",
    "println(s\"Lavern == Dia? ${lavern == dia}\")\n",
    "println(s\"Lavern == Lavern? ${lavern == lavern}\")"
   ]
  },
  {
   "cell_type": "markdown",
   "metadata": {},
   "source": [
    "%md\n",
    "\n",
    "![?](http://i.imgur.com/Guv4TBn.png) **So what? I could have written this myself!**\n",
    "\n",
    "- Lots and lots of boilerplate\n",
    "- Generally accepted best practice to use a case class any time we want `equals`/`hashCode`/`toString` for a data struture\n",
    "- Encourages immutability and simple data types\n",
    "\n",
    "Here's the non-case class version"
   ]
  },
  {
   "cell_type": "code",
   "execution_count": null,
   "metadata": {},
   "outputs": [],
   "source": [
    "class Person2(val firstName: String,\n",
    "              val lastName: String, \n",
    "              val salary: Int, \n",
    "              val ssn: String, \n",
    "              val phoneNumber: Option[PhoneNumber]) {\n",
    "  override def toString: String = s\"String($firstName,$lastName,$salary,$ssn,$phoneNumber)\"\n",
    "  \n",
    "  // Don't worry about match. We'll get to that soon.\n",
    "  override def equals(o: Any): Boolean = o match {\n",
    "    case that: Person2 => \n",
    "      firstName == that.firstName && \n",
    "      lastName == that.lastName && \n",
    "      salary == that.salary && \n",
    "      ssn == that.ssn &&\n",
    "      phoneNumber == that.phoneNumber\n",
    "    case _ => false\n",
    "  }\n",
    "  \n",
    "  override def hashCode: Int = ??? // Please help me!\n",
    "}\n",
    "\n",
    "object Person2 {\n",
    "  def apply(firstName: String, \n",
    "            lastName: String, \n",
    "            salary: Int, \n",
    "            ssn: String, \n",
    "            phoneNumber: Option[PhoneNumber]): Person2 = {\n",
    "    new Person2(firstName, lastName, salary, ssn, phoneNumber)\n",
    "  }\n",
    "}"
   ]
  },
  {
   "cell_type": "markdown",
   "metadata": {},
   "source": [
    "## Copying Case Classes\n",
    "\n",
    "Every case class has a `copy` method which returns a clone of the case class with selective changes."
   ]
  },
  {
   "cell_type": "code",
   "execution_count": null,
   "metadata": {},
   "outputs": [],
   "source": [
    "val shirley = lavern.copy(firstName = \"Shirley\", lastName = \"Feeney\")\n",
    "val noche = dia.copy(firstName = \"Noche\", ssn = \"123-45-6789\")"
   ]
  },
  {
   "cell_type": "markdown",
   "metadata": {},
   "source": [
    "%md\n",
    "\n",
    "![?](http://i.imgur.com/Guv4TBn.png) **How would we implement this without case classes?**\n",
    "\n",
    "- Default parameters initialized to field values\n",
    "- Named parameters at call site"
   ]
  },
  {
   "cell_type": "code",
   "execution_count": null,
   "metadata": {},
   "outputs": [],
   "source": [
    "class Person2(val firstName: String,\n",
    "              val lastName: String, \n",
    "              val salary: Int, \n",
    "              val ssn: String, \n",
    "              val phoneNumber: Option[PhoneNumber]) {\n",
    "  override def toString: String = s\"String($firstName,$lastName,$salary,$ssn,$phoneNumber)\"\n",
    "  override def equals(o: Any): Boolean = ???\n",
    "  override def hashCode: Int = ???\n",
    "  \n",
    "  def copy(firstName: String = this.firstName, \n",
    "           lastName: String = this.lastName,\n",
    "           salary: Int = this.salary,\n",
    "           ssn: String = this.ssn,\n",
    "           phoneNumber: Option[PhoneNumber] = this.phoneNumber): Person2 = {\n",
    "    new Person2(firstName, lastName, salary, ssn, phoneNumber)\n",
    "  }\n",
    "\n",
    "}\n",
    "\n",
    "object Person2 {\n",
    "  def apply(firstName: String, \n",
    "            lastName: String, \n",
    "            salary: Int, \n",
    "            ssn: String, \n",
    "            phoneNumber: Option[PhoneNumber]): Person2 = {\n",
    "    new Person2(firstName, lastName, salary, ssn, phoneNumber)\n",
    "  }\n",
    "}\n",
    "\n",
    "val lavern2 = Person2(\"Lavern\", \"Clyatt\", 203190, \"913-98-6520\", Some(PhoneNumber(\"215\", \"555-1212\")))\n",
    "val shirley2 = lavern.copy(firstName = \"Shirley\", lastName = \"Feeney\")"
   ]
  },
  {
   "cell_type": "markdown",
   "metadata": {},
   "source": [
    "## Exercise 6.1\n",
    "\n",
    "- Use a case class to model a bank account, which consists of an account holder (`Person`) and a balance in dollars. \n",
    "- Define a method which debits the account by a specified number of dollars, returning a copy of the account with the adjusted balance.\n",
    "- Define a method to update the phone number, returning a copy of the account with the new phone number."
   ]
  },
  {
   "cell_type": "code",
   "execution_count": null,
   "metadata": {},
   "outputs": [],
   "source": [
    "// Put your solution here"
   ]
  },
  {
   "cell_type": "code",
   "execution_count": null,
   "metadata": {},
   "outputs": [],
   "source": [
    "// ANSWER\n",
    "// This one's better.\n",
    "\n",
    "case class Account(holder: Person, balance: Int) {\n",
    "  \n",
    "  def debit(amount: Int): Account = {\n",
    "    copy(balance = balance - amount)\n",
    "  }\n",
    "\n",
    "  def updatePhoneNumber(ph: PhoneNumber): Account = {\n",
    "    copy(holder = holder.copy(phoneNumber = Some(ph)))\n",
    "  }\n",
    "}"
   ]
  },
  {
   "cell_type": "markdown",
   "metadata": {},
   "source": [
    "## Validation\n",
    "\n",
    "How can we validate the values in a case class? Two insurmountable issues:\n",
    "\n",
    "- The generated `apply` method in the companion _cannot_ be overridden or customized.\n",
    "- The `copy` method allows insertion of arbitrary values.\n",
    "\n",
    "One option is using the `require` method, or otherwise throwing exceptions, from case class constructor:"
   ]
  },
  {
   "cell_type": "code",
   "execution_count": null,
   "metadata": {},
   "outputs": [],
   "source": [
    "case class Phone(areaCode: String, number: String) {\n",
    "  require(areaCode.size == 3, \"area code must be 3 digits\")\n",
    "  require(number.size == 8, \"number must be in the format xxx-xxxx\")\n",
    "}\n",
    "\n",
    "val p = Phone(\"215\", \"555-1212\")\n",
    "scala.util.Try(p.copy(areaCode = \"21\"))"
   ]
  },
  {
   "cell_type": "markdown",
   "metadata": {},
   "source": [
    "This leaves a lot to be desired though, as we might want to perform validation that's safe — i.e., that doesn't throw exceptions.\n",
    "\n",
    "To accomplish this, we can:\n",
    "\n",
    "- declare the case class *abstract*, which suppresses the creation of the `apply` method in the companion and the `copy` method in the class\n",
    "- declare the class *sealed* so that no subtype can be defined outside of the file in which the abstract class is defined\n",
    "- implement our own `apply` method that returns a private subtype\n",
    "\n",
    "**Note**: The `Either` type is a way to capturing and returning one of two possible values. It's often used for\n",
    "error handling. `Either[String, Int]` can return a `Left(string)` or a `Right(integer)`. Conventionally, we use\n",
    "the `Left` type to hold an error and the `Right` type to hold the successful return value."
   ]
  },
  {
   "cell_type": "code",
   "execution_count": null,
   "metadata": {},
   "outputs": [],
   "source": [
    "sealed abstract case class Phone(areaCode: String, number: String)\n",
    "\n",
    "object Phone {\n",
    "  def apply(areaCode: String, number: String): Either[String, Phone] = {\n",
    "    if (areaCode.size != 3) Left(\"area code must be 3 digits\")\n",
    "    else if (number.size != 8) Left(\"number must be in the format xxx-xxxx\")\n",
    "    else Right(new Phone(areaCode, number) {})\n",
    "  }\n",
    "}\n",
    "println(Phone(\"215\", \"555-1212\"))\n",
    "println(Phone(\"21\", \"555-1212\"))\n",
    "println(Phone(\"215\", \"555-1212\") == Phone(\"215\", \"555-1212\"))"
   ]
  },
  {
   "cell_type": "code",
   "execution_count": null,
   "metadata": {},
   "outputs": [],
   "source": [
    "val ph = Phone(\"610\", \"555-1212\").right.get // this is kind of dangerous"
   ]
  },
  {
   "cell_type": "markdown",
   "metadata": {},
   "source": [
    "# Pattern Matching\n",
    "\n",
    "The `match` and `case` keywords let us inspect an expression using various patterns or conditions. In its simplest form, this is analogous to `switch`/`case` from C or Java."
   ]
  },
  {
   "cell_type": "code",
   "execution_count": null,
   "metadata": {},
   "outputs": [],
   "source": [
    "def showDirection(dir: Int): String = {\n",
    "  dir match {\n",
    "    case 1 => \"East\"\n",
    "    case 2 => \"North\"\n",
    "    case 3 => \"West\"\n",
    "    case 4 => \"South\"\n",
    "  }\n",
    "}\n",
    "\n",
    "println(showDirection(1))\n",
    "println(showDirection(2))\n",
    "println(showDirection(3))\n",
    "println(showDirection(4))"
   ]
  },
  {
   "cell_type": "markdown",
   "metadata": {},
   "source": [
    "If the expression does not match any of the cases, a `scala.MatchError` is thrown:"
   ]
  },
  {
   "cell_type": "code",
   "execution_count": null,
   "metadata": {},
   "outputs": [],
   "source": [
    "try {\n",
    "  showDirection(5)\n",
    "}\n",
    "catch {\n",
    "  case e: Exception => println(s\"${e.getClass.getName}: ${e.getMessage}\")\n",
    "}"
   ]
  },
  {
   "cell_type": "markdown",
   "metadata": {},
   "source": [
    "We can add a default case by pattern-matching on (what else?) an `_`:"
   ]
  },
  {
   "cell_type": "code",
   "execution_count": null,
   "metadata": {},
   "outputs": [],
   "source": [
    "def showDirection(dir: Int): String = {\n",
    "  dir match {\n",
    "    case 1 => \"East\"\n",
    "    case 2 => \"North\"\n",
    "    case 3 => \"West\"\n",
    "    case 4 => \"South\"\n",
    "    case _ => \"Unknown\"\n",
    "  }\n",
    "}\n",
    "println(showDirection(5))\n"
   ]
  },
  {
   "cell_type": "markdown",
   "metadata": {},
   "source": [
    "### Destructuring\n",
    "\n",
    "Pattern matching is much more powerful than simple switch constructs. The biggest enabler is *destructuring*, which lets us:\n",
    "\n",
    "- \"take apart\" a value based on some pattern, and\n",
    "- bind names to the constituent parts.\n",
    "\n",
    "We can destructure tuples by pattern matching with their \"shape\":"
   ]
  },
  {
   "cell_type": "code",
   "execution_count": null,
   "metadata": {},
   "outputs": [],
   "source": [
    "def sumComponents(p: (Int, Int, Int)): Int = {\n",
    "  p match {\n",
    "    case (x, y, z) => x + y + z\n",
    "  }\n",
    "}\n",
    "\n",
    "sumComponents((1, 2, 3))"
   ]
  },
  {
   "cell_type": "markdown",
   "metadata": {},
   "source": [
    "### Subtype Matching\n",
    "\n",
    "We can also pattern match on subtypes.\n",
    "\n",
    "Recall that `Option` is defined with two subtypes: `Some(value)` and `None`. We can use this to pattern match on options:"
   ]
  },
  {
   "cell_type": "code",
   "execution_count": null,
   "metadata": {},
   "outputs": [],
   "source": [
    "def square(x: Option[Int]): Option[Int] = {\n",
    "  x match {\n",
    "    case s: Some[Int] => Some(s.get * s.get) // Eek! There's a better way to do this...\n",
    "    case None         => None\n",
    "  }\n",
    "}\n",
    "\n",
    "println(square(Some(5)))\n",
    "println(square(None))"
   ]
  },
  {
   "cell_type": "markdown",
   "metadata": {},
   "source": [
    "When you find yourself calling `get` on an `Option`, you're usually doing it wrong.\n",
    "\n",
    "We can actually destructure the `Some` using a constructor-like pattern:"
   ]
  },
  {
   "cell_type": "code",
   "execution_count": null,
   "metadata": {},
   "outputs": [],
   "source": [
    "def square(x: Option[Int]): Option[Int] = {\n",
    "  x match {\n",
    "    case Some(xx) => Some(xx * xx)\n",
    "    case None     => None\n",
    "  }\n",
    "}\n",
    "\n",
    "println(square(Some(5)))\n",
    "println(square(None))"
   ]
  },
  {
   "cell_type": "markdown",
   "metadata": {},
   "source": [
    "Of course, the _functional_ way to implement `square` is with `map`:"
   ]
  },
  {
   "cell_type": "code",
   "execution_count": null,
   "metadata": {},
   "outputs": [],
   "source": [
    "def square(x: Option[Int]): Option[Int] = x.map { i => i * i }\n",
    "\n",
    "println(square(Some(5)))\n",
    "println(square(None))"
   ]
  },
  {
   "cell_type": "markdown",
   "metadata": {},
   "source": [
    "### Exercise 6.2: Implement sum of squares using a single match expression\n",
    "\n",
    "Implement a function called `sumOfSquares`.\n",
    "\n",
    "- The implementation should _not_ use any functions on `Option` like `map` or `getOrElse`.\n",
    "- The implementation can be done with a single `match` statement.\n",
    "\n",
    "This one's a little tricky. **Hint**: Consider wrapping the arguments in a 2-tuple.\n"
   ]
  },
  {
   "cell_type": "code",
   "execution_count": null,
   "metadata": {},
   "outputs": [],
   "source": [
    "// Fill in the following function, replacing None with an implementation that prints true for all 4 test cases.\n",
    "\n",
    "def sumOfSquares(x: Option[Int], y: Option[Int]): Option[Int] = {\n",
    "  None\n",
    "}\n",
    "\n",
    "println(sumOfSquares(Some(5), Some(4)) == Some(41))\n",
    "println(sumOfSquares(Some(5), None) == None)\n",
    "println(sumOfSquares(None, Some(4)) == None)\n",
    "println(sumOfSquares(None, None) == None)"
   ]
  },
  {
   "cell_type": "code",
   "execution_count": null,
   "metadata": {},
   "outputs": [],
   "source": [
    "// ANSWER\n",
    "def sumOfSquares(x: Option[Int], y: Option[Int]): Option[Int] = {\n",
    "  (x, y) match {\n",
    "    case (Some(xx), Some(yy)) => Some(xx * xx + yy * yy)\n",
    "    case _ => None\n",
    "  }\n",
    "}\n",
    "\n",
    "assert(sumOfSquares(Some(5), Some(4)) == Some(41))\n",
    "assert(sumOfSquares(Some(5), None) == None)\n",
    "assert(sumOfSquares(None, Some(4)) == None)\n",
    "assert(sumOfSquares(None, None) == None)"
   ]
  },
  {
   "cell_type": "markdown",
   "metadata": {},
   "source": [
    "# Pattern Matching on Case Classes\n",
    "\n",
    "- Case classes support destructuring based on their fields\n",
    "- Each field can either by bound to a variable or further matched\n",
    "\n",
    "**Trivia**: They're called \"case classes\" because one of their original purposes was to facilitate pattern (\"case\") matching."
   ]
  },
  {
   "cell_type": "code",
   "execution_count": null,
   "metadata": {},
   "outputs": [],
   "source": [
    "def lastNameAndAreaCode(p: Person): Option[(String, String)] = {\n",
    "  p match {\n",
    "    case Person(firstName, lastName, salary, ssn, Some(PhoneNumber(areaCode, digits))) =>\n",
    "      Some((lastName, areaCode))\n",
    "    case _ => None\n",
    "  }\n",
    "}\n",
    "\n",
    "AllPeople.map(lastNameAndAreaCode)"
   ]
  },
  {
   "cell_type": "markdown",
   "metadata": {},
   "source": [
    "- We didn't use many of the fields of the case class but we still need to match on them. \n",
    "- When we destructure a case class, we need to exactly match the structure.\n",
    "- We *don't* need to bind names to the values we aren't going to use! \n",
    "\n",
    "Let's call on our old, abused friend, the underscore:"
   ]
  },
  {
   "cell_type": "code",
   "execution_count": null,
   "metadata": {},
   "outputs": [],
   "source": [
    "def lastNameAndAreaCode(p: Person): Option[(String, String)] = {\n",
    "  p match {\n",
    "    case Person(_, lastName, _, _, Some(PhoneNumber(areaCode, _))) =>\n",
    "      Some((lastName, areaCode))\n",
    "    case _ => None\n",
    "  }\n",
    "}\n",
    "\n",
    "AllPeople.map(lastNameAndAreaCode)"
   ]
  },
  {
   "cell_type": "markdown",
   "metadata": {},
   "source": [
    "## Guards\n",
    "\n",
    "Each case statement can optionally have a _guard_ — an `if booleanExpression` which further limits the values the case succeeds on.\n",
    "\n",
    "**Oddity:** We don't *need* parentheses around the boolean expression. This is a syntax quirk of Scala!"
   ]
  },
  {
   "cell_type": "code",
   "execution_count": null,
   "metadata": {},
   "outputs": [],
   "source": [
    "def migratePhones(p: Person): Person = {\n",
    "  p match {\n",
    "    case Person(_, lastName, _, _, Some(PhoneNumber(\"215\", digits))) if digits.startsWith(\"555-\") =>\n",
    "      p.copy(phoneNumber = Some(PhoneNumber(\"267\", digits)))\n",
    "    case _ => p\n",
    "  }\n",
    "}\n",
    "\n",
    "AllPeople.map(migratePhones)"
   ]
  },
  {
   "cell_type": "markdown",
   "metadata": {},
   "source": [
    "## Pattern Matching Syntax\n",
    "\n",
    "We've seen a lot of name bindings in patterns. For example, \n",
    "\n",
    "```scala\n",
    "case Person(_, lastName, _, _, Some(PhoneNumber(\"215\", digits)))\n",
    "```\n",
    "\n",
    "contains two name bindings, `lastName` and `digits`, along with three ignored patterns (the underscores), and one literal pattern (the `\"215\"`).\n",
    "\n",
    "Every pattern supports name binding though! The [Scala Language Specification (section 8.1)](http://scala-lang.org/files/archive/spec/2.11/08-pattern-matching.html) defines pattern matching syntax in the following way (using an EBNF-like syntax):\n",
    "\n",
    "```\n",
    "Pattern         ::=  Pattern1 { ‘|’ Pattern1 }\n",
    "Pattern1        ::=  varid ‘:’ TypePat\n",
    "                  |  ‘_’ ‘:’ TypePat\n",
    "                  |  Pattern2\n",
    "Pattern2        ::=  varid [‘@’ Pattern3]\n",
    "                  |  Pattern3\n",
    "Pattern3        ::=  SimplePattern\n",
    "                  |  SimplePattern {id [nl] SimplePattern}\n",
    "SimplePattern   ::=  ‘_’\n",
    "                  |  varid\n",
    "                  |  Literal\n",
    "                  |  StableId\n",
    "                  |  StableId ‘(’ [Patterns] ‘)’\n",
    "                  |  StableId ‘(’ [Patterns ‘,’] [varid ‘@’] ‘_’ ‘*’ ‘)’\n",
    "                  |  ‘(’ [Patterns] ‘)’\n",
    "                  |  XmlPattern\n",
    "Patterns        ::=  Pattern {‘,’ Patterns}\n",
    "```\n",
    "\n",
    "Aha! This definition is illuminating in a number of ways:\n",
    " - Patterns are *recursive*\n",
    " - Name bindings are supported in mutiple ways\n",
    " - Pattern matching syntax does not say anything about case classes\n",
    "\n",
    "Let's look at each of these in detail."
   ]
  },
  {
   "cell_type": "markdown",
   "metadata": {},
   "source": [
    "### Patterns are recursive\n",
    "\n",
    "To get a feel for what this means, let's take a pattern we used earlier and project it against the syntax definition from the SLS:\n",
    "\n",
    "```scala\n",
    "Person(firstName, lastName, salary, ssn, Some(PhoneNumber(areaCode, digits)))\n",
    "```\n",
    "\n",
    "We start with the token `Person` and with the `Pattern` definition. \n",
    "\n",
    "- `Person` must be a `Pattern1`. \n",
    "- Looking at `Pattern1`, `Person` isn't a `varid : TypePat` nor a `_: TypePat` so it must be a `Pattern2`. \n",
    "- `Person` isn't a `varid @ Pattern3` so it must be a `SimplePattern`. \n",
    "- It's in the definition of `SimplePattern` where we make progress: `Person` is a *stable identifier* and it is followed by parentheses enclosing more patterns. \n",
    "\n",
    "This gives us the following traversal of grammar rules:\n",
    "\n",
    "```\n",
    "Pattern -> Pattern1 -> Pattern2 -> Pattern3 -> SimplePattern -> StableId '(' [Patterns] ')'\n",
    "```\n",
    "\n",
    "The `Patterns` rule expands to a comma separate list of `Pattern`, which means we can parse each argument to `Person` as a pattern. For example, parsing `firstName` is accomplished via the traversal `Pattern -> Pattern1 -> Pattern2 -> varid`.\n",
    "\n",
    "Why does this matter to us? Because we can use full pattern syntax at each \"level\" of destructuring!"
   ]
  },
  {
   "cell_type": "code",
   "execution_count": null,
   "metadata": {},
   "outputs": [],
   "source": [
    "def foo(o: Option[Person]) = o match {\n",
    "  case Some(p @ Person(\"Lavern\", _, _, _, Some(ph))) if ph.number.endsWith(\"1212\") =>\n",
    "    println(\"Full name: \" + p.fullName)\n",
    "  case other => \"Doesn't match!\"\n",
    "}\n",
    "foo(Some(lavern))"
   ]
  },
  {
   "cell_type": "markdown",
   "metadata": {},
   "source": [
    "### Name bindings are supported in multiple ways\n",
    "\n",
    "What we've been referring to as a \"name binding\" is represented in the grammar as productions which use the `varid` rule. These are:\n",
    "```\n",
    "Pattern1        ::=  varid ‘:’ TypePat | ...\n",
    "Pattern2        ::=  varid [‘@’ Pattern3] | Pattern3\n",
    "SimplePattern   ::=  ‘_’ | varid | ...\n",
    "```\n",
    "\n",
    "A pattern of the form `varid: TypePat` is a *typed pattern*. Like we saw before, it matches when the expression is assignable to the type specified by `TypePat` and it introduces a new value in to scope with the name `varid`.\n",
    "\n",
    "A pattern of the form `varid @ Pattern` is a *pattern binder*. It introduces a new value in to scope with the name `varid` such that the value bound to `varid` matches the pattern after the `@`.\n",
    "\n",
    "### Pattern matching syntax is not case class aware (or is it?)\n",
    "\n",
    "In the syntax definition a pattern match, case classes were not mentioned. When we match on case classes, we use the grammar rule:\n",
    "\n",
    "```\n",
    "SimplePattern -> StableId ‘(’ [Patterns] ‘)’\n",
    "```\n",
    "\n",
    "Scala uses this grammar rule for two purposes: *constructor patterns* and *extractor patterns*.\n",
    "\n",
    "- A constructor pattern is a pattern which matches the primary constructor of a case class — i.e., a pattern is \n",
    "  specified inside the parentheses for each argument to the primary constructor of the case class.\n",
    "- An extractor pattern is a pattern where the `StableId` refers to an object that has one or more methods named `unapply`. We'll see these more in a bit."
   ]
  },
  {
   "cell_type": "markdown",
   "metadata": {},
   "source": [
    "## Stable Identifiers"
   ]
  },
  {
   "cell_type": "code",
   "execution_count": null,
   "metadata": {},
   "outputs": [],
   "source": [
    "def inPhilly(ph: PhoneNumber): Boolean = ph match { case PhoneNumber(\"215\", _) => true; case _ => false }\n",
    "println(inPhilly(PhoneNumber(\"215\", \"555-1212\")))\n",
    "println(inPhilly(PhoneNumber(\"866\", \"555-1313\")))"
   ]
  },
  {
   "cell_type": "markdown",
   "metadata": {},
   "source": [
    "Let's define `\"215\"` as a constant instead of hard-coding it in our pattern:"
   ]
  },
  {
   "cell_type": "code",
   "execution_count": null,
   "metadata": {},
   "outputs": [],
   "source": [
    "val primaryPhillyExchange = \"215\"\n",
    "def inPhilly(ph: PhoneNumber): Boolean = ph match { case PhoneNumber(primaryPhillyExchange, _) => true; case _ => false }\n",
    "println(inPhilly(PhoneNumber(\"215\", \"555-1212\")))\n",
    "println(inPhilly(PhoneNumber(\"866\", \"555-1313\")))"
   ]
  },
  {
   "cell_type": "markdown",
   "metadata": {},
   "source": [
    "![!](http://i.imgur.com/TvgcpDH.png)\n",
    "Eek! What's happening here? \n",
    "\n",
    "The `PhoneNumber(primaryPhillyExchange, _)` pattern is getting parsed as a constructor pattern with the two patterns:\n",
    "\n",
    "- `primaryPhillyExchange` and \n",
    "- `_`. \n",
    "\n",
    "The `primaryPhillyExchange` pattern is getting parsed as `Pattern -> Pattern1 -> Pattern2 -> varid`. That is, `primaryPhillyExchange` is acting as a name binding.\n",
    "\n",
    "Scala defines `varid` as identifiers that start with a lowercase character. We can take advantage of this by naming our constant to start with an uppercase character."
   ]
  },
  {
   "cell_type": "code",
   "execution_count": null,
   "metadata": {},
   "outputs": [],
   "source": [
    "val PrimaryPhillyExchange = \"215\"\n",
    "def inPhilly(ph: PhoneNumber): Boolean = ph match { case PhoneNumber(PrimaryPhillyExchange, _) => true; case _ => false }\n",
    "println(inPhilly(PhoneNumber(\"215\", \"555-1212\")))\n",
    "println(inPhilly(PhoneNumber(\"866\", \"555-1313\")))"
   ]
  },
  {
   "cell_type": "markdown",
   "metadata": {},
   "source": [
    "## Alternative Patterns\n",
    "\n",
    "Scala also supports \"OR\"-ing patterns using the `|` character to separate patterns."
   ]
  },
  {
   "cell_type": "code",
   "execution_count": null,
   "metadata": {},
   "outputs": [],
   "source": [
    "def inPhilly(ph: PhoneNumber): Boolean = ph match { \n",
    "  // We're probably missing a few...\n",
    "  case PhoneNumber(\"215\", _) | PhoneNumber(\"267\", _) | PhoneNumber(\"610\", _) | PhoneNumber(\"484\", _) => true\n",
    "  case _ => false\n",
    "}\n",
    "\n",
    "println(inPhilly(PhoneNumber(\"215\", \"555-1212\")))\n",
    "println(inPhilly(PhoneNumber(\"267\", \"555-1313\")))\n",
    "println(inPhilly(PhoneNumber(\"610\", \"555-1414\")))\n",
    "\n",
    "def foo(x: Int): String = x match { \n",
    "  case -1 | 0 | 1 => \"Nearly Zero\"\n",
    "  case _ => \"Not Nearly Zero\" \n",
    "}\n",
    "\n",
    "println(foo(1))\n",
    "println(foo(4))"
   ]
  },
  {
   "cell_type": "markdown",
   "metadata": {},
   "source": [
    "We cannot use alternatives and name bindings in the same pattern though. For example, this does not compile:\n"
   ]
  },
  {
   "cell_type": "code",
   "execution_count": null,
   "metadata": {},
   "outputs": [],
   "source": [
    "// This won't compile. (Try it.)\n",
    "\n",
    "def foo(ph: PhoneNumber) = ph match { case PhoneNumber(\"215\", digits) | PhoneNumber(\"267\", digits) => println(digits) }"
   ]
  },
  {
   "cell_type": "markdown",
   "metadata": {},
   "source": [
    "We can use name bindings before we get to the alternative pattern though — for example, by using a pattern binder:"
   ]
  },
  {
   "cell_type": "code",
   "execution_count": null,
   "metadata": {},
   "outputs": [],
   "source": [
    "def foo(ph: PhoneNumber) = ph match { case p @ (PhoneNumber(\"215\", _) | PhoneNumber(\"267\", _)) => println(p.number) }"
   ]
  },
  {
   "cell_type": "markdown",
   "metadata": {},
   "source": [
    "## Extractors\n",
    "\n",
    "When destructuring a case class with a pattern match, we used the grammar production:\n",
    "\n",
    "```\n",
    "SimplePattern -> StableId ‘(’ [Patterns] ‘)’\n",
    "```\n",
    "\n",
    "More specifically, we used a constructor pattern, which destructured the case class by matching each argument to an argument in the primary constructor.\n",
    "\n",
    "This same grammar production supports *extractor patterns*. The `StableId` is the name of an object that defines an `unapply` method. The `unapply` method takes apart a value, returning its pieces."
   ]
  },
  {
   "cell_type": "code",
   "execution_count": null,
   "metadata": {},
   "outputs": [],
   "source": [
    "object SocialSecurityNumber {\n",
    "  def unapply(str: String): Option[(Int, Int, Int)] = {\n",
    "    val parts = str.split(\"-\")\n",
    "    if (parts.size == 3) {\n",
    "      try {\n",
    "        val nums = parts.map(_.toInt)\n",
    "        Some((nums(0), nums(1), nums(2)))\n",
    "      } \n",
    "      catch {\n",
    "        case _: NumberFormatException => None\n",
    "      }\n",
    "    } \n",
    "    else {\n",
    "      None\n",
    "    }\n",
    "  }\n",
    "}\n",
    "\n",
    "def printSsn(ssn: String): Unit = {\n",
    "  val description = ssn match { \n",
    "    case SocialSecurityNumber(x, y, z) => s\"Upper: $x, Mid: $y, Lower: $z\"\n",
    "    case _                             => s\"$ssn is not a valid SSN\"\n",
    "  }\n",
    "  println(description)\n",
    "}\n",
    "\n",
    "printSsn(\"123-45-6789\")\n",
    "printSsn(\"123-asdf-6789\")"
   ]
  },
  {
   "cell_type": "markdown",
   "metadata": {},
   "source": [
    "## Varargs Pattern Matching\n",
    "\n",
    "We can also match a variable number of arguments — for example, binding a name to the first few values of a `Vector`."
   ]
  },
  {
   "cell_type": "code",
   "execution_count": null,
   "metadata": {},
   "outputs": [],
   "source": [
    "def foo(xs: Vector[Int]): Boolean = xs match {\n",
    "  case Vector(1, 2) => true\n",
    "  case _ => false\n",
    "}\n",
    "\n",
    "println(\"foo:\\n----\")\n",
    "println(foo(Vector(1, 2)))\n",
    "println(foo(Vector(1, 2, 3)))\n",
    "println(foo(Vector(2, 3, 4)))\n",
    "\n",
    "def bar(xs: Vector[Int]): Boolean = xs match {\n",
    "  case Vector(1, 2, _*) => true\n",
    "  case _ => false\n",
    "}\n",
    "\n",
    "println(\"\\nbar:\\n----\")\n",
    "println(bar(Vector(1, 2)))\n",
    "println(bar(Vector(1, 2, 3)))\n",
    "println(bar(Vector(2, 3, 4)))"
   ]
  },
  {
   "cell_type": "code",
   "execution_count": null,
   "metadata": {},
   "outputs": [],
   "source": [
    "def baz(ps: Vector[PhoneNumber]): Boolean = ps match {\n",
    "  case Vector(PhoneNumber(\"215\", n1), PhoneNumber(\"267\", n2), _*) if n1 == n2 => true\n",
    "  case _ => false\n",
    "}\n",
    "\n",
    "println(baz(Vector(PhoneNumber(\"215\", \"555-1212\"), PhoneNumber(\"267\", \"555-1212\"))))\n",
    "println(baz(Vector(PhoneNumber(\"215\", \"555-1212\"), PhoneNumber(\"267\", \"555-5555\"))))"
   ]
  },
  {
   "cell_type": "markdown",
   "metadata": {},
   "source": [
    "### Vararg Extractors\n",
    "\n",
    "We can write extractors that support vararg pattern matching by implementing `unapplySeq` instead of `unapply`."
   ]
  },
  {
   "cell_type": "code",
   "execution_count": null,
   "metadata": {},
   "outputs": [],
   "source": [
    "object Primes {\n",
    "  def unapplySeq(n: Int): Some[Seq[Int]] = {\n",
    "    Some(factorize(n))\n",
    "  }\n",
    "  \n",
    "  // Adapted from http://stackoverflow.com/a/30283151/547212\n",
    "  def factorize(x: Int): List[Int] = {\n",
    "    @annotation.tailrec\n",
    "    def loop(x: Int, a: Int = 2, acc: List[Int] = Nil): List[Int] = {\n",
    "      a*a > x match {\n",
    "        case false if x % a == 0 => loop(x / a, a, a :: acc)\n",
    "        case false => loop(x, a + 1, acc)\n",
    "        case true => x :: acc\n",
    "      }\n",
    "    }\n",
    "    loop(x).reverse\n",
    "  }\n",
    "}\n",
    "\n",
    "def printDivByTwoAndThree(n: Int): Unit = n match { \n",
    "  case Primes(2, 3, _*) => println(s\"$n divisible by both 2 and 3\") \n",
    "  case Primes(_*) => println(s\"$n NOT divisible by both 2 and 3\")\n",
    "}\n",
    "printDivByTwoAndThree(42)\n",
    "printDivByTwoAndThree(24)"
   ]
  },
  {
   "cell_type": "markdown",
   "metadata": {},
   "source": [
    "## Pattern-ing\n",
    "\n",
    "So far, every use of pattern matching we've seen has involved matching an expression against one or more cases via the `match` keyword. Scala allows pattern matching in a number of other ways though.\n",
    "\n",
    "### Pattern matching during `val` assignment"
   ]
  },
  {
   "cell_type": "code",
   "execution_count": null,
   "metadata": {},
   "outputs": [],
   "source": [
    "val SocialSecurityNumber(hi, med, low) = \"123-45-6789\"\n",
    "println(s\"High: $hi, Medium: $med, Low: $low\")\n",
    "\n",
    "// This will throw a MatchError\n",
    "// val SocialSecurityNumber(hi, med, low) = \"asdf\"\n",
    "\n",
    "val Some(x) = Option(1)\n",
    "println(s\"x: $x\")\n",
    "\n",
    "val y @ Some(z) = Option(42)\n",
    "println(s\"y: $y, z: $z\")"
   ]
  },
  {
   "cell_type": "markdown",
   "metadata": {},
   "source": [
    "Be careful with `val` assignment matching, though: If you get it wrong, you'll get an exception at runtime:"
   ]
  },
  {
   "cell_type": "code",
   "execution_count": null,
   "metadata": {},
   "outputs": [],
   "source": [
    "val Array(first, second) = (1 to 3).toArray // this will bail"
   ]
  },
  {
   "cell_type": "markdown",
   "metadata": {},
   "source": [
    "When destructuring something of unknown size, it's best to use the _varargs_ pattern or a full pattern match."
   ]
  },
  {
   "cell_type": "code",
   "execution_count": null,
   "metadata": {},
   "outputs": [],
   "source": [
    "val arr = (1 to 3).toArray\n",
    "val (first, second) = arr match {\n",
    "  case Array() => (0, 0)\n",
    "  case Array(n) => (n, 0)\n",
    "  case Array(m, n, _*) => (m, n)\n",
    "}"
   ]
  },
  {
   "cell_type": "markdown",
   "metadata": {},
   "source": [
    "### Pattern matching in the body of an anonymous function\n",
    "\n",
    "This technique is a nice way to unpack an argument to a lambda:"
   ]
  },
  {
   "cell_type": "code",
   "execution_count": null,
   "metadata": {},
   "outputs": [],
   "source": [
    "val firstNames = AllPeople.map { case Person(firstName, _, _, _, _) => firstName }"
   ]
  },
  {
   "cell_type": "markdown",
   "metadata": {},
   "source": [
    "It is _especially_ useful with tuples. Compare these two examples. Both do exactly the same thing. Which one is more readable?\n"
   ]
  },
  {
   "cell_type": "code",
   "execution_count": null,
   "metadata": {},
   "outputs": [],
   "source": [
    "val m = Seq(\"key1\", \"key2\", \"key3\", \"key4\").map { key => key -> math.abs(scala.util.Random.nextInt(1000)) }\n",
    "\n",
    "// Let's create a new map which doubles each value. Which do you like better?\n",
    "\n",
    "val m1 = m.map { pair => pair._1 -> pair._2 * 2 }\n",
    "val m2 = m.map { case (key, value) => key -> value * 2 }"
   ]
  },
  {
   "cell_type": "markdown",
   "metadata": {},
   "source": [
    "### Pattern matching in the definition of a PartialFunction\n",
    "\n",
    "This is the definition of a `PartialFunction` from `A` to `B`:\n",
    "\n",
    "```scala\n",
    "trait PartialFunction[-A,+B] {\n",
    "  def isDefinedAt(a: A): Boolean\n",
    "  def apply(a: A): B\n",
    "}\n",
    "```\n",
    "\n",
    "This defines a function which is only safe to call at a given value of type `A` if the `isDefinedAt` method returns true for that value.\n",
    "\n",
    "One way to think of a partial function is as an incomplete pattern matching expression:"
   ]
  },
  {
   "cell_type": "code",
   "execution_count": null,
   "metadata": {},
   "outputs": [],
   "source": [
    "val pf1: PartialFunction[(String, Int), (String, Int)] = { case (key: String, value: Int) if value > 0 => key -> value * 2 }"
   ]
  },
  {
   "cell_type": "markdown",
   "metadata": {},
   "source": [
    "Consider the `collect` method in the standard collections:\n",
    "\n",
    "```scala\n",
    "class Iterable[+A] extends ... { \n",
    "  /** Filters and maps in a single step. */\n",
    "  def collect[B](pf: PartialFunction[A, B]): Iterable[B] = {\n",
    "    // Note: toy implementation - real implementation is significantly more powerful and performant\n",
    "    this.filter { a => pf.isDefinedAt(a) }.map { a => pf(a) }\n",
    "  }\n",
    "}\n",
    "```\n",
    "\n",
    "To use `collect`, we could manually instantiate a subtype of `PartialFunction`, as we did above.\n",
    "\n",
    "But that's *far* more verbose than simply filtering and then mapping:"
   ]
  },
  {
   "cell_type": "code",
   "execution_count": null,
   "metadata": {},
   "outputs": [],
   "source": [
    "val phoneNumbers = AllPeople.collect(new PartialFunction[Person, PhoneNumber] {\n",
    "  def isDefinedAt(p: Person): Boolean = p.phoneNumber.isDefined\n",
    "  def apply(p: Person): PhoneNumber = p.phoneNumber.get\n",
    "})"
   ]
  },
  {
   "cell_type": "markdown",
   "metadata": {},
   "source": [
    "But, as we just saw, a partial pattern match expression _compiles_ to a partial function, so this works:"
   ]
  },
  {
   "cell_type": "code",
   "execution_count": null,
   "metadata": {},
   "outputs": [],
   "source": [
    "val phoneNumbers = AllPeople.collect { case Person(_, _, _, _, Some(ph)) => ph }"
   ]
  },
  {
   "cell_type": "markdown",
   "metadata": {},
   "source": [
    "### Actors\n",
    "\n",
    "Perhaps the most famous use of defining partial functions via pattern matching is from Akka:"
   ]
  },
  {
   "cell_type": "code",
   "execution_count": null,
   "metadata": {},
   "outputs": [],
   "source": [
    "trait Actor {\n",
    "  def receive: Actor.Receive\n",
    "}\n",
    "\n",
    "object Actor {\n",
    "  type Receive = PartialFunction[Any, Unit]\n",
    "}\n",
    "\n",
    "case class SomeMessage(data: String, reply: Boolean)\n",
    "case class AnotherMessage(data: String, reply: Boolean, expiry: java.time.Instant)\n",
    "\n",
    "class MyActor extends Actor {\n",
    "  def receive = {\n",
    "    case SomeMessage(data, reply) => ???\n",
    "    case AnotherMessage(data, reply, expiry) => ???\n",
    "  }\n",
    "}"
   ]
  },
  {
   "cell_type": "markdown",
   "metadata": {},
   "source": [
    "# Data (Algebraic Data Types)\n",
    "\n",
    "Earlier, we defined a case class as one in which a bunch of code was generated for us. This is a practical way to think about case classes, but limits us in certain ways.\n",
    "\n",
    "Instead, let's reconsider a case class as a kind of *data*. More specifically, as a *labeled tuple*: a tuple with names attached to each value.\n",
    "\n",
    "Contrast `(Int, Int)` with `case class Point(x: Int, y: Int)`:\n",
    "\n",
    " - Both types have the same number of elements (2)\n",
    " - Both types can store the same range of possible values ($2^{64}$)\n",
    " - There's a natural mapping between these types (`_1` &harr; `x`, `_2` &harr; `y`)\n",
    " - The case class has a label attached to each field (`x`, `y`)\n",
    " - The case class has a label attached to the class itself (`Point`)\n",
    "\n",
    "We can think of a case class as a _product_ of some number of types — in the case of `Point`, an `Int` *and* `an `Int`.\n",
    "\n",
    "For example, consider the product of a `Boolean`, `Boolean`, and `Int`:"
   ]
  },
  {
   "cell_type": "code",
   "execution_count": null,
   "metadata": {},
   "outputs": [],
   "source": [
    "case class Woozle(foo: Boolean, bar: Boolean, count: Int)"
   ]
  },
  {
   "cell_type": "markdown",
   "metadata": {},
   "source": [
    "This is a labeled version of the product of `(Boolean, Boolean, Int)` and it has $2 \\cdot 2 \\cdot 2^{32} = 2^{34}$ possible values.\n",
    "\n",
    "Another way to think of this is that a value of the product type $A \\cdot B \\cdot C \\cdot$... \n",
    "consists of a value for `A` and a value for `B` and a value of `C` and so on. \n",
    "\n",
    "We can then consider the dual to product types, where instead of having a type that consists of a value of `A` *and* a value of `B` *and* a value of `C` and so on, we replace the ANDs with ORs. We'll call these sum types for a reason that will become clear in a moment.\n",
    "\n",
    "Let's informally write a sum type as $A + B + C +$..., where a value of this type is a value of `A` *or* a value of `B` *or* a value of `C` and so on. \n",
    "\n",
    "(**Technicality**: Note that just like in the product case, the component types of our sum type do not have to be unique. Our encoding in Scala must be able to handle this without losing track of the \"position\" of a value).\n",
    "\n",
    "So why do we call this a \"sum\" type? Consider the number of values of the type $A + B + C +$...\n",
    "\n",
    "- There's a value of the sum type for each value of `A`, each value of `B`, etc.\n",
    "- The total number of values of the sum type is the number of values of `A` plus the number of values of `B` plus the number of values of `C`, etc.\n",
    "\n",
    "#### Encoding sum types in Scala\n",
    "\n",
    "We could use a standard library data type, `scala.util.Either[L, R]`, but that can get pretty inconvenient pretty quickly as we nest `Either`s. Further, it suffers from the same problem as tuples in that the components are *unlabeled*.\n",
    "\n",
    "Instead, let's use subtyping! We've alread seen some very common examples, in fact.\n",
    "\n",
    "```scala\n",
    "sealed abstract class Option[+A] { ...}\n",
    "case class Some[+A](get: A) extends Option[A]\n",
    "case object None extends Option[Nothing]\n",
    "```\n",
    "\n",
    "Similarly, `List:`\n",
    "\n",
    "```scala\n",
    "sealed abstract class List[+A] { ... }\n",
    "case class ::[+A](head: A, tail: List[A]) extends List[A]\n",
    "case object Nil extends List[Nothing]\n",
    "```\n",
    "\n",
    "These are both sum types, though they feel a bit artificial since they both represent a choice between a singleton and non-singleton. Let's consider a domain specific example."
   ]
  },
  {
   "cell_type": "code",
   "execution_count": null,
   "metadata": {},
   "outputs": [],
   "source": [
    "sealed trait Taxable\n",
    "case class Individual(firstName: String, lastName: String, ssn: String) extends Taxable\n",
    "case class Business(name: String, taxIdNumber: String) extends Taxable\n",
    "\n",
    "def taxId(t: Taxable): String = t match {\n",
    "  case Individual(_, _, ssn) => ssn\n",
    "  case Business(_, tin) => tin\n",
    "}"
   ]
  },
  {
   "cell_type": "markdown",
   "metadata": {},
   "source": [
    "As you can see, there's nothing new here — just standard pattern matching that we've used before. The differences are more about philosophy and design mindset. \n",
    "\n",
    "Instead of thinking about defining classes and methods, we instead:\n",
    "\n",
    "- focus on defining *data*, using product and sum types\n",
    "- and creating functions that operate on that data"
   ]
  },
  {
   "cell_type": "code",
   "execution_count": null,
   "metadata": {},
   "outputs": [],
   "source": []
  }
 ],
 "metadata": {
  "kernelspec": {
   "display_name": "Scala 2.11",
   "language": "scala",
   "name": "scala211"
  },
  "language_info": {
   "codemirror_mode": "text/x-scala",
   "file_extension": ".scala",
   "mimetype": "text/x-scala",
   "name": "scala",
   "nbconvert_exporter": "script",
   "version": "2.11.12"
  }
 },
 "nbformat": 4,
 "nbformat_minor": 2
}
