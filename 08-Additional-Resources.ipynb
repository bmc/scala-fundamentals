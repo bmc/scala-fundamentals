{
 "cells": [
  {
   "cell_type": "markdown",
   "metadata": {},
   "source": [
    "# _Scala Fundamentals_\n",
    "# Additional Resources\n",
    "\n",
    "Here are some additional resources to help you continue your Scala journey.\n",
    "\n",
    "## Books\n",
    "\n",
    "### Introductory\n",
    "\n",
    "* _Atomic Scala_, by Bruce Eckel. <http://www.atomicscala.com/>\n",
    "* _Scala for the Impatient_, by Cay Horstmann. <http://www.informit.com/store/scala-for-the-impatient-9780321774095>\n",
    "* _Programming Scala_, by Dean Wampler and Alex Payne. <http://shop.oreilly.com/product/0636920033073.do>\n",
    "* _Scala in Action_, by Nilanjan Raychaudhuri. <https://www.manning.com/books/scala-in-action>\n",
    "* _Scala Cookbook_, by Alvin Alexander. (A little old now, but packed with great concepts.) <https://www.amazon.com/Scala-Cookbook-Object-Oriented-Functional-Programming/dp/1449339611>\n",
    "\n",
    "### Intermediate\n",
    "\n",
    "* _Functional Programming, Simplified (Scala edition)_ (online book), by Alvin Alexander. <http://alvinalexander.com/scala/fp-book/learning-functional-programming-in-scala>\n",
    "* _Scala in Depth_, by Josh Suereth. <https://www.manning.com/books/scala-in-depth>\n",
    "* _Scala Puzzlers_, by Andrew Phillips and Nermin Šerifović. <http://www.artima.com/shop/scala_puzzlers>\n",
    "* _Programming in Scala, 3rd edition_ (the so-called Staircase Book), by Martin Odersky, Lex Spoon, and Bill Venners. <http://www.artima.com/shop/programming_in_scala_3ed>\n",
    "\n",
    "### More advanced\n",
    "\n",
    "* _Functional Programming in Scala_, by Paul Chiusano and Runár Bjarnason. <https://www.manning.com/books/functional-programming-in-scala>\n",
    "\n",
    "## Online Courses\n",
    "\n",
    "* Functional Programming Principles in Scala (Martin Odersky) <https://www.coursera.org/course/progfun>\n",
    "* _Introduction to Scala_ (Jamie Allen) <https://cognitiveclass.ai/courses/introduction-to-scala/>\n",
    "\n",
    "## Documentation\n",
    "\n",
    "* Current API docs: <http://scala-lang.org/files/archive/api/current/>\n",
    "* Other Scala documentation: <http://scala-lang.org/documentation/>\n",
    "\n",
    "## Open Source Projects\n",
    "\n",
    "* The Scala Library Index <https://index.scala-lang.org/>\n"
   ]
  }
 ],
 "metadata": {
  "kernelspec": {
   "display_name": "Scala 2.11",
   "language": "scala",
   "name": "scala211"
  },
  "language_info": {
   "codemirror_mode": "text/x-scala",
   "file_extension": ".scala",
   "mimetype": "text/x-scala",
   "name": "scala",
   "nbconvert_exporter": "script",
   "version": "2.11.12"
  }
 },
 "nbformat": 4,
 "nbformat_minor": 2
}
